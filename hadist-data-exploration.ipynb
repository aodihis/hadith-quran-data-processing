{
 "cells": [
  {
   "cell_type": "code",
   "id": "initial_id",
   "metadata": {
    "collapsed": true,
    "ExecuteTime": {
     "end_time": "2025-02-14T10:15:39.820158Z",
     "start_time": "2025-02-14T10:15:39.286896Z"
    }
   },
   "source": [
    "import kagglehub\n",
    "\n",
    "# Download latest version\n",
    "path = kagglehub.dataset_download(\"fahd09/hadith-dataset\")\n",
    "\n",
    "print(\"Path to dataset files:\", path)"
   ],
   "outputs": [
    {
     "name": "stdout",
     "output_type": "stream",
     "text": [
      "Path to dataset files: C:\\Users\\aodih\\.cache\\kagglehub\\datasets\\fahd09\\hadith-dataset\\versions\\1\n"
     ]
    }
   ],
   "execution_count": 2
  },
  {
   "metadata": {
    "ExecuteTime": {
     "end_time": "2025-02-14T10:16:03.353738Z",
     "start_time": "2025-02-14T10:16:00.643910Z"
    }
   },
   "cell_type": "code",
   "source": "import pandas as pd",
   "id": "aab137d607bc543a",
   "outputs": [],
   "execution_count": 3
  },
  {
   "metadata": {
    "ExecuteTime": {
     "end_time": "2025-02-14T10:25:33.796241Z",
     "start_time": "2025-02-14T10:25:33.121969Z"
    }
   },
   "cell_type": "code",
   "source": "hadith = pd.read_csv(path + \"/all_hadiths_clean.csv\")",
   "id": "7aa22efdee5353fa",
   "outputs": [],
   "execution_count": 4
  },
  {
   "metadata": {
    "ExecuteTime": {
     "end_time": "2025-02-14T10:25:37.619211Z",
     "start_time": "2025-02-14T10:25:37.595862Z"
    }
   },
   "cell_type": "code",
   "source": "hadith",
   "id": "57b69cc0d9806975",
   "outputs": [
    {
     "data": {
      "text/plain": [
       "        id  hadith_id             source  chapter_no hadith_no  \\\n",
       "0        0          1     Sahih Bukhari            1        1    \n",
       "1        1          2     Sahih Bukhari            1        2    \n",
       "2        2          3     Sahih Bukhari            1        3    \n",
       "3        3          4     Sahih Bukhari            1        4    \n",
       "4        4          5     Sahih Bukhari            1        5    \n",
       "...    ...        ...                ...         ...       ...   \n",
       "34436  173      54223   Sunan Ibn Majah           36     4234    \n",
       "34437  174      54224   Sunan Ibn Majah           36     4235    \n",
       "34438  175      54225   Sunan Ibn Majah           36     4236    \n",
       "34439  176      54226   Sunan Ibn Majah           36     4237    \n",
       "34440  177      54227   Sunan Ibn Majah           36     4238    \n",
       "\n",
       "                           chapter                               chain_indx  \\\n",
       "0      Revelation - كتاب بدء الوحى     30418, 20005, 11062, 11213, 11042, 3   \n",
       "1      Revelation - كتاب بدء الوحى           30355, 20001, 11065, 10511, 53   \n",
       "2      Revelation - كتاب بدء الوحى    30399, 20023, 11207, 11013, 10511, 53   \n",
       "3      Revelation - كتاب بدء الوحى                         11013, 10567, 34   \n",
       "4      Revelation - كتاب بدء الوحى           20040, 20469, 11399, 11050, 17   \n",
       "...                            ...                                      ...   \n",
       "34436    Tribulations - كتاب الفتن  30285, 20733, 20399, 11412, 11027, 3051   \n",
       "34437    Tribulations - كتاب الفتن               30201, 20005, 11013, 11002   \n",
       "34438    Tribulations - كتاب الفتن           30201, 20005, 11061, 11197, 13   \n",
       "34439    Tribulations - كتاب الفتن         30201, 20380, 11272, 11016, 5200   \n",
       "34440    Tribulations - كتاب الفتن           36540, 20596, 11060, 11161, 38   \n",
       "\n",
       "                                                 text_ar  \\\n",
       "0      حدثنا الحميدي عبد الله بن الزبير، قال حدثنا سف...   \n",
       "1      حدثنا عبد الله بن يوسف، قال أخبرنا مالك، عن هش...   \n",
       "2      حدثنا يحيى بن بكير، قال حدثنا الليث، عن عقيل، ...   \n",
       "3      قال ابن شهاب وأخبرني أبو سلمة بن عبد الرحمن، أ...   \n",
       "4      حدثنا موسى بن إسماعيل، قال حدثنا أبو عوانة، قا...   \n",
       "...                                                  ...   \n",
       "34436  حدثنا عبد الرحمن بن إبراهيم، حدثنا الوليد بن م...   \n",
       "34437  حدثنا أبو بكر بن أبي شيبة، حدثنا سفيان بن عيين...   \n",
       "34438  حدثنا أبو بكر بن أبي شيبة، حدثنا سفيان بن عيين...   \n",
       "34439  حدثنا أبو بكر بن أبي شيبة، حدثنا أسود بن عامر،...   \n",
       "34440  حدثنا الحسن بن عرفة، حدثنا عمار بن محمد، عن ال...   \n",
       "\n",
       "                                                 text_en  \n",
       "0            Narrated 'Umar bin Al-Khattab:          ...  \n",
       "1            Narrated 'Aisha:                        ...  \n",
       "2       Narrated 'Aisha:                       (the m...  \n",
       "3       Narrated Jabir bin 'Abdullah Al-Ansari while ...  \n",
       "4            Narrated Said bin Jubair:               ...  \n",
       "...                                                  ...  \n",
       "34436   It was narrated from ‘Awf bin Malik Al-Ashja’...  \n",
       "34437   It was narrated from Abu Hurairah conveying i...  \n",
       "34438   It was narrated from Abu Hurairah that the Me...  \n",
       "34439   It was narrated that ‘Amr bin Taghlib said:  ...  \n",
       "34440   It was narrated from Abu Sa’eed Al-Khudri tha...  \n",
       "\n",
       "[34441 rows x 9 columns]"
      ],
      "text/html": [
       "<div>\n",
       "<style scoped>\n",
       "    .dataframe tbody tr th:only-of-type {\n",
       "        vertical-align: middle;\n",
       "    }\n",
       "\n",
       "    .dataframe tbody tr th {\n",
       "        vertical-align: top;\n",
       "    }\n",
       "\n",
       "    .dataframe thead th {\n",
       "        text-align: right;\n",
       "    }\n",
       "</style>\n",
       "<table border=\"1\" class=\"dataframe\">\n",
       "  <thead>\n",
       "    <tr style=\"text-align: right;\">\n",
       "      <th></th>\n",
       "      <th>id</th>\n",
       "      <th>hadith_id</th>\n",
       "      <th>source</th>\n",
       "      <th>chapter_no</th>\n",
       "      <th>hadith_no</th>\n",
       "      <th>chapter</th>\n",
       "      <th>chain_indx</th>\n",
       "      <th>text_ar</th>\n",
       "      <th>text_en</th>\n",
       "    </tr>\n",
       "  </thead>\n",
       "  <tbody>\n",
       "    <tr>\n",
       "      <th>0</th>\n",
       "      <td>0</td>\n",
       "      <td>1</td>\n",
       "      <td>Sahih Bukhari</td>\n",
       "      <td>1</td>\n",
       "      <td>1</td>\n",
       "      <td>Revelation - كتاب بدء الوحى</td>\n",
       "      <td>30418, 20005, 11062, 11213, 11042, 3</td>\n",
       "      <td>حدثنا الحميدي عبد الله بن الزبير، قال حدثنا سف...</td>\n",
       "      <td>Narrated 'Umar bin Al-Khattab:          ...</td>\n",
       "    </tr>\n",
       "    <tr>\n",
       "      <th>1</th>\n",
       "      <td>1</td>\n",
       "      <td>2</td>\n",
       "      <td>Sahih Bukhari</td>\n",
       "      <td>1</td>\n",
       "      <td>2</td>\n",
       "      <td>Revelation - كتاب بدء الوحى</td>\n",
       "      <td>30355, 20001, 11065, 10511, 53</td>\n",
       "      <td>حدثنا عبد الله بن يوسف، قال أخبرنا مالك، عن هش...</td>\n",
       "      <td>Narrated 'Aisha:                        ...</td>\n",
       "    </tr>\n",
       "    <tr>\n",
       "      <th>2</th>\n",
       "      <td>2</td>\n",
       "      <td>3</td>\n",
       "      <td>Sahih Bukhari</td>\n",
       "      <td>1</td>\n",
       "      <td>3</td>\n",
       "      <td>Revelation - كتاب بدء الوحى</td>\n",
       "      <td>30399, 20023, 11207, 11013, 10511, 53</td>\n",
       "      <td>حدثنا يحيى بن بكير، قال حدثنا الليث، عن عقيل، ...</td>\n",
       "      <td>Narrated 'Aisha:                       (the m...</td>\n",
       "    </tr>\n",
       "    <tr>\n",
       "      <th>3</th>\n",
       "      <td>3</td>\n",
       "      <td>4</td>\n",
       "      <td>Sahih Bukhari</td>\n",
       "      <td>1</td>\n",
       "      <td>4</td>\n",
       "      <td>Revelation - كتاب بدء الوحى</td>\n",
       "      <td>11013, 10567, 34</td>\n",
       "      <td>قال ابن شهاب وأخبرني أبو سلمة بن عبد الرحمن، أ...</td>\n",
       "      <td>Narrated Jabir bin 'Abdullah Al-Ansari while ...</td>\n",
       "    </tr>\n",
       "    <tr>\n",
       "      <th>4</th>\n",
       "      <td>4</td>\n",
       "      <td>5</td>\n",
       "      <td>Sahih Bukhari</td>\n",
       "      <td>1</td>\n",
       "      <td>5</td>\n",
       "      <td>Revelation - كتاب بدء الوحى</td>\n",
       "      <td>20040, 20469, 11399, 11050, 17</td>\n",
       "      <td>حدثنا موسى بن إسماعيل، قال حدثنا أبو عوانة، قا...</td>\n",
       "      <td>Narrated Said bin Jubair:               ...</td>\n",
       "    </tr>\n",
       "    <tr>\n",
       "      <th>...</th>\n",
       "      <td>...</td>\n",
       "      <td>...</td>\n",
       "      <td>...</td>\n",
       "      <td>...</td>\n",
       "      <td>...</td>\n",
       "      <td>...</td>\n",
       "      <td>...</td>\n",
       "      <td>...</td>\n",
       "      <td>...</td>\n",
       "    </tr>\n",
       "    <tr>\n",
       "      <th>34436</th>\n",
       "      <td>173</td>\n",
       "      <td>54223</td>\n",
       "      <td>Sunan Ibn Majah</td>\n",
       "      <td>36</td>\n",
       "      <td>4234</td>\n",
       "      <td>Tribulations - كتاب الفتن</td>\n",
       "      <td>30285, 20733, 20399, 11412, 11027, 3051</td>\n",
       "      <td>حدثنا عبد الرحمن بن إبراهيم، حدثنا الوليد بن م...</td>\n",
       "      <td>It was narrated from ‘Awf bin Malik Al-Ashja’...</td>\n",
       "    </tr>\n",
       "    <tr>\n",
       "      <th>34437</th>\n",
       "      <td>174</td>\n",
       "      <td>54224</td>\n",
       "      <td>Sunan Ibn Majah</td>\n",
       "      <td>36</td>\n",
       "      <td>4235</td>\n",
       "      <td>Tribulations - كتاب الفتن</td>\n",
       "      <td>30201, 20005, 11013, 11002</td>\n",
       "      <td>حدثنا أبو بكر بن أبي شيبة، حدثنا سفيان بن عيين...</td>\n",
       "      <td>It was narrated from Abu Hurairah conveying i...</td>\n",
       "    </tr>\n",
       "    <tr>\n",
       "      <th>34438</th>\n",
       "      <td>175</td>\n",
       "      <td>54225</td>\n",
       "      <td>Sunan Ibn Majah</td>\n",
       "      <td>36</td>\n",
       "      <td>4236</td>\n",
       "      <td>Tribulations - كتاب الفتن</td>\n",
       "      <td>30201, 20005, 11061, 11197, 13</td>\n",
       "      <td>حدثنا أبو بكر بن أبي شيبة، حدثنا سفيان بن عيين...</td>\n",
       "      <td>It was narrated from Abu Hurairah that the Me...</td>\n",
       "    </tr>\n",
       "    <tr>\n",
       "      <th>34439</th>\n",
       "      <td>176</td>\n",
       "      <td>54226</td>\n",
       "      <td>Sunan Ibn Majah</td>\n",
       "      <td>36</td>\n",
       "      <td>4237</td>\n",
       "      <td>Tribulations - كتاب الفتن</td>\n",
       "      <td>30201, 20380, 11272, 11016, 5200</td>\n",
       "      <td>حدثنا أبو بكر بن أبي شيبة، حدثنا أسود بن عامر،...</td>\n",
       "      <td>It was narrated that ‘Amr bin Taghlib said:  ...</td>\n",
       "    </tr>\n",
       "    <tr>\n",
       "      <th>34440</th>\n",
       "      <td>177</td>\n",
       "      <td>54227</td>\n",
       "      <td>Sunan Ibn Majah</td>\n",
       "      <td>36</td>\n",
       "      <td>4238</td>\n",
       "      <td>Tribulations - كتاب الفتن</td>\n",
       "      <td>36540, 20596, 11060, 11161, 38</td>\n",
       "      <td>حدثنا الحسن بن عرفة، حدثنا عمار بن محمد، عن ال...</td>\n",
       "      <td>It was narrated from Abu Sa’eed Al-Khudri tha...</td>\n",
       "    </tr>\n",
       "  </tbody>\n",
       "</table>\n",
       "<p>34441 rows × 9 columns</p>\n",
       "</div>"
      ]
     },
     "execution_count": 5,
     "metadata": {},
     "output_type": "execute_result"
    }
   ],
   "execution_count": 5
  },
  {
   "metadata": {
    "ExecuteTime": {
     "end_time": "2025-02-14T12:46:31.036200Z",
     "start_time": "2025-02-14T12:46:30.938089Z"
    }
   },
   "cell_type": "code",
   "source": "hadith.info()",
   "id": "3b2e67246300ecf8",
   "outputs": [
    {
     "name": "stdout",
     "output_type": "stream",
     "text": [
      "<class 'pandas.core.frame.DataFrame'>\n",
      "RangeIndex: 34441 entries, 0 to 34440\n",
      "Data columns (total 10 columns):\n",
      " #   Column           Non-Null Count  Dtype \n",
      "---  ------           --------------  ----- \n",
      " 0   id               34441 non-null  int64 \n",
      " 1   hadith_id        34441 non-null  int64 \n",
      " 2   source           34441 non-null  object\n",
      " 3   chapter_no       34441 non-null  int64 \n",
      " 4   hadith_no        34441 non-null  object\n",
      " 5   chapter          34441 non-null  object\n",
      " 6   chain_indx       34318 non-null  object\n",
      " 7   text_ar          34433 non-null  object\n",
      " 8   text_en          33588 non-null  object\n",
      " 9   missing_text_en  34441 non-null  int64 \n",
      "dtypes: int64(4), object(6)\n",
      "memory usage: 2.6+ MB\n"
     ]
    }
   ],
   "execution_count": 16
  },
  {
   "metadata": {
    "ExecuteTime": {
     "end_time": "2025-02-14T10:26:56.391967Z",
     "start_time": "2025-02-14T10:26:56.388115Z"
    }
   },
   "cell_type": "code",
   "source": "hadith[\"text_en\"][1]",
   "id": "6511ac5f89b22f6d",
   "outputs": [
    {
     "data": {
      "text/plain": [
       "'      Narrated \\'Aisha:                          (the mother of the faithful believers) Al-Harith bin Hisham asked Allah\\'s Apostle \"O Allah\\'s Apostle! How is the Divine Inspiration revealed to you?\" Allah\\'s Apostle replied, \"Sometimes it is (revealed) like the ringing of a bell, this form of Inspiration is the hardest of all and then this state passes off after I have grasped what is inspired. Sometimes the Angel comes in the form of a man and talks to me and I grasp whatever he says.\" \\'Aisha added: Verily I saw the Prophet being inspired divinely on a very cold day and noticed the sweat dropping from his forehead (as the Inspiration was over).'"
      ]
     },
     "execution_count": 8,
     "metadata": {},
     "output_type": "execute_result"
    }
   ],
   "execution_count": 8
  },
  {
   "metadata": {
    "ExecuteTime": {
     "end_time": "2025-02-14T10:27:27.451966Z",
     "start_time": "2025-02-14T10:27:26.367461Z"
    }
   },
   "cell_type": "code",
   "source": [
    "import seaborn as sns\n",
    "import matplotlib.pyplot as plt"
   ],
   "id": "979bc26d914d19c",
   "outputs": [],
   "execution_count": 9
  },
  {
   "metadata": {
    "ExecuteTime": {
     "end_time": "2025-02-14T10:28:49.573149Z",
     "start_time": "2025-02-14T10:28:48.379367Z"
    }
   },
   "cell_type": "code",
   "source": [
    "ax = plt.axes()\n",
    "sns.heatmap(hadith.isna().transpose(), cbar=False, ax=ax)\n",
    "\n",
    "plt.xlabel(\"Columns\")\n",
    "plt.ylabel(\"Missing Values\")\n",
    "\n",
    "plt.show()"
   ],
   "id": "a24471885a36c63",
   "outputs": [
    {
     "data": {
      "text/plain": [
       "<Figure size 640x480 with 1 Axes>"
      ],
      "image/png": "[encoded data removed]"
     },
     "metadata": {},
     "output_type": "display_data"
    }
   ],
   "execution_count": 10
  },
  {
   "metadata": {
    "ExecuteTime": {
     "end_time": "2025-02-14T10:31:57.761728Z",
     "start_time": "2025-02-14T10:31:57.754007Z"
    }
   },
   "cell_type": "code",
   "source": [
    "import numpy as np\n",
    "\n",
    "hadith[\"missing_text_en\"] = np.where(hadith[\"text_en\"].isna(), 1, 0)"
   ],
   "id": "9ae970a68b759f9b",
   "outputs": [],
   "execution_count": 12
  },
  {
   "metadata": {
    "ExecuteTime": {
     "end_time": "2025-02-14T12:52:00.694225Z",
     "start_time": "2025-02-14T12:52:00.683613Z"
    }
   },
   "cell_type": "code",
   "source": "filtered_missing = hadith[hadith[\"missing_text_en\"] == 0 & ~hadith[\"chain_indx\"].isna()]",
   "id": "e94addae9dde64d9",
   "outputs": [],
   "execution_count": 26
  },
  {
   "metadata": {
    "ExecuteTime": {
     "end_time": "2025-02-14T12:52:02.007112Z",
     "start_time": "2025-02-14T12:52:01.998568Z"
    }
   },
   "cell_type": "code",
   "source": "filtered_missing",
   "id": "ba9fe24d16d27894",
   "outputs": [
    {
     "data": {
      "text/plain": [
       "        id  hadith_id             source  chapter_no hadith_no  \\\n",
       "0        0          1     Sahih Bukhari            1        1    \n",
       "1        1          2     Sahih Bukhari            1        2    \n",
       "2        2          3     Sahih Bukhari            1        3    \n",
       "3        3          4     Sahih Bukhari            1        4    \n",
       "4        4          5     Sahih Bukhari            1        5    \n",
       "...    ...        ...                ...         ...       ...   \n",
       "34436  173      54223   Sunan Ibn Majah           36     4234    \n",
       "34437  174      54224   Sunan Ibn Majah           36     4235    \n",
       "34438  175      54225   Sunan Ibn Majah           36     4236    \n",
       "34439  176      54226   Sunan Ibn Majah           36     4237    \n",
       "34440  177      54227   Sunan Ibn Majah           36     4238    \n",
       "\n",
       "                           chapter                               chain_indx  \\\n",
       "0      Revelation - كتاب بدء الوحى     30418, 20005, 11062, 11213, 11042, 3   \n",
       "1      Revelation - كتاب بدء الوحى           30355, 20001, 11065, 10511, 53   \n",
       "2      Revelation - كتاب بدء الوحى    30399, 20023, 11207, 11013, 10511, 53   \n",
       "3      Revelation - كتاب بدء الوحى                         11013, 10567, 34   \n",
       "4      Revelation - كتاب بدء الوحى           20040, 20469, 11399, 11050, 17   \n",
       "...                            ...                                      ...   \n",
       "34436    Tribulations - كتاب الفتن  30285, 20733, 20399, 11412, 11027, 3051   \n",
       "34437    Tribulations - كتاب الفتن               30201, 20005, 11013, 11002   \n",
       "34438    Tribulations - كتاب الفتن           30201, 20005, 11061, 11197, 13   \n",
       "34439    Tribulations - كتاب الفتن         30201, 20380, 11272, 11016, 5200   \n",
       "34440    Tribulations - كتاب الفتن           36540, 20596, 11060, 11161, 38   \n",
       "\n",
       "                                                 text_ar  \\\n",
       "0      حدثنا الحميدي عبد الله بن الزبير، قال حدثنا سف...   \n",
       "1      حدثنا عبد الله بن يوسف، قال أخبرنا مالك، عن هش...   \n",
       "2      حدثنا يحيى بن بكير، قال حدثنا الليث، عن عقيل، ...   \n",
       "3      قال ابن شهاب وأخبرني أبو سلمة بن عبد الرحمن، أ...   \n",
       "4      حدثنا موسى بن إسماعيل، قال حدثنا أبو عوانة، قا...   \n",
       "...                                                  ...   \n",
       "34436  حدثنا عبد الرحمن بن إبراهيم، حدثنا الوليد بن م...   \n",
       "34437  حدثنا أبو بكر بن أبي شيبة، حدثنا سفيان بن عيين...   \n",
       "34438  حدثنا أبو بكر بن أبي شيبة، حدثنا سفيان بن عيين...   \n",
       "34439  حدثنا أبو بكر بن أبي شيبة، حدثنا أسود بن عامر،...   \n",
       "34440  حدثنا الحسن بن عرفة، حدثنا عمار بن محمد، عن ال...   \n",
       "\n",
       "                                                 text_en  missing_text_en  \n",
       "0            Narrated 'Umar bin Al-Khattab:          ...                0  \n",
       "1            Narrated 'Aisha:                        ...                0  \n",
       "2       Narrated 'Aisha:                       (the m...                0  \n",
       "3       Narrated Jabir bin 'Abdullah Al-Ansari while ...                0  \n",
       "4            Narrated Said bin Jubair:               ...                0  \n",
       "...                                                  ...              ...  \n",
       "34436   It was narrated from ‘Awf bin Malik Al-Ashja’...                0  \n",
       "34437   It was narrated from Abu Hurairah conveying i...                0  \n",
       "34438   It was narrated from Abu Hurairah that the Me...                0  \n",
       "34439   It was narrated that ‘Amr bin Taghlib said:  ...                0  \n",
       "34440   It was narrated from Abu Sa’eed Al-Khudri tha...                0  \n",
       "\n",
       "[33588 rows x 10 columns]"
      ],
      "text/html": [
       "<div>\n",
       "<style scoped>\n",
       "    .dataframe tbody tr th:only-of-type {\n",
       "        vertical-align: middle;\n",
       "    }\n",
       "\n",
       "    .dataframe tbody tr th {\n",
       "        vertical-align: top;\n",
       "    }\n",
       "\n",
       "    .dataframe thead th {\n",
       "        text-align: right;\n",
       "    }\n",
       "</style>\n",
       "<table border=\"1\" class=\"dataframe\">\n",
       "  <thead>\n",
       "    <tr style=\"text-align: right;\">\n",
       "      <th></th>\n",
       "      <th>id</th>\n",
       "      <th>hadith_id</th>\n",
       "      <th>source</th>\n",
       "      <th>chapter_no</th>\n",
       "      <th>hadith_no</th>\n",
       "      <th>chapter</th>\n",
       "      <th>chain_indx</th>\n",
       "      <th>text_ar</th>\n",
       "      <th>text_en</th>\n",
       "      <th>missing_text_en</th>\n",
       "    </tr>\n",
       "  </thead>\n",
       "  <tbody>\n",
       "    <tr>\n",
       "      <th>0</th>\n",
       "      <td>0</td>\n",
       "      <td>1</td>\n",
       "      <td>Sahih Bukhari</td>\n",
       "      <td>1</td>\n",
       "      <td>1</td>\n",
       "      <td>Revelation - كتاب بدء الوحى</td>\n",
       "      <td>30418, 20005, 11062, 11213, 11042, 3</td>\n",
       "      <td>حدثنا الحميدي عبد الله بن الزبير، قال حدثنا سف...</td>\n",
       "      <td>Narrated 'Umar bin Al-Khattab:          ...</td>\n",
       "      <td>0</td>\n",
       "    </tr>\n",
       "    <tr>\n",
       "      <th>1</th>\n",
       "      <td>1</td>\n",
       "      <td>2</td>\n",
       "      <td>Sahih Bukhari</td>\n",
       "      <td>1</td>\n",
       "      <td>2</td>\n",
       "      <td>Revelation - كتاب بدء الوحى</td>\n",
       "      <td>30355, 20001, 11065, 10511, 53</td>\n",
       "      <td>حدثنا عبد الله بن يوسف، قال أخبرنا مالك، عن هش...</td>\n",
       "      <td>Narrated 'Aisha:                        ...</td>\n",
       "      <td>0</td>\n",
       "    </tr>\n",
       "    <tr>\n",
       "      <th>2</th>\n",
       "      <td>2</td>\n",
       "      <td>3</td>\n",
       "      <td>Sahih Bukhari</td>\n",
       "      <td>1</td>\n",
       "      <td>3</td>\n",
       "      <td>Revelation - كتاب بدء الوحى</td>\n",
       "      <td>30399, 20023, 11207, 11013, 10511, 53</td>\n",
       "      <td>حدثنا يحيى بن بكير، قال حدثنا الليث، عن عقيل، ...</td>\n",
       "      <td>Narrated 'Aisha:                       (the m...</td>\n",
       "      <td>0</td>\n",
       "    </tr>\n",
       "    <tr>\n",
       "      <th>3</th>\n",
       "      <td>3</td>\n",
       "      <td>4</td>\n",
       "      <td>Sahih Bukhari</td>\n",
       "      <td>1</td>\n",
       "      <td>4</td>\n",
       "      <td>Revelation - كتاب بدء الوحى</td>\n",
       "      <td>11013, 10567, 34</td>\n",
       "      <td>قال ابن شهاب وأخبرني أبو سلمة بن عبد الرحمن، أ...</td>\n",
       "      <td>Narrated Jabir bin 'Abdullah Al-Ansari while ...</td>\n",
       "      <td>0</td>\n",
       "    </tr>\n",
       "    <tr>\n",
       "      <th>4</th>\n",
       "      <td>4</td>\n",
       "      <td>5</td>\n",
       "      <td>Sahih Bukhari</td>\n",
       "      <td>1</td>\n",
       "      <td>5</td>\n",
       "      <td>Revelation - كتاب بدء الوحى</td>\n",
       "      <td>20040, 20469, 11399, 11050, 17</td>\n",
       "      <td>حدثنا موسى بن إسماعيل، قال حدثنا أبو عوانة، قا...</td>\n",
       "      <td>Narrated Said bin Jubair:               ...</td>\n",
       "      <td>0</td>\n",
       "    </tr>\n",
       "    <tr>\n",
       "      <th>...</th>\n",
       "      <td>...</td>\n",
       "      <td>...</td>\n",
       "      <td>...</td>\n",
       "      <td>...</td>\n",
       "      <td>...</td>\n",
       "      <td>...</td>\n",
       "      <td>...</td>\n",
       "      <td>...</td>\n",
       "      <td>...</td>\n",
       "      <td>...</td>\n",
       "    </tr>\n",
       "    <tr>\n",
       "      <th>34436</th>\n",
       "      <td>173</td>\n",
       "      <td>54223</td>\n",
       "      <td>Sunan Ibn Majah</td>\n",
       "      <td>36</td>\n",
       "      <td>4234</td>\n",
       "      <td>Tribulations - كتاب الفتن</td>\n",
       "      <td>30285, 20733, 20399, 11412, 11027, 3051</td>\n",
       "      <td>حدثنا عبد الرحمن بن إبراهيم، حدثنا الوليد بن م...</td>\n",
       "      <td>It was narrated from ‘Awf bin Malik Al-Ashja’...</td>\n",
       "      <td>0</td>\n",
       "    </tr>\n",
       "    <tr>\n",
       "      <th>34437</th>\n",
       "      <td>174</td>\n",
       "      <td>54224</td>\n",
       "      <td>Sunan Ibn Majah</td>\n",
       "      <td>36</td>\n",
       "      <td>4235</td>\n",
       "      <td>Tribulations - كتاب الفتن</td>\n",
       "      <td>30201, 20005, 11013, 11002</td>\n",
       "      <td>حدثنا أبو بكر بن أبي شيبة، حدثنا سفيان بن عيين...</td>\n",
       "      <td>It was narrated from Abu Hurairah conveying i...</td>\n",
       "      <td>0</td>\n",
       "    </tr>\n",
       "    <tr>\n",
       "      <th>34438</th>\n",
       "      <td>175</td>\n",
       "      <td>54225</td>\n",
       "      <td>Sunan Ibn Majah</td>\n",
       "      <td>36</td>\n",
       "      <td>4236</td>\n",
       "      <td>Tribulations - كتاب الفتن</td>\n",
       "      <td>30201, 20005, 11061, 11197, 13</td>\n",
       "      <td>حدثنا أبو بكر بن أبي شيبة، حدثنا سفيان بن عيين...</td>\n",
       "      <td>It was narrated from Abu Hurairah that the Me...</td>\n",
       "      <td>0</td>\n",
       "    </tr>\n",
       "    <tr>\n",
       "      <th>34439</th>\n",
       "      <td>176</td>\n",
       "      <td>54226</td>\n",
       "      <td>Sunan Ibn Majah</td>\n",
       "      <td>36</td>\n",
       "      <td>4237</td>\n",
       "      <td>Tribulations - كتاب الفتن</td>\n",
       "      <td>30201, 20380, 11272, 11016, 5200</td>\n",
       "      <td>حدثنا أبو بكر بن أبي شيبة، حدثنا أسود بن عامر،...</td>\n",
       "      <td>It was narrated that ‘Amr bin Taghlib said:  ...</td>\n",
       "      <td>0</td>\n",
       "    </tr>\n",
       "    <tr>\n",
       "      <th>34440</th>\n",
       "      <td>177</td>\n",
       "      <td>54227</td>\n",
       "      <td>Sunan Ibn Majah</td>\n",
       "      <td>36</td>\n",
       "      <td>4238</td>\n",
       "      <td>Tribulations - كتاب الفتن</td>\n",
       "      <td>36540, 20596, 11060, 11161, 38</td>\n",
       "      <td>حدثنا الحسن بن عرفة، حدثنا عمار بن محمد، عن ال...</td>\n",
       "      <td>It was narrated from Abu Sa’eed Al-Khudri tha...</td>\n",
       "      <td>0</td>\n",
       "    </tr>\n",
       "  </tbody>\n",
       "</table>\n",
       "<p>33588 rows × 10 columns</p>\n",
       "</div>"
      ]
     },
     "execution_count": 27,
     "metadata": {},
     "output_type": "execute_result"
    }
   ],
   "execution_count": 27
  },
  {
   "metadata": {
    "ExecuteTime": {
     "end_time": "2025-02-14T12:52:04.440698Z",
     "start_time": "2025-02-14T12:52:04.422118Z"
    }
   },
   "cell_type": "code",
   "source": "filtered_missing.info()",
   "id": "bc719c486a9f3b0f",
   "outputs": [
    {
     "name": "stdout",
     "output_type": "stream",
     "text": [
      "<class 'pandas.core.frame.DataFrame'>\n",
      "Index: 33588 entries, 0 to 34440\n",
      "Data columns (total 10 columns):\n",
      " #   Column           Non-Null Count  Dtype \n",
      "---  ------           --------------  ----- \n",
      " 0   id               33588 non-null  int64 \n",
      " 1   hadith_id        33588 non-null  int64 \n",
      " 2   source           33588 non-null  object\n",
      " 3   chapter_no       33588 non-null  int64 \n",
      " 4   hadith_no        33588 non-null  object\n",
      " 5   chapter          33588 non-null  object\n",
      " 6   chain_indx       33536 non-null  object\n",
      " 7   text_ar          33580 non-null  object\n",
      " 8   text_en          33588 non-null  object\n",
      " 9   missing_text_en  33588 non-null  int64 \n",
      "dtypes: int64(4), object(6)\n",
      "memory usage: 2.8+ MB\n"
     ]
    }
   ],
   "execution_count": 28
  },
  {
   "metadata": {
    "ExecuteTime": {
     "end_time": "2025-02-14T12:53:52.552876Z",
     "start_time": "2025-02-14T12:53:51.990513Z"
    }
   },
   "cell_type": "code",
   "source": "filtered_missing.drop(columns=[\"missing_text_en\"], axis=1).to_csv(\"csv/filtered_hadith.csv\", index=False)",
   "id": "c056ccd9d1eb8635",
   "outputs": [],
   "execution_count": 30
  }
 ],
 "metadata": {
  "kernelspec": {
   "display_name": "Python 3",
   "language": "python",
   "name": "python3"
  },
  "language_info": {
   "codemirror_mode": {
    "name": "ipython",
    "version": 2
   },
   "file_extension": ".py",
   "mimetype": "text/x-python",
   "name": "python",
   "nbconvert_exporter": "python",
   "pygments_lexer": "ipython2",
   "version": "2.7.6"
  }
 },
 "nbformat": 4,
 "nbformat_minor": 5
}
