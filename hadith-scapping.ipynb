{
 "cells": [
  {
   "cell_type": "code",
   "id": "initial_id",
   "metadata": {
    "collapsed": true,
    "ExecuteTime": {
     "end_time": "2025-02-17T03:11:52.957032Z",
     "start_time": "2025-02-17T03:11:52.484700Z"
    }
   },
   "source": [
    "from gettext import dpgettext\n",
    "\n",
    "import requests\n",
    "from bs4 import BeautifulSoup"
   ],
   "outputs": [],
   "execution_count": 1
  },
  {
   "metadata": {
    "ExecuteTime": {
     "end_time": "2025-02-17T03:12:10.533717Z",
     "start_time": "2025-02-17T03:12:10.159181Z"
    }
   },
   "cell_type": "code",
   "source": [
    "url = \"https://hadits.site/shahih\"\n",
    "response = requests.get(url)"
   ],
   "id": "13c51db7ba2a1258",
   "outputs": [],
   "execution_count": 2
  },
  {
   "metadata": {
    "ExecuteTime": {
     "end_time": "2025-02-17T03:12:15.708248Z",
     "start_time": "2025-02-17T03:12:15.700647Z"
    }
   },
   "cell_type": "code",
   "source": "response",
   "id": "1990dfc3db122566",
   "outputs": [
    {
     "data": {
      "text/plain": [
       "<Response [200]>"
      ]
     },
     "execution_count": 3,
     "metadata": {},
     "output_type": "execute_result"
    }
   ],
   "execution_count": 3
  },
  {
   "metadata": {
    "ExecuteTime": {
     "end_time": "2025-02-17T03:12:19.036898Z",
     "start_time": "2025-02-17T03:12:19.031398Z"
    }
   },
   "cell_type": "code",
   "source": "response.text",
   "id": "15e2181ec14ca456",
   "outputs": [
    {
     "data": {
      "text/plain": [
       "'<!DOCTYPE html>\\n<html>\\n<head><meta http-equiv=\"Content-Type\" content=\"text/html; charset=utf-8\">\\n  \\n  <meta http-equiv=\"X-UA-Compatible\" content=\"IE=edge\">\\n  <title>\\n          Hadits.Site | Mencari Hadits Dan Derajatnya\\n      </title>\\n  <!-- Tell the browser to be responsive to screen width -->\\n  <meta name=\"description\" content=\"Aplikasi hadits.site membantu untuk menelusuri hadits-hadits Nabi dan kesimpulan derajatnya berdasarkan penilaian para ulama\">\\n  <meta name=\"keywords\" content=\"aplikasi,hadits,hadis,hadits Nabi,derajat hadits,palsu,dhaif,sahih,shahih,ulama,ahli hadits\">\\n  <meta name=\"robots\" content=\"index,follow\">\\n  <meta name=\"viewport\" content=\"width=device-width, initial-scale=1\">\\n  \\n  <meta name=\"csrf-token\" content=\"PH0hs50EwGrxqQV7Vq6slTXAHMdiIfbOorqbRuK6\" />\\n  <meta property=\"og:site_name\" content=\"Hadits.Site\" />\\n  <meta property=\"og:type\" content=\"website\" />\\n      <meta property=\"og:title\" content=\"Hadits.Site | Mencari Hadits Dan Derajatnya\" />\\n    <meta name=\"twitter:text:title\" content=\"Hadits.Site | Mencari Hadits Dan Derajatnya\" />\\n    <meta property=\"og:url\" content=\"https://hadits.site/shahih\" />\\n  <meta property=\"og:image\" content=\"https://hadits.site/img/logo-cari-hadits-200.png\" />\\n  \\n      <meta property=\"og:description\" content=\"Aplikasi hadits.site membantu untuk menelusuri hadits-hadits Nabi dan kesimpulan derajatnya berdasarkan penilaian para ulama\" />\\n    <meta property=\"og:locale\" content=\"id_ID\" />\\n  \\n  <meta name=\"twitter:image\" content=\"https://hadits.site/img/logo-cari-hadits-200.png\" />\\n  <meta name=\"twitter:image:alt\" content=\"hadits shahih\" />\\n  <meta name=\"twitter:card\" content=\"summary_large_image\" />\\n\\n  <!-- Font Awesome -->\\n  <link rel=\"stylesheet\" href=\"https://hadits.site/vendor/fontawesome-free/css/all.min.css\">\\n  <!-- Theme style -->\\n  <link rel=\"stylesheet\" href=\"https://hadits.site/vendor/admin-lte/adminlte.min.css\">\\n  <!-- App style -->\\n  <link rel=\"stylesheet\" href=\"https://hadits.site/css/app.css\">\\n  <!-- Google Font: Source Sans Pro -->\\n  \\n  <link rel=\"icon\" href=\"https://hadits.site/img/favicon.png\" type=\"image/png\" sizes=\"32x32\">\\n  <!-- Global site tag (gtag.js) - Google Analytics -->\\n  <script async src=\"https://www.googletagmanager.com/gtag/js?id=UA-54739944-11\"></script>\\n  <script>\\n      window.dataLayer = window.dataLayer || [];\\n      function gtag(){dataLayer.push(arguments);}\\n      gtag(\\'js\\', new Date());\\n    \\n      gtag(\\'config\\', \\'UA-54739944-11\\');\\n  </script>\\n  <script src=\"https://code.jquery.com/jquery-1.12.4.min.js\" integrity=\"sha256-ZosEbRLbNQzLpnKIkEdrPv7lOy9C27hHQ+Xp8a4MxAQ=\" crossorigin=\"anonymous\"></script>\\n\\n  <!-- Load Facebook SDK for JavaScript -->\\n  <script>(function(d, s, id) {\\n    var js, fjs = d.getElementsByTagName(s)[0];\\n    if (d.getElementById(id)) return;\\n    js = d.createElement(s); js.id = id;\\n    js.src = \"https://connect.facebook.net/en_US/sdk.js#xfbml=1&version=v3.0\";\\n    fjs.parentNode.insertBefore(js, fjs);\\n    }(document, \\'script\\', \\'facebook-jssdk\\'));\\n  </script>\\n</head>\\n\\n<body class=\"hold-transition layout-top-nav layout-navbar-fixed\">\\n<div class=\"wrapper\">\\n\\n  <!-- Navbar -->\\n  <nav class=\"main-header navbar navbar-expand-md navbar-light navbar-white\">\\n    <div class=\"container\">\\n      <a href=\"https://hadits.site\" class=\"navbar-brand\">\\n        <img src=\"https://hadits.site/img/logo-cari-hadits.png\" alt=\"Cari hadits shahih logo\" class=\"brand-image img-circle\" style=\"opacity: .8\">\\n        <span class=\"brand-text font-weight-light\">Hadits Shahih</span>\\n      </a>\\n\\n      <!-- Right navbar links -->\\n      <ul class=\"order-1 order-md-3 navbar-nav navbar-no-expand ml-auto\">\\n        <!-- Messages Dropdown Menu -->\\n                              <li class=\"nav-item\">\\n<a href=\"https://hadits.site/profil\" class=\"nav-link\">Tentang Kami</a>\\n</li>\\n<li class=\"nav-item\">\\n<a href=\"/shahih\" class=\"nav-link\">Hadits Shahih</a>\\n</li>\\n<li class=\"nav-item\">\\n<a href=\"/dhaif\" class=\"nav-link\">Hadits Dha\\'if</a>\\n</li>\\n<li class=\"nav-item\">\\n<a href=\"/daftar\" class=\"nav-link\">Ma\\'had Online</a>\\n</li>\\n<li class=\"nav-item\">\\n<a href=\"https://hadits.site/donasi\" class=\"nav-link\">Donasi</a>\\n</li>              </ul>\\n    </div>\\n  </nav>\\n  <!-- /.navbar -->\\n\\n\\n  <!-- Content Wrapper. Contains page content -->\\n  <div class=\"content-wrapper\">\\n        <div class=\"container w-50 p-3\">\\n            <!-- SEARCH FORM -->\\n              <form method=\"GET\" action=\"https://hadits.site/home\" class=\"form-inline ml-0 ml-md-3 mr-0 mr-md-3 form-search\">\\n                \\n                <div class=\"input-group input-group-sm\">\\n                  <input name=\"q\" class=\"form-control form-control-navbar\" type=\"search\" placeholder=\"Cari hadits dengan bahasa indonesia atau bahasa arab...\" aria-label=\"Search\" value=\"\">\\n                  <div class=\"input-group-append\">\\n                    <button class=\"btn btn-navbar\" type=\"submit\">\\n                      <i class=\"fas fa-search\"></i>\\n                    </button>\\n                  </div>\\n                </div>\\n              </form>\\n        </div>\\n        \\n        <div class=\"container\">\\n              <!-- Content Header (Page header) -->\\n  <div class=\"content-header\">\\n    <div class=\"container\">\\n\\n      <div class=\"row mb-2\">\\n        <div class=\"col-sm-6\">\\n                      <h6 class=\"m-0 text-muted\" style=\"line-height: 31px;\">Menampilkan 1-5 of 783</h6>\\n                  </div><!-- /.col -->\\n                  <div class=\"col-sm-6\">\\n            <nav>\\n        <ul class=\"pagination pagination-sm m-0 float-right\">\\n            \\n                            <li class=\"page-item disabled\" aria-disabled=\"true\" aria-label=\"&laquo; Previous\">\\n                    <span class=\"page-link\" aria-hidden=\"true\">&lsaquo;</span>\\n                </li>\\n            \\n            \\n                            \\n                \\n                \\n                                                                                        <li class=\"page-item active\" aria-current=\"page\"><span class=\"page-link\">1</span></li>\\n                                                                                                <li class=\"page-item\"><a class=\"page-link\" href=\"https://hadits.site/shahih?page=2\">2</a></li>\\n                                                                                                <li class=\"page-item\"><a class=\"page-link\" href=\"https://hadits.site/shahih?page=3\">3</a></li>\\n                                                                                                <li class=\"page-item\"><a class=\"page-link\" href=\"https://hadits.site/shahih?page=4\">4</a></li>\\n                                                                                                <li class=\"page-item\"><a class=\"page-link\" href=\"https://hadits.site/shahih?page=5\">5</a></li>\\n                                                                                                <li class=\"page-item\"><a class=\"page-link\" href=\"https://hadits.site/shahih?page=6\">6</a></li>\\n                                                                                                <li class=\"page-item\"><a class=\"page-link\" href=\"https://hadits.site/shahih?page=7\">7</a></li>\\n                                                                                                <li class=\"page-item\"><a class=\"page-link\" href=\"https://hadits.site/shahih?page=8\">8</a></li>\\n                                                                                        \\n                                    <li class=\"page-item disabled\" aria-disabled=\"true\"><span class=\"page-link\">...</span></li>\\n                \\n                \\n                                            \\n                \\n                \\n                                                                                        <li class=\"page-item\"><a class=\"page-link\" href=\"https://hadits.site/shahih?page=156\">156</a></li>\\n                                                                                                <li class=\"page-item\"><a class=\"page-link\" href=\"https://hadits.site/shahih?page=157\">157</a></li>\\n                                                                        \\n            \\n                            <li class=\"page-item\">\\n                    <a class=\"page-link\" href=\"https://hadits.site/shahih?page=2\" rel=\"next\" aria-label=\"Next &raquo;\">&rsaquo;</a>\\n                </li>\\n                    </ul>\\n    </nav>\\n\\n          </div><!-- /.col -->\\n              </div><!-- /.row -->\\n\\n    </div><!-- /.container-fluid -->\\n  </div>\\n  <!-- /.content-header -->\\n\\n  <!-- Main content -->\\n  <div class=\"content\">\\n    <div class=\"container\" id=\"result\">\\n      <div class=\"row\">\\n        <div class=\"col-12\">\\n          \\n                                <div class=\"card result-item\">\\n              <div class=\"card-header\">\\n                <a href=\"/hadits/1393\"><img height=\"17\" src=\"https://hadits.site/img/link.png\" /></a>\\n              </div>\\n              <div class=\"card-body\">\\n\\n                <div class=\"row\">\\n                  <div class=\"col-md-12\">\\n                    <p class=\"text-arabic result-text arabic\">فِي رِوَايَتِهِ &quot;إِذَا وَلَدَتِ الأَمَةُ بَعْلَهَا&quot; يَعْنِي السَّرَارِيّ</p>\\n                  </div>\\n                  <div class=\"col-md-12\">\\n                    <p class=\"result-text\">“Dalam riwayat lain, &quot;... ketika para al-amatu melahirkan tuannya&quot;, al-amatu maksudnya para budak wanita yang digauli.”</p>\\n                  </div>\\n                </div>\\n                \\n              </div>\\n              <div class=\"card-footer\">\\n                <span class=\"\" style=\"font-size: 0.9em;\">\\n                  <span class=\"text-muted\">Perawi:</span> <a href=\"https://hadits.site/home?q=Abu%2BHurairah\">Abu Hurairah</a>\\n                  <span class=\"text-muted\">Ulama hadits:</span> <a href=\"https://hadits.site/home?q=Muslim%2Bbin%2BHajjaj\">Muslim bin Hajjaj</a>\\n                  <span class=\"text-muted\">Nama kitab:</span> <a href=\"https://hadits.site/home?q=Shahih%2BMuslim\">Shahih Muslim</a>\\n                   <span class=\"text-muted\">Nomor:</span> <strong>6</strong>                                      <span class=\"text-muted\">Derajat hadits:</span> Shahih                   <span class=\"\" style=\"float: right;\"><div class=\"fb-share-button\" data-href=\"/hadits/1393\" data-layout=\"button_count\"></div><p></p></span>\\n                </span>\\n                \\n              </div>\\n              \\n            </div>\\n                      <div class=\"card result-item\">\\n              <div class=\"card-header\">\\n                <a href=\"/hadits/1392\"><img height=\"17\" src=\"https://hadits.site/img/link.png\" /></a>\\n              </div>\\n              <div class=\"card-body\">\\n\\n                <div class=\"row\">\\n                  <div class=\"col-md-12\">\\n                    <p class=\"text-arabic result-text arabic\">عَنْ يَحْيَى بْنِ يَعْمَرَ، عَنِ ابْنِ عُمَرَ، عَنْ عُمَرَ، عَنِ النَّبِيِّ صَلَّى اللَّهُ عليه وسلم، بنحو حديثهم</p>\\n                  </div>\\n                  <div class=\"col-md-12\">\\n                    <p class=\"result-text\">“Dari Yahya bin Ya&#039;mar dari Ibnu Umar, dari Umar radhiallahu&#039;anhu, dari Nabi Shallallahu&#039;alaihi Wasallam, sama dengan hadits sebelumnya.”</p>\\n                  </div>\\n                </div>\\n                \\n              </div>\\n              <div class=\"card-footer\">\\n                <span class=\"\" style=\"font-size: 0.9em;\">\\n                  <span class=\"text-muted\">Perawi:</span> <a href=\"https://hadits.site/home?q=Abdullah%2Bbin%2BUmar\">Abdullah bin Umar</a>\\n                  <span class=\"text-muted\">Ulama hadits:</span> <a href=\"https://hadits.site/home?q=Muslim%2Bbin%2BHajjaj\">Muslim bin Hajjaj</a>\\n                  <span class=\"text-muted\">Nama kitab:</span> <a href=\"https://hadits.site/home?q=Shahih%2BMuslim\">Shahih Muslim</a>\\n                   <span class=\"text-muted\">Nomor:</span> <strong>4</strong>                                      <span class=\"text-muted\">Derajat hadits:</span> Shahih                   <span class=\"\" style=\"float: right;\"><div class=\"fb-share-button\" data-href=\"/hadits/1392\" data-layout=\"button_count\"></div><p></p></span>\\n                </span>\\n                \\n              </div>\\n              \\n            </div>\\n                      <div class=\"card result-item\">\\n              <div class=\"card-header\">\\n                <a href=\"/hadits/1391\"><img height=\"17\" src=\"https://hadits.site/img/link.png\" /></a>\\n              </div>\\n              <div class=\"card-body\">\\n\\n                <div class=\"row\">\\n                  <div class=\"col-md-12\">\\n                    <p class=\"text-arabic result-text arabic\">عن يحيى بن يَعْمَرَ، وَحُمَيْدِ بْنِ عَبْدِ الرَّحْمَنِ؛ قَالَا: لَقِينَا عَبْدَ اللَّهِ بْنَ عُمَرَ. فَذَكَرْنَا الْقَدَرَ وَمَا يَقُولُونَ فِيهِ. فَاقْتَصَّ الْحَدِيثَ كَنَحْوِ حَدِيثِهِمْ. عَنْ عُمَرَ رَضِيَ اللَّهُ عَنْهُ، عَنِ النَّبِيِّ صَلَّى اللَّهُ عَلَيْهِ وَسَلَّمَ، وَفِيهِ شَيْءٌ مِنْ زِيَادَةٍ، وَقَدْ نَقَصَ مِنْهُ شَيْئًا</p>\\n                  </div>\\n                  <div class=\"col-md-12\">\\n                    <p class=\"result-text\">“Dari Yahya bin Ya&#039;mar dan Humaid bin &#039;Abdur-Rahman keduanya berkata: &quot;Kami bertemu dengan Abdullah bin Umar, dan kami bertanya tentang masalah takdir dan keyakinan para pengikut Ma&#039;bad Al Juhani dalam masalah takdir&quot;. Kemudian Yahya bin Ya&#039;mar menyebutkan hadits yang sama dengan hadits sebelumnya, dari Umar radhiallahu&#039;anhu, dari Nabi Shallallahu&#039;alaihi Wasallam. Dengan beberapa tambahan dan pengurangan di dalamnya.”</p>\\n                  </div>\\n                </div>\\n                \\n              </div>\\n              <div class=\"card-footer\">\\n                <span class=\"\" style=\"font-size: 0.9em;\">\\n                  <span class=\"text-muted\">Perawi:</span> <a href=\"https://hadits.site/home?q=Abdullah%2Bbin%2BUmar\">Abdullah bin Umar</a>\\n                  <span class=\"text-muted\">Ulama hadits:</span> <a href=\"https://hadits.site/home?q=Muslim%2Bbin%2BHajjaj\">Muslim bin Hajjaj</a>\\n                  <span class=\"text-muted\">Nama kitab:</span> <a href=\"https://hadits.site/home?q=Shahih%2BMuslim\">Shahih Muslim</a>\\n                   <span class=\"text-muted\">Nomor:</span> <strong>3</strong>                                      <span class=\"text-muted\">Derajat hadits:</span> Shahih                   <span class=\"\" style=\"float: right;\"><div class=\"fb-share-button\" data-href=\"/hadits/1391\" data-layout=\"button_count\"></div><p></p></span>\\n                </span>\\n                \\n              </div>\\n              \\n            </div>\\n                      <div class=\"card result-item\">\\n              <div class=\"card-header\">\\n                <a href=\"/hadits/1390\"><img height=\"17\" src=\"https://hadits.site/img/link.png\" /></a>\\n              </div>\\n              <div class=\"card-body\">\\n\\n                <div class=\"row\">\\n                  <div class=\"col-md-12\">\\n                    <p class=\"text-arabic result-text arabic\">عَنْ يَحْيَى بْنِ يَعْمَرَ قَالَ لَمَّا تَكَلَّمَ مَعْبَدٌ بِمَا تَكَلَّمَ بِهِ فِي شَأْنِ الْقَدَرِ أَنْكَرْنَا ذَلِكَ قَالَ فَحَجَجْتُ أَنَا وَحُمَيْدُ بْنُ عَبْدِ الرَّحْمَنِ الْحِمْيَرِيُّ حَجَّةً وَسَاقُوا الْحَدِيثَ بِمَعْنَى حَدِيثِ كَهْمَسٍ وَإِسْنَادِهِ وَفِيهِ بَعْضُ زِيَادَةٍ وَنُقْصَانُ أَحْرُفٍ</p>\\n                  </div>\\n                  <div class=\"col-md-12\">\\n                    <p class=\"result-text\">“Yahya bin Ya&#039;mar berkata: &quot;Ketika Ma&#039;bad mulai berbicara tentang takdir, kami pun mengingkari hal itu. Ketika aku dan Humaid bin &#039;Abdur-Rahman Al-Himyari pergi untuk Haji ...&quot; redaksi hadits sama dengan hadits sebelumnya secara makna dan sanad. Dengan beberapa tambahan dan pengurangan di dalamnya.”</p>\\n                  </div>\\n                </div>\\n                \\n              </div>\\n              <div class=\"card-footer\">\\n                <span class=\"\" style=\"font-size: 0.9em;\">\\n                  <span class=\"text-muted\">Perawi:</span> <a href=\"https://hadits.site/home?q=Abdullah%2Bbin%2BUmar\">Abdullah bin Umar</a>\\n                  <span class=\"text-muted\">Ulama hadits:</span> <a href=\"https://hadits.site/home?q=Muslim%2Bbin%2BHajjaj\">Muslim bin Hajjaj</a>\\n                  <span class=\"text-muted\">Nama kitab:</span> <a href=\"https://hadits.site/home?q=Shahih%2BMuslim\">Shahih Muslim</a>\\n                   <span class=\"text-muted\">Nomor:</span> <strong>2</strong>                                      <span class=\"text-muted\">Derajat hadits:</span> Shahih                   <span class=\"\" style=\"float: right;\"><div class=\"fb-share-button\" data-href=\"/hadits/1390\" data-layout=\"button_count\"></div><p></p></span>\\n                </span>\\n                \\n              </div>\\n              \\n            </div>\\n                      <div class=\"card result-item\">\\n              <div class=\"card-header\">\\n                <a href=\"/hadits/1389\"><img height=\"17\" src=\"https://hadits.site/img/link.png\" /></a>\\n              </div>\\n              <div class=\"card-body\">\\n\\n                <div class=\"row\">\\n                  <div class=\"col-md-12\">\\n                    <p class=\"text-arabic result-text arabic\">كَانَ أَوَّلَ مَنْ قَالَ فِي الْقَدَرِ بِالْبَصْرَةِ مَعْبَدٌ الْجُهَنِيُّ، فَانْطَلَقْتُ أَنَا وَحُمَيْدُ بْنُ عَبْدِ الرَّحْمَنِ الْحِمْيَرِيُّ حَاجَّيْنِ – أَوْ مُعْتَمِرَيْنِ – فَقُلْنَا: لَوْ لَقِينَا أَحَدًا مَنْ أَصْحَابِ رَسُولِ اللهِ صَلَّى اللهُ عَلَيْهِ وَسَلَّمَ، فَسَأَلْنَاهُ عَمَّا يَقُولُ هَؤُلَاءِ فِي الْقَدَرِ، فَوُفِّقَ لَنَا عَبْدُ اللهِ بْنُ عُمَرَ بْنِ الْخَطَّابِ دَاخِلًا الْمَسْجِدَ، فَاكْتَنَفْتُهُ أَنَا وَصَاحِبِي أَحَدُنَا عَنْ يَمِينِهِ، وَالْآخَرُ عَنْ شِمَالِهِ، فَظَنَنْتُ أَنَّ صَاحِبِي سَيَكِلُ الْكَلَامَ إِلَيَّ، فَقُلْتُ [ص:37]: أَبَا عَبْدِ الرَّحْمَنِ إِنَّهُ قَدْ ظَهَرَ قِبَلَنَا نَاسٌ يَقْرَءُونَ الْقُرْآنَ، وَيَتَقَفَّرُونَ الْعِلْمَ، وَذَكَرَ مِنْ شَأْنِهِمْ، وَأَنَّهُمْ يَزْعُمُونَ أَنْ لَا قَدَرَ، وَأَنَّ الْأَمْرَ أُنُفٌ، قَالَ: «فَإِذَا لَقِيتَ أُولَئِكَ فَأَخْبِرْهُمْ أَنِّي بَرِيءٌ مِنْهُمْ، وَأَنَّهُمْ بُرَآءُ مِنِّي»، وَالَّذِي يَحْلِفُ بِهِ عَبْدُ اللهِ بْنُ عُمَرَ «لَوْ أَنَّ لِأَحَدِهِمْ مِثْلَ أُحُدٍ ذَهَبًا، فَأَنْفَقَهُ مَا قَبِلَ اللهُ مِنْهُ حَتَّى يُؤْمِنَ بِالْقَدَرِ» ثُمَّ قَالَ: حَدَّثَنِي أَبِي عُمَرُ بْنُ الْخَطَّابِ قَالَ: بَيْنَمَا نَحْنُ عِنْدَ رَسُولِ اللهِ صَلَّى اللهُ عَلَيْهِ وَسَلَّمَ ذَاتَ يَوْمٍ، إِذْ طَلَعَ عَلَيْنَا رَجُلٌ شَدِيدُ بَيَاضِ الثِّيَابِ، شَدِيدُ سَوَادِ الشَّعَرِ، لَا يُرَى عَلَيْهِ أَثَرُ السَّفَرِ، وَلَا يَعْرِفُهُ مِنَّا أَحَدٌ، حَتَّى جَلَسَ إِلَى النَّبِيِّ صَلَّى اللهُ عَلَيْهِ وَسَلَّمَ، فَأَسْنَدَ رُكْبَتَيْهِ إِلَى رُكْبَتَيْهِ، وَوَضَعَ كَفَّيْهِ عَلَى فَخِذَيْهِ، وَقَالَ: يَا مُحَمَّدُ أَخْبِرْنِي عَنِ الْإِسْلَامِ، فَقَالَ رَسُولُ اللهِ صَلَّى اللهُ عَلَيْهِ وَسَلَّمَ: «الْإِسْلَامُ أَنْ تَشْهَدَ أَنْ لَا إِلَهَ إِلَّا اللهُ وَأَنَّ مُحَمَّدًا رَسُولُ اللهِ صَلَّى اللهُ عَلَيْهِ وَسَلَّمَ، وَتُقِيمَ الصَّلَاةَ، وَتُؤْتِيَ الزَّكَاةَ، وَتَصُومَ رَمَضَانَ، وَتَحُجَّ الْبَيْتَ إِنِ اسْتَطَعْتَ إِلَيْهِ سَبِيلًا»، قَالَ: صَدَقْتَ، قَالَ: فَعَجِبْنَا لَهُ يَسْأَلُهُ، وَيُصَدِّقُهُ، قَالَ: فَأَخْبِرْنِي عَنِ الْإِيمَانِ، قَالَ: «أَنْ تُؤْمِنَ بِاللهِ، وَمَلَائِكَتِهِ، وَكُتُبِهِ، وَرُسُلِهِ، وَالْيَوْمِ الْآخِرِ، وَتُؤْمِنَ بِالْقَدَرِ خَيْرِهِ وَشَرِّهِ»، قَالَ: صَدَقْتَ، قَالَ: فَأَخْبِرْنِي عَنِ الْإِحْسَانِ، قَالَ: «أَنْ تَعْبُدَ اللهَ كَأَنَّكَ تَرَاهُ، فَإِنْ لَمْ تَكُنْ تَرَاهُ فَإِنَّهُ يَرَاكَ»، قَالَ: فَأَخْبِرْنِي عَنِ السَّاعَةِ، قَالَ: «مَا الْمَسْئُولُ عَنْهَا بِأَعْلَمَ مِنَ السَّائِلِ» قَالَ: فَأَخْبِرْنِي عَنْ أَمَارَتِهَا، قَالَ: «أَنْ تَلِدَ الْأَمَةُ رَبَّتَهَا، وَأَنْ تَرَى الْحُفَاةَ الْعُرَاةَ الْعَالَةَ رِعَاءَ الشَّاءِ يَتَطَاوَلُونَ فِي الْبُنْيَانِ»، قَالَ: ثُمَّ انْطَلَقَ فَلَبِثْتُ مَلِيًّا، ثُمَّ قَالَ لِي: «يَا عُمَرُ أَتَدْرِي مَنِ السَّائِلُ؟» قُلْتُ: اللهُ وَرَسُولُهُ أَعْلَمُ، قَالَ: فَإِنَّهُ جِبْرِيلُ أَتَاكُمْ يُعَلِّمُكُمْ دِينَكُمْ</p>\\n                  </div>\\n                  <div class=\"col-md-12\">\\n                    <p class=\"result-text\">“Orang yang pertama kali membahas takdir di Bashrah adalah Ma&#039;bad al-Juhani, maka aku dan Humaid bin Abdurrahman al-Himyari bertolak haji atau umrah, maka kami berkata, &#039;Seandainya kami bertemu dengan salah seorang sahabat Rasulullah shallallahu &#039;alaihi wasallam, maka kami akan bertanya kepadanya tentang sesuatu yang mereka katakan berkaitan dengan takdir.&#039; Maka [Abdullah bin Umar] diberikan taufik (oleh Allah) untuk kami, sedangkan dia masuk masjid. Lalu aku dan temanku menghadangnya. Salah seorang dari kami di sebelah kanannya dan yang lain di sebelah kirinya. Lalu aku mengira bahwa temanku akan mewakilkan pembicaraan kepadaku, maka aku berkata, &#039;Wahai Abu Abdurrahman, sesungguhnya nampak di hadapan kami suatu kaum membaca al-Qur&#039;an dan mencari ilmu lalu mengklaim bahwa tidak ada takdir, dan perkaranya adalah baru (tidak didahului oleh takdir dan ilmu Allah).&#039; Maka [Abdullah bin Umar] menjawab, &#039;Apabila kamu bertemu orang-orang tersebut, maka kabarkanlah kepada mereka bahwa saya berlepas diri dari mereka, dan bahwa mereka berlepas diri dariku. Dan demi Dzat yang mana hamba Allah bersumpah dengan-Nya, kalau seandainya salah seorang dari kalian menafkahkan emas seperti gunung Uhud, niscaya sedekahnya tidak akan diterima hingga dia beriman kepada takdir baik dan buruk.&#039; Dia berkata, &#039;Kemudian dia mulai menceritakan hadits seraya berkata, [&#039;Umar bin al-Khaththab] berkata, &#039;Dahulu kami pernah berada di sisi Rasulullah shallallahu &#039;alaihi wasallam, lalu datanglah seorang laki-laki yang bajunya sangat putih, rambutnya sangat hitam, tidak tampak padanya bekas-bekas perjalanan. Tidak seorang pun dari kami mengenalnya, hingga dia mendatangi Nabi Shallallahu &#039;Alaihi Wasalam lalu menyandarkan lututnya pada lutut Nabi Shallallahu &#039;Alaihi Wasalam, kemudian ia berkata, &#039;Wahai Muhammad, kabarkanlah kepadaku tentang Islam? &#039; Rasulullah Shallallahu &#039;Alaihi Wasalam menjawab: &quot;Kesaksian bahwa tidak ada tuhan (yang berhak disembah) selain Allah dan bahwa Muhammad adalah hamba dan utusan-Nya, mendirikan shalat, menunaikan zakat, dan puasa Ramadlan, serta haji ke Baitullah jika kamu mampu bepergian kepadanya.&#039; Dia berkata, &#039;Kamu benar.&#039; Umar berkata, &#039;Maka kami kaget terhadapnya karena dia menanyakannya dan membenarkannya.&#039; Dia bertanya lagi, &#039;Kabarkanlah kepadaku tentang iman itu? &#039; Beliau menjawab: &quot;Kamu beriman kepada Allah, malaikat-malaikat-Nya, kitab-kitab-Nya, para Rasul-Nya, hari akhir, dan takdir baik dan buruk.&quot; Dia berkata, &#039;Kamu benar.&#039; Dia bertanya, &#039;Kabarkanlah kepadaku tentang ihsan itu? &#039; Beliau menjawab: &quot;Kamu menyembah Allah seakan-akan kamu melihat-Nya, maka jika kamu tidak melihat-Nya, maka sesungguhnya Dia melihatmu.&quot; Dia bertanya lagi, &#039;Kapankah hari akhir itu? &#039; Beliau menjawab: &quot;Tidaklah orang yang ditanya itu lebih mengetahui daripada orang yang bertanya.&quot; Dia bertanya, &#039;Lalu kabarkanlah kepadaku tentang tanda-tandanya? &#039; Beliau menjawab: &quot;Apabila seorang budak melahirkan (anak) tuan-Nya, dan kamu melihat orang yang tidak beralas kaki, telanjang, miskin, penggembala kambing, namun bermegah-megahan dalam membangun bangunan.&quot; Kemudian dia bertolak pergi. Maka aku tetap saja heran kemudian beliau berkata; &quot;Wahai Umar, apakah kamu tahu siapa penanya tersebut?&quot; Aku menjawab, &#039;Allah dan Rasul-Nya lebih tahu.&#039; Beliau bersabda: &quot;Itulah jibril, dia mendatangi kalian untuk mengajarkan kepada kalian tentang pengetahuan agama kalian&#039;”</p>\\n                  </div>\\n                </div>\\n                \\n              </div>\\n              <div class=\"card-footer\">\\n                <span class=\"\" style=\"font-size: 0.9em;\">\\n                  <span class=\"text-muted\">Perawi:</span> <a href=\"https://hadits.site/home?q=Abdullah%2Bbin%2BUmar\">Abdullah bin Umar</a>\\n                  <span class=\"text-muted\">Ulama hadits:</span> <a href=\"https://hadits.site/home?q=Muslim%2Bbin%2BHajjaj\">Muslim bin Hajjaj</a>\\n                  <span class=\"text-muted\">Nama kitab:</span> <a href=\"https://hadits.site/home?q=Shahih%2BMuslim\">Shahih Muslim</a>\\n                   <span class=\"text-muted\">Nomor:</span> <strong>1</strong>                                      <span class=\"text-muted\">Derajat hadits:</span> Shahih                   <span class=\"\" style=\"float: right;\"><div class=\"fb-share-button\" data-href=\"/hadits/1389\" data-layout=\"button_count\"></div><p></p></span>\\n                </span>\\n                \\n              </div>\\n              \\n            </div>\\n                    \\n        </div>\\n      </div>\\n      <!-- /.row -->\\n\\n    </div><!-- /.container-fluid -->\\n  </div>\\n  <!-- /.content -->\\n\\n  <div class=\"content-header\">\\n    <div class=\"container\">\\n      <div class=\"row mb-2\">\\n        <div class=\"col-sm-6\">\\n                      <h6 class=\"m-0 text-muted\" style=\"line-height: 31px;\">Menampilkan 1-5 dari 783</h6>\\n                  </div><!-- /.col -->\\n                  <div class=\"col-sm-6\">\\n            <nav>\\n        <ul class=\"pagination pagination-sm m-0 float-right\">\\n            \\n                            <li class=\"page-item disabled\" aria-disabled=\"true\" aria-label=\"&laquo; Previous\">\\n                    <span class=\"page-link\" aria-hidden=\"true\">&lsaquo;</span>\\n                </li>\\n            \\n            \\n                            \\n                \\n                \\n                                                                                        <li class=\"page-item active\" aria-current=\"page\"><span class=\"page-link\">1</span></li>\\n                                                                                                <li class=\"page-item\"><a class=\"page-link\" href=\"https://hadits.site/shahih?page=2\">2</a></li>\\n                                                                                                <li class=\"page-item\"><a class=\"page-link\" href=\"https://hadits.site/shahih?page=3\">3</a></li>\\n                                                                                                <li class=\"page-item\"><a class=\"page-link\" href=\"https://hadits.site/shahih?page=4\">4</a></li>\\n                                                                                                <li class=\"page-item\"><a class=\"page-link\" href=\"https://hadits.site/shahih?page=5\">5</a></li>\\n                                                                                                <li class=\"page-item\"><a class=\"page-link\" href=\"https://hadits.site/shahih?page=6\">6</a></li>\\n                                                                                                <li class=\"page-item\"><a class=\"page-link\" href=\"https://hadits.site/shahih?page=7\">7</a></li>\\n                                                                                                <li class=\"page-item\"><a class=\"page-link\" href=\"https://hadits.site/shahih?page=8\">8</a></li>\\n                                                                                        \\n                                    <li class=\"page-item disabled\" aria-disabled=\"true\"><span class=\"page-link\">...</span></li>\\n                \\n                \\n                                            \\n                \\n                \\n                                                                                        <li class=\"page-item\"><a class=\"page-link\" href=\"https://hadits.site/shahih?page=156\">156</a></li>\\n                                                                                                <li class=\"page-item\"><a class=\"page-link\" href=\"https://hadits.site/shahih?page=157\">157</a></li>\\n                                                                        \\n            \\n                            <li class=\"page-item\">\\n                    <a class=\"page-link\" href=\"https://hadits.site/shahih?page=2\" rel=\"next\" aria-label=\"Next &raquo;\">&rsaquo;</a>\\n                </li>\\n                    </ul>\\n    </nav>\\n\\n          </div><!-- /.col -->\\n              </div><!-- /.row -->\\n    </div><!-- /.container-fluid -->\\n  </div>\\n  \\n  <script>\\n    var getUrlParameter = function getUrlParameter(sParam) {\\n        var sPageURL = window.location.search.substring(1),\\n            sURLVariables = sPageURL.split(\\'&\\'),\\n            sParameterName,\\n            i;\\n    \\n        for (i = 0; i < sURLVariables.length; i++) {\\n            sParameterName = sURLVariables[i].split(\\'=\\');\\n    \\n            if (sParameterName[0] === sParam) {\\n                return sParameterName[1] === undefined ? true : decodeURIComponent(sParameterName[1]);\\n            }\\n        }\\n    };\\n    \\n    $( document ).ready(function() {\\n        var urlParams = getUrlParameter(\\'q\\').split(\\'+\\');\\n        debugger;\\n        urlParams.forEach(item => {\\n            $(\\'.result-text\\').each(function(index, element) {\\n                var src_str = $(element).html();\\n                var term = item.replace(/\\\\+/g, \" \");\\n                term = term.replace(/(\\\\s+)/,\"(<[^>]+>)*$1(<[^>]+>)*\");\\n                var pattern = new RegExp(\"(\"+term+\")\", \"gi\");\\n                src_str = src_str.replace(pattern, \"<mark>$1</mark>\");\\n                //src_str = src_str.replace(/(<mark>[^<>]*)((<[^>]+>)+)([^<>]*<\\\\/mark>)/,\"$1</mark>$2<mark>$4\");\\n                $(element).html(src_str); \\n            }); \\n        });\\n    });\\n  </script>\\n\\n        </div>\\n\\n  </div>\\n  <!-- /.content -->\\n\\n  <footer class=\"main-footer\">\\n    <div class=\"float-right d-none d-sm-block\">\\n      <b>Version</b> 1.0.0\\n    </div>\\n    <strong>Copyright &copy; 2020 <a href=\"/\">hadits.site</a></strong> All rights\\n    reserved.\\n  </footer>\\n\\n  <!-- jQuery -->\\n  <script src=\"https://hadits.site/vendor/jquery/jquery.min.js\"></script>\\n  <!-- Bootstrap 4 -->\\n  <script src=\"https://hadits.site/vendor/bootstrap/js/bootstrap.bundle.min.js\"></script>\\n\\n</div>\\n</body>\\n</html>\\n'"
      ]
     },
     "execution_count": 4,
     "metadata": {},
     "output_type": "execute_result"
    }
   ],
   "execution_count": 4
  },
  {
   "metadata": {
    "ExecuteTime": {
     "end_time": "2025-02-17T03:14:54.572066Z",
     "start_time": "2025-02-17T03:14:54.559647Z"
    }
   },
   "cell_type": "code",
   "source": "soup = BeautifulSoup(response.text, \"html.parser\")",
   "id": "120897c8710018d1",
   "outputs": [],
   "execution_count": 5
  },
  {
   "metadata": {
    "ExecuteTime": {
     "end_time": "2025-02-17T03:15:19.780111Z",
     "start_time": "2025-02-17T03:15:19.776629Z"
    }
   },
   "cell_type": "code",
   "source": "cards = soup.find_all(\"div\", class_=\"card result-item\")",
   "id": "5264111df899b1aa",
   "outputs": [],
   "execution_count": 6
  },
  {
   "metadata": {
    "ExecuteTime": {
     "end_time": "2025-02-17T03:15:23.690733Z",
     "start_time": "2025-02-17T03:15:23.682955Z"
    }
   },
   "cell_type": "code",
   "source": "cards",
   "id": "1c5f6ad7f6fa5311",
   "outputs": [
    {
     "data": {
      "text/plain": [
       "[<div class=\"card result-item\">\n",
       " <div class=\"card-header\">\n",
       " <a href=\"/hadits/1393\"><img height=\"17\" src=\"https://hadits.site/img/link.png\"/></a>\n",
       " </div>\n",
       " <div class=\"card-body\">\n",
       " <div class=\"row\">\n",
       " <div class=\"col-md-12\">\n",
       " <p class=\"text-arabic result-text arabic\">فِي رِوَايَتِهِ \"إِذَا وَلَدَتِ الأَمَةُ بَعْلَهَا\" يَعْنِي السَّرَارِيّ</p>\n",
       " </div>\n",
       " <div class=\"col-md-12\">\n",
       " <p class=\"result-text\">“Dalam riwayat lain, \"... ketika para al-amatu melahirkan tuannya\", al-amatu maksudnya para budak wanita yang digauli.”</p>\n",
       " </div>\n",
       " </div>\n",
       " </div>\n",
       " <div class=\"card-footer\">\n",
       " <span class=\"\" style=\"font-size: 0.9em;\">\n",
       " <span class=\"text-muted\">Perawi:</span> <a href=\"https://hadits.site/home?q=Abu%2BHurairah\">Abu Hurairah</a>\n",
       " <span class=\"text-muted\">Ulama hadits:</span> <a href=\"https://hadits.site/home?q=Muslim%2Bbin%2BHajjaj\">Muslim bin Hajjaj</a>\n",
       " <span class=\"text-muted\">Nama kitab:</span> <a href=\"https://hadits.site/home?q=Shahih%2BMuslim\">Shahih Muslim</a>\n",
       " <span class=\"text-muted\">Nomor:</span> <strong>6</strong> <span class=\"text-muted\">Derajat hadits:</span> Shahih                   <span class=\"\" style=\"float: right;\"><div class=\"fb-share-button\" data-href=\"/hadits/1393\" data-layout=\"button_count\"></div><p></p></span>\n",
       " </span>\n",
       " </div>\n",
       " </div>,\n",
       " <div class=\"card result-item\">\n",
       " <div class=\"card-header\">\n",
       " <a href=\"/hadits/1392\"><img height=\"17\" src=\"https://hadits.site/img/link.png\"/></a>\n",
       " </div>\n",
       " <div class=\"card-body\">\n",
       " <div class=\"row\">\n",
       " <div class=\"col-md-12\">\n",
       " <p class=\"text-arabic result-text arabic\">عَنْ يَحْيَى بْنِ يَعْمَرَ، عَنِ ابْنِ عُمَرَ، عَنْ عُمَرَ، عَنِ النَّبِيِّ صَلَّى اللَّهُ عليه وسلم، بنحو حديثهم</p>\n",
       " </div>\n",
       " <div class=\"col-md-12\">\n",
       " <p class=\"result-text\">“Dari Yahya bin Ya'mar dari Ibnu Umar, dari Umar radhiallahu'anhu, dari Nabi Shallallahu'alaihi Wasallam, sama dengan hadits sebelumnya.”</p>\n",
       " </div>\n",
       " </div>\n",
       " </div>\n",
       " <div class=\"card-footer\">\n",
       " <span class=\"\" style=\"font-size: 0.9em;\">\n",
       " <span class=\"text-muted\">Perawi:</span> <a href=\"https://hadits.site/home?q=Abdullah%2Bbin%2BUmar\">Abdullah bin Umar</a>\n",
       " <span class=\"text-muted\">Ulama hadits:</span> <a href=\"https://hadits.site/home?q=Muslim%2Bbin%2BHajjaj\">Muslim bin Hajjaj</a>\n",
       " <span class=\"text-muted\">Nama kitab:</span> <a href=\"https://hadits.site/home?q=Shahih%2BMuslim\">Shahih Muslim</a>\n",
       " <span class=\"text-muted\">Nomor:</span> <strong>4</strong> <span class=\"text-muted\">Derajat hadits:</span> Shahih                   <span class=\"\" style=\"float: right;\"><div class=\"fb-share-button\" data-href=\"/hadits/1392\" data-layout=\"button_count\"></div><p></p></span>\n",
       " </span>\n",
       " </div>\n",
       " </div>,\n",
       " <div class=\"card result-item\">\n",
       " <div class=\"card-header\">\n",
       " <a href=\"/hadits/1391\"><img height=\"17\" src=\"https://hadits.site/img/link.png\"/></a>\n",
       " </div>\n",
       " <div class=\"card-body\">\n",
       " <div class=\"row\">\n",
       " <div class=\"col-md-12\">\n",
       " <p class=\"text-arabic result-text arabic\">عن يحيى بن يَعْمَرَ، وَحُمَيْدِ بْنِ عَبْدِ الرَّحْمَنِ؛ قَالَا: لَقِينَا عَبْدَ اللَّهِ بْنَ عُمَرَ. فَذَكَرْنَا الْقَدَرَ وَمَا يَقُولُونَ فِيهِ. فَاقْتَصَّ الْحَدِيثَ كَنَحْوِ حَدِيثِهِمْ. عَنْ عُمَرَ رَضِيَ اللَّهُ عَنْهُ، عَنِ النَّبِيِّ صَلَّى اللَّهُ عَلَيْهِ وَسَلَّمَ، وَفِيهِ شَيْءٌ مِنْ زِيَادَةٍ، وَقَدْ نَقَصَ مِنْهُ شَيْئًا</p>\n",
       " </div>\n",
       " <div class=\"col-md-12\">\n",
       " <p class=\"result-text\">“Dari Yahya bin Ya'mar dan Humaid bin 'Abdur-Rahman keduanya berkata: \"Kami bertemu dengan Abdullah bin Umar, dan kami bertanya tentang masalah takdir dan keyakinan para pengikut Ma'bad Al Juhani dalam masalah takdir\". Kemudian Yahya bin Ya'mar menyebutkan hadits yang sama dengan hadits sebelumnya, dari Umar radhiallahu'anhu, dari Nabi Shallallahu'alaihi Wasallam. Dengan beberapa tambahan dan pengurangan di dalamnya.”</p>\n",
       " </div>\n",
       " </div>\n",
       " </div>\n",
       " <div class=\"card-footer\">\n",
       " <span class=\"\" style=\"font-size: 0.9em;\">\n",
       " <span class=\"text-muted\">Perawi:</span> <a href=\"https://hadits.site/home?q=Abdullah%2Bbin%2BUmar\">Abdullah bin Umar</a>\n",
       " <span class=\"text-muted\">Ulama hadits:</span> <a href=\"https://hadits.site/home?q=Muslim%2Bbin%2BHajjaj\">Muslim bin Hajjaj</a>\n",
       " <span class=\"text-muted\">Nama kitab:</span> <a href=\"https://hadits.site/home?q=Shahih%2BMuslim\">Shahih Muslim</a>\n",
       " <span class=\"text-muted\">Nomor:</span> <strong>3</strong> <span class=\"text-muted\">Derajat hadits:</span> Shahih                   <span class=\"\" style=\"float: right;\"><div class=\"fb-share-button\" data-href=\"/hadits/1391\" data-layout=\"button_count\"></div><p></p></span>\n",
       " </span>\n",
       " </div>\n",
       " </div>,\n",
       " <div class=\"card result-item\">\n",
       " <div class=\"card-header\">\n",
       " <a href=\"/hadits/1390\"><img height=\"17\" src=\"https://hadits.site/img/link.png\"/></a>\n",
       " </div>\n",
       " <div class=\"card-body\">\n",
       " <div class=\"row\">\n",
       " <div class=\"col-md-12\">\n",
       " <p class=\"text-arabic result-text arabic\">عَنْ يَحْيَى بْنِ يَعْمَرَ قَالَ لَمَّا تَكَلَّمَ مَعْبَدٌ بِمَا تَكَلَّمَ بِهِ فِي شَأْنِ الْقَدَرِ أَنْكَرْنَا ذَلِكَ قَالَ فَحَجَجْتُ أَنَا وَحُمَيْدُ بْنُ عَبْدِ الرَّحْمَنِ الْحِمْيَرِيُّ حَجَّةً وَسَاقُوا الْحَدِيثَ بِمَعْنَى حَدِيثِ كَهْمَسٍ وَإِسْنَادِهِ وَفِيهِ بَعْضُ زِيَادَةٍ وَنُقْصَانُ أَحْرُفٍ</p>\n",
       " </div>\n",
       " <div class=\"col-md-12\">\n",
       " <p class=\"result-text\">“Yahya bin Ya'mar berkata: \"Ketika Ma'bad mulai berbicara tentang takdir, kami pun mengingkari hal itu. Ketika aku dan Humaid bin 'Abdur-Rahman Al-Himyari pergi untuk Haji ...\" redaksi hadits sama dengan hadits sebelumnya secara makna dan sanad. Dengan beberapa tambahan dan pengurangan di dalamnya.”</p>\n",
       " </div>\n",
       " </div>\n",
       " </div>\n",
       " <div class=\"card-footer\">\n",
       " <span class=\"\" style=\"font-size: 0.9em;\">\n",
       " <span class=\"text-muted\">Perawi:</span> <a href=\"https://hadits.site/home?q=Abdullah%2Bbin%2BUmar\">Abdullah bin Umar</a>\n",
       " <span class=\"text-muted\">Ulama hadits:</span> <a href=\"https://hadits.site/home?q=Muslim%2Bbin%2BHajjaj\">Muslim bin Hajjaj</a>\n",
       " <span class=\"text-muted\">Nama kitab:</span> <a href=\"https://hadits.site/home?q=Shahih%2BMuslim\">Shahih Muslim</a>\n",
       " <span class=\"text-muted\">Nomor:</span> <strong>2</strong> <span class=\"text-muted\">Derajat hadits:</span> Shahih                   <span class=\"\" style=\"float: right;\"><div class=\"fb-share-button\" data-href=\"/hadits/1390\" data-layout=\"button_count\"></div><p></p></span>\n",
       " </span>\n",
       " </div>\n",
       " </div>,\n",
       " <div class=\"card result-item\">\n",
       " <div class=\"card-header\">\n",
       " <a href=\"/hadits/1389\"><img height=\"17\" src=\"https://hadits.site/img/link.png\"/></a>\n",
       " </div>\n",
       " <div class=\"card-body\">\n",
       " <div class=\"row\">\n",
       " <div class=\"col-md-12\">\n",
       " <p class=\"text-arabic result-text arabic\">كَانَ أَوَّلَ مَنْ قَالَ فِي الْقَدَرِ بِالْبَصْرَةِ مَعْبَدٌ الْجُهَنِيُّ، فَانْطَلَقْتُ أَنَا وَحُمَيْدُ بْنُ عَبْدِ الرَّحْمَنِ الْحِمْيَرِيُّ حَاجَّيْنِ – أَوْ مُعْتَمِرَيْنِ – فَقُلْنَا: لَوْ لَقِينَا أَحَدًا مَنْ أَصْحَابِ رَسُولِ اللهِ صَلَّى اللهُ عَلَيْهِ وَسَلَّمَ، فَسَأَلْنَاهُ عَمَّا يَقُولُ هَؤُلَاءِ فِي الْقَدَرِ، فَوُفِّقَ لَنَا عَبْدُ اللهِ بْنُ عُمَرَ بْنِ الْخَطَّابِ دَاخِلًا الْمَسْجِدَ، فَاكْتَنَفْتُهُ أَنَا وَصَاحِبِي أَحَدُنَا عَنْ يَمِينِهِ، وَالْآخَرُ عَنْ شِمَالِهِ، فَظَنَنْتُ أَنَّ صَاحِبِي سَيَكِلُ الْكَلَامَ إِلَيَّ، فَقُلْتُ [ص:37]: أَبَا عَبْدِ الرَّحْمَنِ إِنَّهُ قَدْ ظَهَرَ قِبَلَنَا نَاسٌ يَقْرَءُونَ الْقُرْآنَ، وَيَتَقَفَّرُونَ الْعِلْمَ، وَذَكَرَ مِنْ شَأْنِهِمْ، وَأَنَّهُمْ يَزْعُمُونَ أَنْ لَا قَدَرَ، وَأَنَّ الْأَمْرَ أُنُفٌ، قَالَ: «فَإِذَا لَقِيتَ أُولَئِكَ فَأَخْبِرْهُمْ أَنِّي بَرِيءٌ مِنْهُمْ، وَأَنَّهُمْ بُرَآءُ مِنِّي»، وَالَّذِي يَحْلِفُ بِهِ عَبْدُ اللهِ بْنُ عُمَرَ «لَوْ أَنَّ لِأَحَدِهِمْ مِثْلَ أُحُدٍ ذَهَبًا، فَأَنْفَقَهُ مَا قَبِلَ اللهُ مِنْهُ حَتَّى يُؤْمِنَ بِالْقَدَرِ» ثُمَّ قَالَ: حَدَّثَنِي أَبِي عُمَرُ بْنُ الْخَطَّابِ قَالَ: بَيْنَمَا نَحْنُ عِنْدَ رَسُولِ اللهِ صَلَّى اللهُ عَلَيْهِ وَسَلَّمَ ذَاتَ يَوْمٍ، إِذْ طَلَعَ عَلَيْنَا رَجُلٌ شَدِيدُ بَيَاضِ الثِّيَابِ، شَدِيدُ سَوَادِ الشَّعَرِ، لَا يُرَى عَلَيْهِ أَثَرُ السَّفَرِ، وَلَا يَعْرِفُهُ مِنَّا أَحَدٌ، حَتَّى جَلَسَ إِلَى النَّبِيِّ صَلَّى اللهُ عَلَيْهِ وَسَلَّمَ، فَأَسْنَدَ رُكْبَتَيْهِ إِلَى رُكْبَتَيْهِ، وَوَضَعَ كَفَّيْهِ عَلَى فَخِذَيْهِ، وَقَالَ: يَا مُحَمَّدُ أَخْبِرْنِي عَنِ الْإِسْلَامِ، فَقَالَ رَسُولُ اللهِ صَلَّى اللهُ عَلَيْهِ وَسَلَّمَ: «الْإِسْلَامُ أَنْ تَشْهَدَ أَنْ لَا إِلَهَ إِلَّا اللهُ وَأَنَّ مُحَمَّدًا رَسُولُ اللهِ صَلَّى اللهُ عَلَيْهِ وَسَلَّمَ، وَتُقِيمَ الصَّلَاةَ، وَتُؤْتِيَ الزَّكَاةَ، وَتَصُومَ رَمَضَانَ، وَتَحُجَّ الْبَيْتَ إِنِ اسْتَطَعْتَ إِلَيْهِ سَبِيلًا»، قَالَ: صَدَقْتَ، قَالَ: فَعَجِبْنَا لَهُ يَسْأَلُهُ، وَيُصَدِّقُهُ، قَالَ: فَأَخْبِرْنِي عَنِ الْإِيمَانِ، قَالَ: «أَنْ تُؤْمِنَ بِاللهِ، وَمَلَائِكَتِهِ، وَكُتُبِهِ، وَرُسُلِهِ، وَالْيَوْمِ الْآخِرِ، وَتُؤْمِنَ بِالْقَدَرِ خَيْرِهِ وَشَرِّهِ»، قَالَ: صَدَقْتَ، قَالَ: فَأَخْبِرْنِي عَنِ الْإِحْسَانِ، قَالَ: «أَنْ تَعْبُدَ اللهَ كَأَنَّكَ تَرَاهُ، فَإِنْ لَمْ تَكُنْ تَرَاهُ فَإِنَّهُ يَرَاكَ»، قَالَ: فَأَخْبِرْنِي عَنِ السَّاعَةِ، قَالَ: «مَا الْمَسْئُولُ عَنْهَا بِأَعْلَمَ مِنَ السَّائِلِ» قَالَ: فَأَخْبِرْنِي عَنْ أَمَارَتِهَا، قَالَ: «أَنْ تَلِدَ الْأَمَةُ رَبَّتَهَا، وَأَنْ تَرَى الْحُفَاةَ الْعُرَاةَ الْعَالَةَ رِعَاءَ الشَّاءِ يَتَطَاوَلُونَ فِي الْبُنْيَانِ»، قَالَ: ثُمَّ انْطَلَقَ فَلَبِثْتُ مَلِيًّا، ثُمَّ قَالَ لِي: «يَا عُمَرُ أَتَدْرِي مَنِ السَّائِلُ؟» قُلْتُ: اللهُ وَرَسُولُهُ أَعْلَمُ، قَالَ: فَإِنَّهُ جِبْرِيلُ أَتَاكُمْ يُعَلِّمُكُمْ دِينَكُمْ</p>\n",
       " </div>\n",
       " <div class=\"col-md-12\">\n",
       " <p class=\"result-text\">“Orang yang pertama kali membahas takdir di Bashrah adalah Ma'bad al-Juhani, maka aku dan Humaid bin Abdurrahman al-Himyari bertolak haji atau umrah, maka kami berkata, 'Seandainya kami bertemu dengan salah seorang sahabat Rasulullah shallallahu 'alaihi wasallam, maka kami akan bertanya kepadanya tentang sesuatu yang mereka katakan berkaitan dengan takdir.' Maka [Abdullah bin Umar] diberikan taufik (oleh Allah) untuk kami, sedangkan dia masuk masjid. Lalu aku dan temanku menghadangnya. Salah seorang dari kami di sebelah kanannya dan yang lain di sebelah kirinya. Lalu aku mengira bahwa temanku akan mewakilkan pembicaraan kepadaku, maka aku berkata, 'Wahai Abu Abdurrahman, sesungguhnya nampak di hadapan kami suatu kaum membaca al-Qur'an dan mencari ilmu lalu mengklaim bahwa tidak ada takdir, dan perkaranya adalah baru (tidak didahului oleh takdir dan ilmu Allah).' Maka [Abdullah bin Umar] menjawab, 'Apabila kamu bertemu orang-orang tersebut, maka kabarkanlah kepada mereka bahwa saya berlepas diri dari mereka, dan bahwa mereka berlepas diri dariku. Dan demi Dzat yang mana hamba Allah bersumpah dengan-Nya, kalau seandainya salah seorang dari kalian menafkahkan emas seperti gunung Uhud, niscaya sedekahnya tidak akan diterima hingga dia beriman kepada takdir baik dan buruk.' Dia berkata, 'Kemudian dia mulai menceritakan hadits seraya berkata, ['Umar bin al-Khaththab] berkata, 'Dahulu kami pernah berada di sisi Rasulullah shallallahu 'alaihi wasallam, lalu datanglah seorang laki-laki yang bajunya sangat putih, rambutnya sangat hitam, tidak tampak padanya bekas-bekas perjalanan. Tidak seorang pun dari kami mengenalnya, hingga dia mendatangi Nabi Shallallahu 'Alaihi Wasalam lalu menyandarkan lututnya pada lutut Nabi Shallallahu 'Alaihi Wasalam, kemudian ia berkata, 'Wahai Muhammad, kabarkanlah kepadaku tentang Islam? ' Rasulullah Shallallahu 'Alaihi Wasalam menjawab: \"Kesaksian bahwa tidak ada tuhan (yang berhak disembah) selain Allah dan bahwa Muhammad adalah hamba dan utusan-Nya, mendirikan shalat, menunaikan zakat, dan puasa Ramadlan, serta haji ke Baitullah jika kamu mampu bepergian kepadanya.' Dia berkata, 'Kamu benar.' Umar berkata, 'Maka kami kaget terhadapnya karena dia menanyakannya dan membenarkannya.' Dia bertanya lagi, 'Kabarkanlah kepadaku tentang iman itu? ' Beliau menjawab: \"Kamu beriman kepada Allah, malaikat-malaikat-Nya, kitab-kitab-Nya, para Rasul-Nya, hari akhir, dan takdir baik dan buruk.\" Dia berkata, 'Kamu benar.' Dia bertanya, 'Kabarkanlah kepadaku tentang ihsan itu? ' Beliau menjawab: \"Kamu menyembah Allah seakan-akan kamu melihat-Nya, maka jika kamu tidak melihat-Nya, maka sesungguhnya Dia melihatmu.\" Dia bertanya lagi, 'Kapankah hari akhir itu? ' Beliau menjawab: \"Tidaklah orang yang ditanya itu lebih mengetahui daripada orang yang bertanya.\" Dia bertanya, 'Lalu kabarkanlah kepadaku tentang tanda-tandanya? ' Beliau menjawab: \"Apabila seorang budak melahirkan (anak) tuan-Nya, dan kamu melihat orang yang tidak beralas kaki, telanjang, miskin, penggembala kambing, namun bermegah-megahan dalam membangun bangunan.\" Kemudian dia bertolak pergi. Maka aku tetap saja heran kemudian beliau berkata; \"Wahai Umar, apakah kamu tahu siapa penanya tersebut?\" Aku menjawab, 'Allah dan Rasul-Nya lebih tahu.' Beliau bersabda: \"Itulah jibril, dia mendatangi kalian untuk mengajarkan kepada kalian tentang pengetahuan agama kalian'”</p>\n",
       " </div>\n",
       " </div>\n",
       " </div>\n",
       " <div class=\"card-footer\">\n",
       " <span class=\"\" style=\"font-size: 0.9em;\">\n",
       " <span class=\"text-muted\">Perawi:</span> <a href=\"https://hadits.site/home?q=Abdullah%2Bbin%2BUmar\">Abdullah bin Umar</a>\n",
       " <span class=\"text-muted\">Ulama hadits:</span> <a href=\"https://hadits.site/home?q=Muslim%2Bbin%2BHajjaj\">Muslim bin Hajjaj</a>\n",
       " <span class=\"text-muted\">Nama kitab:</span> <a href=\"https://hadits.site/home?q=Shahih%2BMuslim\">Shahih Muslim</a>\n",
       " <span class=\"text-muted\">Nomor:</span> <strong>1</strong> <span class=\"text-muted\">Derajat hadits:</span> Shahih                   <span class=\"\" style=\"float: right;\"><div class=\"fb-share-button\" data-href=\"/hadits/1389\" data-layout=\"button_count\"></div><p></p></span>\n",
       " </span>\n",
       " </div>\n",
       " </div>]"
      ]
     },
     "execution_count": 7,
     "metadata": {},
     "output_type": "execute_result"
    }
   ],
   "execution_count": 7
  },
  {
   "metadata": {
    "ExecuteTime": {
     "end_time": "2025-02-17T03:16:15.587980Z",
     "start_time": "2025-02-17T03:16:15.585083Z"
    }
   },
   "cell_type": "code",
   "source": "card = cards[0]",
   "id": "f67ec6c9dde3f564",
   "outputs": [],
   "execution_count": 8
  },
  {
   "metadata": {
    "ExecuteTime": {
     "end_time": "2025-02-17T03:17:24.478915Z",
     "start_time": "2025-02-17T03:17:24.469087Z"
    }
   },
   "cell_type": "code",
   "source": "arabic = card.find(\"p\", class_=\"text-arabic result-text arabic\").text",
   "id": "3e47fb93bce68277",
   "outputs": [],
   "execution_count": 10
  },
  {
   "metadata": {
    "ExecuteTime": {
     "end_time": "2025-02-17T03:17:27.580775Z",
     "start_time": "2025-02-17T03:17:27.576005Z"
    }
   },
   "cell_type": "code",
   "source": "arabic",
   "id": "d2a697bc2c80739a",
   "outputs": [
    {
     "data": {
      "text/plain": [
       "'فِي رِوَايَتِهِ \"إِذَا وَلَدَتِ الأَمَةُ بَعْلَهَا\" يَعْنِي السَّرَارِيّ'"
      ]
     },
     "execution_count": 11,
     "metadata": {},
     "output_type": "execute_result"
    }
   ],
   "execution_count": 11
  },
  {
   "metadata": {
    "ExecuteTime": {
     "end_time": "2025-02-17T03:19:56.671822Z",
     "start_time": "2025-02-17T03:19:56.667778Z"
    }
   },
   "cell_type": "code",
   "source": "translate_en = card.find(lambda tag: tag.name == \"p\" and tag.get(\"class\") == [\"result-text\"]).text",
   "id": "90e14f8d6996db82",
   "outputs": [],
   "execution_count": 14
  },
  {
   "metadata": {
    "ExecuteTime": {
     "end_time": "2025-02-17T03:19:58.566128Z",
     "start_time": "2025-02-17T03:19:58.562224Z"
    }
   },
   "cell_type": "code",
   "source": "translate_en",
   "id": "17b77ee3af89f494",
   "outputs": [
    {
     "data": {
      "text/plain": [
       "'“Dalam riwayat lain, \"... ketika para al-amatu melahirkan tuannya\", al-amatu maksudnya para budak wanita yang digauli.”'"
      ]
     },
     "execution_count": 15,
     "metadata": {},
     "output_type": "execute_result"
    }
   ],
   "execution_count": 15
  },
  {
   "metadata": {
    "ExecuteTime": {
     "end_time": "2025-02-17T03:24:48.252811Z",
     "start_time": "2025-02-17T03:24:48.249126Z"
    }
   },
   "cell_type": "code",
   "source": [
    "narator = card.find(\"span\", string=\"Perawi:\").find_next(\"a\").text\n",
    "ulama_hadits = card.find(\"span\", string=\"Ulama hadits:\").find_next(\"a\").text\n",
    "khitab_name = card.find(\"span\", string=\"Nama kitab:\").find_next(\"a\").text\n",
    "number = card.find(\"span\", string=\"Nomor:\").find_next(\"strong\").text\n",
    "level_of_hadith = card.find(\"span\", string=\"Derajat hadits:\").next_sibling.strip()"
   ],
   "id": "ebd7128a6b7522ff",
   "outputs": [],
   "execution_count": 19
  },
  {
   "metadata": {
    "ExecuteTime": {
     "end_time": "2025-02-17T03:24:58.872085Z",
     "start_time": "2025-02-17T03:24:58.868204Z"
    }
   },
   "cell_type": "code",
   "source": "narator",
   "id": "db6c0cb5b4570ab5",
   "outputs": [
    {
     "data": {
      "text/plain": [
       "'Abu Hurairah'"
      ]
     },
     "execution_count": 20,
     "metadata": {},
     "output_type": "execute_result"
    }
   ],
   "execution_count": 20
  },
  {
   "metadata": {
    "ExecuteTime": {
     "end_time": "2025-02-17T03:25:21.514483Z",
     "start_time": "2025-02-17T03:25:21.508914Z"
    }
   },
   "cell_type": "code",
   "source": "ulama_hadits",
   "id": "6cc87a99baa19c4",
   "outputs": [
    {
     "data": {
      "text/plain": [
       "'Muslim bin Hajjaj'"
      ]
     },
     "execution_count": 21,
     "metadata": {},
     "output_type": "execute_result"
    }
   ],
   "execution_count": 21
  },
  {
   "metadata": {
    "ExecuteTime": {
     "end_time": "2025-02-17T04:10:38.217174Z",
     "start_time": "2025-02-17T04:10:38.212460Z"
    }
   },
   "cell_type": "code",
   "source": [
    "def get_text_or_none(tag, next_tag_selector, attr=\"text\"):\n",
    "    \"\"\"Safely extract text from the next tag if found, otherwise return None.\"\"\"\n",
    "    if tag:\n",
    "        next_tag = tag.find_next(next_tag_selector)\n",
    "        if next_tag:\n",
    "            return next_tag.get_text(strip=True) if attr == \"text\" else next_tag[attr]\n",
    "    return None\n",
    "\n",
    "def get_data(card):\n",
    "    arabic = card.find(\"p\", class_=\"text-arabic result-text arabic\").text\n",
    "    translate_id = card.find(lambda tag: tag.name == \"p\" and tag.get(\"class\") == [\"result-text\"]).text\n",
    "    narator_tag = card.find(\"span\", string=\"Perawi:\")\n",
    "    narator = get_text_or_none(narator_tag, \"a\")\n",
    "\n",
    "    ulama_tag = card.find(\"span\", string=\"Ulama hadits:\")\n",
    "    hadith_scholar = get_text_or_none(ulama_tag, \"a\")\n",
    "\n",
    "    kitab_tag = card.find(\"span\", string=\"Nama kitab:\")\n",
    "    khitab_name = get_text_or_none(kitab_tag, \"a\")\n",
    "\n",
    "    number_tag = card.find(\"span\", string=\"Nomor:\")\n",
    "    number = get_text_or_none(number_tag, \"strong\")\n",
    "\n",
    "    level_tag = card.find(\"span\", string=\"Derajat hadits:\")\n",
    "    level_of_hadith = level_tag.next_sibling.strip() if level_tag and level_tag.next_sibling else None\n",
    "    return {\n",
    "        'arabic': arabic, 'translate_id': translate_id, \"narator\": narator, \"hadith_scholar\": hadith_scholar,\n",
    "        \"source\": khitab_name, \"hadith_no\": number, \"level_of_hadith\": level_of_hadith\n",
    "    }"
   ],
   "id": "7102d137112edbe3",
   "outputs": [],
   "execution_count": 29
  },
  {
   "metadata": {
    "ExecuteTime": {
     "end_time": "2025-02-17T03:34:28.984581Z",
     "start_time": "2025-02-17T03:34:28.981663Z"
    }
   },
   "cell_type": "code",
   "source": "import pandas as pd",
   "id": "18af34220374ca02",
   "outputs": [],
   "execution_count": 26
  },
  {
   "metadata": {
    "ExecuteTime": {
     "end_time": "2025-02-17T04:10:43.681898Z",
     "start_time": "2025-02-17T04:10:43.678182Z"
    }
   },
   "cell_type": "code",
   "source": "df = pd.DataFrame(columns=[\"arabic\", \"translate_id\", \"narator\", \"hadith_scholar\", \"source\", \"hadith_no\", \"level_of_hadith\"])",
   "id": "83e9fe183f868f47",
   "outputs": [],
   "execution_count": 30
  },
  {
   "metadata": {
    "ExecuteTime": {
     "end_time": "2025-02-17T04:15:13.916961Z",
     "start_time": "2025-02-17T04:14:23.917387Z"
    }
   },
   "cell_type": "code",
   "source": [
    "for i in range(1,158):\n",
    "    req = requests.get(url, params={\"page\": i})\n",
    "    soup = BeautifulSoup(req.text, \"html.parser\")\n",
    "    cards = soup.find_all(\"div\", class_=\"card result-item\")\n",
    "    for card in cards:\n",
    "        data = get_data(card)\n",
    "        df = df._append(data, ignore_index=True)"
   ],
   "id": "ba25eabb1db1b66a",
   "outputs": [],
   "execution_count": 32
  },
  {
   "metadata": {
    "ExecuteTime": {
     "end_time": "2025-02-17T04:15:47.681378Z",
     "start_time": "2025-02-17T04:15:47.665216Z"
    }
   },
   "cell_type": "code",
   "source": "df",
   "id": "82020d855e142ca",
   "outputs": [
    {
     "data": {
      "text/plain": [
       "                                                arabic  \\\n",
       "0    فِي رِوَايَتِهِ \"إِذَا وَلَدَتِ الأَمَةُ بَعْل...   \n",
       "1    عَنْ يَحْيَى بْنِ يَعْمَرَ، عَنِ ابْنِ عُمَرَ،...   \n",
       "2    عن يحيى بن يَعْمَرَ، وَحُمَيْدِ بْنِ عَبْدِ ال...   \n",
       "3    عَنْ يَحْيَى بْنِ يَعْمَرَ قَالَ لَمَّا تَكَلّ...   \n",
       "4    كَانَ أَوَّلَ مَنْ قَالَ فِي الْقَدَرِ بِالْبَ...   \n",
       "..                                                 ...   \n",
       "778  مَن سَمِعَ النِّداءَ فلَم يأتِ فلا صَلاةَ لَه ...   \n",
       "779       إنَّ لك من الأجرِ على قدْرِ نَصَبِك و نفقتِك   \n",
       "780  يَوَدُّ أَهلُ العَافِيَةِ يَومَ القِيَامَةِ حِ...   \n",
       "781  : خطبنا رسول الله صلى الله عليه وسلم، فأقبل ال...   \n",
       "782  أنَّ رسولَ اللَّهِ صلى الله عليه وسلم رأى على ...   \n",
       "\n",
       "                                          translate_id                narator  \\\n",
       "0    “Dalam riwayat lain, \"... ketika para al-amatu...           Abu Hurairah   \n",
       "1    “Dari Yahya bin Ya'mar dari Ibnu Umar, dari Um...      Abdullah bin Umar   \n",
       "2    “Dari Yahya bin Ya'mar dan Humaid bin 'Abdur-R...      Abdullah bin Umar   \n",
       "3    “Yahya bin Ya'mar berkata: \"Ketika Ma'bad mula...      Abdullah bin Umar   \n",
       "4    “Orang yang pertama kali membahas takdir di Ba...      Abdullah bin Umar   \n",
       "..                                                 ...                    ...   \n",
       "778  “Barangsiapa yang mendengar adzan, namun tidak...     Abdullah bin Abbas   \n",
       "779  “Sesungguhnya besar pahala sebanding dengan ke...                 Aisyah   \n",
       "780  “Orang-orang yang dahulu sehat di dunia kelak ...     Jabir bin Abdillah   \n",
       "781  “Rasulullah Shallallahu ‘alaihi wa sallam berk...  Abdullah bin Buraidah   \n",
       "782  “Rasulullah Shallallahu'alaihi Wasallam meliha...         Anas bin Malik   \n",
       "\n",
       "                     hadith_scholar                    source hadith_no  \\\n",
       "0                 Muslim bin Hajjaj             Shahih Muslim         6   \n",
       "1                 Muslim bin Hajjaj             Shahih Muslim         4   \n",
       "2                 Muslim bin Hajjaj             Shahih Muslim         3   \n",
       "3                 Muslim bin Hajjaj             Shahih Muslim         2   \n",
       "4                 Muslim bin Hajjaj             Shahih Muslim         1   \n",
       "..                              ...                       ...       ...   \n",
       "778          Ibnu Hajar Al Asqalani            Bulughul Maram       114   \n",
       "779  Muhammad Nashiruddin Al Albani  Shahih Jami' Ash Shaghir      2160   \n",
       "780  Muhammad Nashiruddin Al Albani        Shahih At Tirmidzi      2402   \n",
       "781  Muhammad Nashiruddin Al Albani           Shahih Abu Daud      1109   \n",
       "782  Muhammad Nashiruddin Al Albani        Shahih At Tirmidzi      1094   \n",
       "\n",
       "    level_of_hadith  \n",
       "0            Shahih  \n",
       "1            Shahih  \n",
       "2            Shahih  \n",
       "3            Shahih  \n",
       "4            Shahih  \n",
       "..              ...  \n",
       "778          Shahih  \n",
       "779          Shahih  \n",
       "780          Shahih  \n",
       "781          Shahih  \n",
       "782          Shahih  \n",
       "\n",
       "[783 rows x 7 columns]"
      ],
      "text/html": [
       "<div>\n",
       "<style scoped>\n",
       "    .dataframe tbody tr th:only-of-type {\n",
       "        vertical-align: middle;\n",
       "    }\n",
       "\n",
       "    .dataframe tbody tr th {\n",
       "        vertical-align: top;\n",
       "    }\n",
       "\n",
       "    .dataframe thead th {\n",
       "        text-align: right;\n",
       "    }\n",
       "</style>\n",
       "<table border=\"1\" class=\"dataframe\">\n",
       "  <thead>\n",
       "    <tr style=\"text-align: right;\">\n",
       "      <th></th>\n",
       "      <th>arabic</th>\n",
       "      <th>translate_id</th>\n",
       "      <th>narator</th>\n",
       "      <th>hadith_scholar</th>\n",
       "      <th>source</th>\n",
       "      <th>hadith_no</th>\n",
       "      <th>level_of_hadith</th>\n",
       "    </tr>\n",
       "  </thead>\n",
       "  <tbody>\n",
       "    <tr>\n",
       "      <th>0</th>\n",
       "      <td>فِي رِوَايَتِهِ \"إِذَا وَلَدَتِ الأَمَةُ بَعْل...</td>\n",
       "      <td>“Dalam riwayat lain, \"... ketika para al-amatu...</td>\n",
       "      <td>Abu Hurairah</td>\n",
       "      <td>Muslim bin Hajjaj</td>\n",
       "      <td>Shahih Muslim</td>\n",
       "      <td>6</td>\n",
       "      <td>Shahih</td>\n",
       "    </tr>\n",
       "    <tr>\n",
       "      <th>1</th>\n",
       "      <td>عَنْ يَحْيَى بْنِ يَعْمَرَ، عَنِ ابْنِ عُمَرَ،...</td>\n",
       "      <td>“Dari Yahya bin Ya'mar dari Ibnu Umar, dari Um...</td>\n",
       "      <td>Abdullah bin Umar</td>\n",
       "      <td>Muslim bin Hajjaj</td>\n",
       "      <td>Shahih Muslim</td>\n",
       "      <td>4</td>\n",
       "      <td>Shahih</td>\n",
       "    </tr>\n",
       "    <tr>\n",
       "      <th>2</th>\n",
       "      <td>عن يحيى بن يَعْمَرَ، وَحُمَيْدِ بْنِ عَبْدِ ال...</td>\n",
       "      <td>“Dari Yahya bin Ya'mar dan Humaid bin 'Abdur-R...</td>\n",
       "      <td>Abdullah bin Umar</td>\n",
       "      <td>Muslim bin Hajjaj</td>\n",
       "      <td>Shahih Muslim</td>\n",
       "      <td>3</td>\n",
       "      <td>Shahih</td>\n",
       "    </tr>\n",
       "    <tr>\n",
       "      <th>3</th>\n",
       "      <td>عَنْ يَحْيَى بْنِ يَعْمَرَ قَالَ لَمَّا تَكَلّ...</td>\n",
       "      <td>“Yahya bin Ya'mar berkata: \"Ketika Ma'bad mula...</td>\n",
       "      <td>Abdullah bin Umar</td>\n",
       "      <td>Muslim bin Hajjaj</td>\n",
       "      <td>Shahih Muslim</td>\n",
       "      <td>2</td>\n",
       "      <td>Shahih</td>\n",
       "    </tr>\n",
       "    <tr>\n",
       "      <th>4</th>\n",
       "      <td>كَانَ أَوَّلَ مَنْ قَالَ فِي الْقَدَرِ بِالْبَ...</td>\n",
       "      <td>“Orang yang pertama kali membahas takdir di Ba...</td>\n",
       "      <td>Abdullah bin Umar</td>\n",
       "      <td>Muslim bin Hajjaj</td>\n",
       "      <td>Shahih Muslim</td>\n",
       "      <td>1</td>\n",
       "      <td>Shahih</td>\n",
       "    </tr>\n",
       "    <tr>\n",
       "      <th>...</th>\n",
       "      <td>...</td>\n",
       "      <td>...</td>\n",
       "      <td>...</td>\n",
       "      <td>...</td>\n",
       "      <td>...</td>\n",
       "      <td>...</td>\n",
       "      <td>...</td>\n",
       "    </tr>\n",
       "    <tr>\n",
       "      <th>778</th>\n",
       "      <td>مَن سَمِعَ النِّداءَ فلَم يأتِ فلا صَلاةَ لَه ...</td>\n",
       "      <td>“Barangsiapa yang mendengar adzan, namun tidak...</td>\n",
       "      <td>Abdullah bin Abbas</td>\n",
       "      <td>Ibnu Hajar Al Asqalani</td>\n",
       "      <td>Bulughul Maram</td>\n",
       "      <td>114</td>\n",
       "      <td>Shahih</td>\n",
       "    </tr>\n",
       "    <tr>\n",
       "      <th>779</th>\n",
       "      <td>إنَّ لك من الأجرِ على قدْرِ نَصَبِك و نفقتِك</td>\n",
       "      <td>“Sesungguhnya besar pahala sebanding dengan ke...</td>\n",
       "      <td>Aisyah</td>\n",
       "      <td>Muhammad Nashiruddin Al Albani</td>\n",
       "      <td>Shahih Jami' Ash Shaghir</td>\n",
       "      <td>2160</td>\n",
       "      <td>Shahih</td>\n",
       "    </tr>\n",
       "    <tr>\n",
       "      <th>780</th>\n",
       "      <td>يَوَدُّ أَهلُ العَافِيَةِ يَومَ القِيَامَةِ حِ...</td>\n",
       "      <td>“Orang-orang yang dahulu sehat di dunia kelak ...</td>\n",
       "      <td>Jabir bin Abdillah</td>\n",
       "      <td>Muhammad Nashiruddin Al Albani</td>\n",
       "      <td>Shahih At Tirmidzi</td>\n",
       "      <td>2402</td>\n",
       "      <td>Shahih</td>\n",
       "    </tr>\n",
       "    <tr>\n",
       "      <th>781</th>\n",
       "      <td>: خطبنا رسول الله صلى الله عليه وسلم، فأقبل ال...</td>\n",
       "      <td>“Rasulullah Shallallahu ‘alaihi wa sallam berk...</td>\n",
       "      <td>Abdullah bin Buraidah</td>\n",
       "      <td>Muhammad Nashiruddin Al Albani</td>\n",
       "      <td>Shahih Abu Daud</td>\n",
       "      <td>1109</td>\n",
       "      <td>Shahih</td>\n",
       "    </tr>\n",
       "    <tr>\n",
       "      <th>782</th>\n",
       "      <td>أنَّ رسولَ اللَّهِ صلى الله عليه وسلم رأى على ...</td>\n",
       "      <td>“Rasulullah Shallallahu'alaihi Wasallam meliha...</td>\n",
       "      <td>Anas bin Malik</td>\n",
       "      <td>Muhammad Nashiruddin Al Albani</td>\n",
       "      <td>Shahih At Tirmidzi</td>\n",
       "      <td>1094</td>\n",
       "      <td>Shahih</td>\n",
       "    </tr>\n",
       "  </tbody>\n",
       "</table>\n",
       "<p>783 rows × 7 columns</p>\n",
       "</div>"
      ]
     },
     "execution_count": 33,
     "metadata": {},
     "output_type": "execute_result"
    }
   ],
   "execution_count": 33
  },
  {
   "metadata": {
    "ExecuteTime": {
     "end_time": "2025-02-17T04:16:36.689934Z",
     "start_time": "2025-02-17T04:16:36.675095Z"
    }
   },
   "cell_type": "code",
   "source": "df.to_csv(\"csv/hadith.csv\", index=False)",
   "id": "110c584865e59bbd",
   "outputs": [],
   "execution_count": 34
  },
  {
   "metadata": {},
   "cell_type": "code",
   "outputs": [],
   "execution_count": null,
   "source": "",
   "id": "1486effe1c7a1a03"
  }
 ],
 "metadata": {
  "kernelspec": {
   "display_name": "Python 3",
   "language": "python",
   "name": "python3"
  },
  "language_info": {
   "codemirror_mode": {
    "name": "ipython",
    "version": 2
   },
   "file_extension": ".py",
   "mimetype": "text/x-python",
   "name": "python",
   "nbconvert_exporter": "python",
   "pygments_lexer": "ipython2",
   "version": "2.7.6"
  }
 },
 "nbformat": 4,
 "nbformat_minor": 5
}
