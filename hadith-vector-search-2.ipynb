{
 "cells": [
  {
   "cell_type": "code",
   "id": "initial_id",
   "metadata": {
    "collapsed": true,
    "ExecuteTime": {
     "end_time": "2025-02-17T22:45:19.551981Z",
     "start_time": "2025-02-17T22:45:18.163968Z"
    }
   },
   "source": "from langchain_chroma import Chroma",
   "outputs": [],
   "execution_count": 3
  },
  {
   "metadata": {
    "ExecuteTime": {
     "end_time": "2025-02-17T22:45:42.959301Z",
     "start_time": "2025-02-17T22:45:42.950535Z"
    }
   },
   "cell_type": "code",
   "source": [
    "from dotenv import load_dotenv\n",
    "load_dotenv()"
   ],
   "id": "a5875c1c1448ec97",
   "outputs": [
    {
     "data": {
      "text/plain": [
       "True"
      ]
     },
     "execution_count": 6,
     "metadata": {},
     "output_type": "execute_result"
    }
   ],
   "execution_count": 6
  },
  {
   "metadata": {
    "ExecuteTime": {
     "end_time": "2025-02-17T22:45:44.036401Z",
     "start_time": "2025-02-17T22:45:44.007864Z"
    }
   },
   "cell_type": "code",
   "source": [
    "import pandas as pd\n",
    "hadiths = pd.read_csv(\"csv/hadith.csv\")"
   ],
   "id": "1399d0a67cefed25",
   "outputs": [],
   "execution_count": 7
  },
  {
   "metadata": {
    "ExecuteTime": {
     "end_time": "2025-02-17T22:45:44.980926Z",
     "start_time": "2025-02-17T22:45:44.962872Z"
    }
   },
   "cell_type": "code",
   "source": "hadiths",
   "id": "f25cc63a579c56de",
   "outputs": [
    {
     "data": {
      "text/plain": [
       "      id                                             arabic  \\\n",
       "0      0  فِي رِوَايَتِهِ \"إِذَا وَلَدَتِ الأَمَةُ بَعْل...   \n",
       "1      1  عَنْ يَحْيَى بْنِ يَعْمَرَ، عَنِ ابْنِ عُمَرَ،...   \n",
       "2      2  عن يحيى بن يَعْمَرَ، وَحُمَيْدِ بْنِ عَبْدِ ال...   \n",
       "3      3  عَنْ يَحْيَى بْنِ يَعْمَرَ قَالَ لَمَّا تَكَلّ...   \n",
       "4      4  كَانَ أَوَّلَ مَنْ قَالَ فِي الْقَدَرِ بِالْبَ...   \n",
       "..   ...                                                ...   \n",
       "778  778  مَن سَمِعَ النِّداءَ فلَم يأتِ فلا صَلاةَ لَه ...   \n",
       "779  779       إنَّ لك من الأجرِ على قدْرِ نَصَبِك و نفقتِك   \n",
       "780  780  يَوَدُّ أَهلُ العَافِيَةِ يَومَ القِيَامَةِ حِ...   \n",
       "781  781  : خطبنا رسول الله صلى الله عليه وسلم، فأقبل ال...   \n",
       "782  782  أنَّ رسولَ اللَّهِ صلى الله عليه وسلم رأى على ...   \n",
       "\n",
       "                                          translate_id                narator  \\\n",
       "0    “Dalam riwayat lain, \"... ketika para al-amatu...           Abu Hurairah   \n",
       "1    “Dari Yahya bin Ya'mar dari Ibnu Umar, dari Um...      Abdullah bin Umar   \n",
       "2    “Dari Yahya bin Ya'mar dan Humaid bin 'Abdur-R...      Abdullah bin Umar   \n",
       "3    “Yahya bin Ya'mar berkata: \"Ketika Ma'bad mula...      Abdullah bin Umar   \n",
       "4    “Orang yang pertama kali membahas takdir di Ba...      Abdullah bin Umar   \n",
       "..                                                 ...                    ...   \n",
       "778  “Barangsiapa yang mendengar adzan, namun tidak...     Abdullah bin Abbas   \n",
       "779  “Sesungguhnya besar pahala sebanding dengan ke...                 Aisyah   \n",
       "780  “Orang-orang yang dahulu sehat di dunia kelak ...     Jabir bin Abdillah   \n",
       "781  “Rasulullah Shallallahu ‘alaihi wa sallam berk...  Abdullah bin Buraidah   \n",
       "782  “Rasulullah Shallallahu'alaihi Wasallam meliha...         Anas bin Malik   \n",
       "\n",
       "                     hadith_scholar                    source hadith_no  \\\n",
       "0                 Muslim bin Hajjaj             Shahih Muslim         6   \n",
       "1                 Muslim bin Hajjaj             Shahih Muslim         4   \n",
       "2                 Muslim bin Hajjaj             Shahih Muslim         3   \n",
       "3                 Muslim bin Hajjaj             Shahih Muslim         2   \n",
       "4                 Muslim bin Hajjaj             Shahih Muslim         1   \n",
       "..                              ...                       ...       ...   \n",
       "778          Ibnu Hajar Al Asqalani            Bulughul Maram       114   \n",
       "779  Muhammad Nashiruddin Al Albani  Shahih Jami' Ash Shaghir      2160   \n",
       "780  Muhammad Nashiruddin Al Albani        Shahih At Tirmidzi      2402   \n",
       "781  Muhammad Nashiruddin Al Albani           Shahih Abu Daud      1109   \n",
       "782  Muhammad Nashiruddin Al Albani        Shahih At Tirmidzi      1094   \n",
       "\n",
       "    level_of_hadith  \n",
       "0            Shahih  \n",
       "1            Shahih  \n",
       "2            Shahih  \n",
       "3            Shahih  \n",
       "4            Shahih  \n",
       "..              ...  \n",
       "778          Shahih  \n",
       "779          Shahih  \n",
       "780          Shahih  \n",
       "781          Shahih  \n",
       "782          Shahih  \n",
       "\n",
       "[783 rows x 8 columns]"
      ],
      "text/html": [
       "<div>\n",
       "<style scoped>\n",
       "    .dataframe tbody tr th:only-of-type {\n",
       "        vertical-align: middle;\n",
       "    }\n",
       "\n",
       "    .dataframe tbody tr th {\n",
       "        vertical-align: top;\n",
       "    }\n",
       "\n",
       "    .dataframe thead th {\n",
       "        text-align: right;\n",
       "    }\n",
       "</style>\n",
       "<table border=\"1\" class=\"dataframe\">\n",
       "  <thead>\n",
       "    <tr style=\"text-align: right;\">\n",
       "      <th></th>\n",
       "      <th>id</th>\n",
       "      <th>arabic</th>\n",
       "      <th>translate_id</th>\n",
       "      <th>narator</th>\n",
       "      <th>hadith_scholar</th>\n",
       "      <th>source</th>\n",
       "      <th>hadith_no</th>\n",
       "      <th>level_of_hadith</th>\n",
       "    </tr>\n",
       "  </thead>\n",
       "  <tbody>\n",
       "    <tr>\n",
       "      <th>0</th>\n",
       "      <td>0</td>\n",
       "      <td>فِي رِوَايَتِهِ \"إِذَا وَلَدَتِ الأَمَةُ بَعْل...</td>\n",
       "      <td>“Dalam riwayat lain, \"... ketika para al-amatu...</td>\n",
       "      <td>Abu Hurairah</td>\n",
       "      <td>Muslim bin Hajjaj</td>\n",
       "      <td>Shahih Muslim</td>\n",
       "      <td>6</td>\n",
       "      <td>Shahih</td>\n",
       "    </tr>\n",
       "    <tr>\n",
       "      <th>1</th>\n",
       "      <td>1</td>\n",
       "      <td>عَنْ يَحْيَى بْنِ يَعْمَرَ، عَنِ ابْنِ عُمَرَ،...</td>\n",
       "      <td>“Dari Yahya bin Ya'mar dari Ibnu Umar, dari Um...</td>\n",
       "      <td>Abdullah bin Umar</td>\n",
       "      <td>Muslim bin Hajjaj</td>\n",
       "      <td>Shahih Muslim</td>\n",
       "      <td>4</td>\n",
       "      <td>Shahih</td>\n",
       "    </tr>\n",
       "    <tr>\n",
       "      <th>2</th>\n",
       "      <td>2</td>\n",
       "      <td>عن يحيى بن يَعْمَرَ، وَحُمَيْدِ بْنِ عَبْدِ ال...</td>\n",
       "      <td>“Dari Yahya bin Ya'mar dan Humaid bin 'Abdur-R...</td>\n",
       "      <td>Abdullah bin Umar</td>\n",
       "      <td>Muslim bin Hajjaj</td>\n",
       "      <td>Shahih Muslim</td>\n",
       "      <td>3</td>\n",
       "      <td>Shahih</td>\n",
       "    </tr>\n",
       "    <tr>\n",
       "      <th>3</th>\n",
       "      <td>3</td>\n",
       "      <td>عَنْ يَحْيَى بْنِ يَعْمَرَ قَالَ لَمَّا تَكَلّ...</td>\n",
       "      <td>“Yahya bin Ya'mar berkata: \"Ketika Ma'bad mula...</td>\n",
       "      <td>Abdullah bin Umar</td>\n",
       "      <td>Muslim bin Hajjaj</td>\n",
       "      <td>Shahih Muslim</td>\n",
       "      <td>2</td>\n",
       "      <td>Shahih</td>\n",
       "    </tr>\n",
       "    <tr>\n",
       "      <th>4</th>\n",
       "      <td>4</td>\n",
       "      <td>كَانَ أَوَّلَ مَنْ قَالَ فِي الْقَدَرِ بِالْبَ...</td>\n",
       "      <td>“Orang yang pertama kali membahas takdir di Ba...</td>\n",
       "      <td>Abdullah bin Umar</td>\n",
       "      <td>Muslim bin Hajjaj</td>\n",
       "      <td>Shahih Muslim</td>\n",
       "      <td>1</td>\n",
       "      <td>Shahih</td>\n",
       "    </tr>\n",
       "    <tr>\n",
       "      <th>...</th>\n",
       "      <td>...</td>\n",
       "      <td>...</td>\n",
       "      <td>...</td>\n",
       "      <td>...</td>\n",
       "      <td>...</td>\n",
       "      <td>...</td>\n",
       "      <td>...</td>\n",
       "      <td>...</td>\n",
       "    </tr>\n",
       "    <tr>\n",
       "      <th>778</th>\n",
       "      <td>778</td>\n",
       "      <td>مَن سَمِعَ النِّداءَ فلَم يأتِ فلا صَلاةَ لَه ...</td>\n",
       "      <td>“Barangsiapa yang mendengar adzan, namun tidak...</td>\n",
       "      <td>Abdullah bin Abbas</td>\n",
       "      <td>Ibnu Hajar Al Asqalani</td>\n",
       "      <td>Bulughul Maram</td>\n",
       "      <td>114</td>\n",
       "      <td>Shahih</td>\n",
       "    </tr>\n",
       "    <tr>\n",
       "      <th>779</th>\n",
       "      <td>779</td>\n",
       "      <td>إنَّ لك من الأجرِ على قدْرِ نَصَبِك و نفقتِك</td>\n",
       "      <td>“Sesungguhnya besar pahala sebanding dengan ke...</td>\n",
       "      <td>Aisyah</td>\n",
       "      <td>Muhammad Nashiruddin Al Albani</td>\n",
       "      <td>Shahih Jami' Ash Shaghir</td>\n",
       "      <td>2160</td>\n",
       "      <td>Shahih</td>\n",
       "    </tr>\n",
       "    <tr>\n",
       "      <th>780</th>\n",
       "      <td>780</td>\n",
       "      <td>يَوَدُّ أَهلُ العَافِيَةِ يَومَ القِيَامَةِ حِ...</td>\n",
       "      <td>“Orang-orang yang dahulu sehat di dunia kelak ...</td>\n",
       "      <td>Jabir bin Abdillah</td>\n",
       "      <td>Muhammad Nashiruddin Al Albani</td>\n",
       "      <td>Shahih At Tirmidzi</td>\n",
       "      <td>2402</td>\n",
       "      <td>Shahih</td>\n",
       "    </tr>\n",
       "    <tr>\n",
       "      <th>781</th>\n",
       "      <td>781</td>\n",
       "      <td>: خطبنا رسول الله صلى الله عليه وسلم، فأقبل ال...</td>\n",
       "      <td>“Rasulullah Shallallahu ‘alaihi wa sallam berk...</td>\n",
       "      <td>Abdullah bin Buraidah</td>\n",
       "      <td>Muhammad Nashiruddin Al Albani</td>\n",
       "      <td>Shahih Abu Daud</td>\n",
       "      <td>1109</td>\n",
       "      <td>Shahih</td>\n",
       "    </tr>\n",
       "    <tr>\n",
       "      <th>782</th>\n",
       "      <td>782</td>\n",
       "      <td>أنَّ رسولَ اللَّهِ صلى الله عليه وسلم رأى على ...</td>\n",
       "      <td>“Rasulullah Shallallahu'alaihi Wasallam meliha...</td>\n",
       "      <td>Anas bin Malik</td>\n",
       "      <td>Muhammad Nashiruddin Al Albani</td>\n",
       "      <td>Shahih At Tirmidzi</td>\n",
       "      <td>1094</td>\n",
       "      <td>Shahih</td>\n",
       "    </tr>\n",
       "  </tbody>\n",
       "</table>\n",
       "<p>783 rows × 8 columns</p>\n",
       "</div>"
      ]
     },
     "execution_count": 8,
     "metadata": {},
     "output_type": "execute_result"
    }
   ],
   "execution_count": 8
  },
  {
   "metadata": {
    "ExecuteTime": {
     "end_time": "2025-02-17T22:45:46.950255Z",
     "start_time": "2025-02-17T22:45:46.924052Z"
    }
   },
   "cell_type": "code",
   "source": [
    "ids = hadiths[\"id\"].astype(str).tolist()\n",
    "texts = hadiths[\"translate_id\"].tolist()\n",
    "metadatas = hadiths.apply(\n",
    "    lambda x: {\n",
    "        \"id\": x[\"id\"],\n",
    "        \"arabic\": x[\"arabic\"],\n",
    "        \"translate_id\": x[\"translate_id\"],\n",
    "        \"narrator\": x[\"narator\"],\n",
    "        \"source\": x[\"source\"],\n",
    "        \"hadith_no\": x[\"hadith_no\"],\n",
    "    },\n",
    "    axis=1,\n",
    ").tolist()"
   ],
   "id": "423a1ed1916d94df",
   "outputs": [],
   "execution_count": 9
  },
  {
   "metadata": {
    "ExecuteTime": {
     "end_time": "2025-02-17T22:45:48.652147Z",
     "start_time": "2025-02-17T22:45:48.646018Z"
    }
   },
   "cell_type": "code",
   "source": "from sentence_transformers import SentenceTransformer",
   "id": "6b0c3e75667d108e",
   "outputs": [],
   "execution_count": 10
  },
  {
   "metadata": {
    "ExecuteTime": {
     "end_time": "2025-02-17T22:45:50.392295Z",
     "start_time": "2025-02-17T22:45:50.358862Z"
    }
   },
   "cell_type": "code",
   "source": [
    "from langchain.embeddings.base import Embeddings\n",
    "from typing import List\n",
    "class SentenceTransformerEmbeddings(Embeddings):\n",
    "    def __init__(self, model_name: str):\n",
    "        self.model = SentenceTransformer(model_name)\n",
    "\n",
    "    def embed_documents(self, documents: List[str]) -> List[List[float]]:\n",
    "        return self.model.encode(documents)\n",
    "\n",
    "    def embed_query(self, query: str) -> List[float]:\n",
    "        return self.model.encode([query])[0]"
   ],
   "id": "d208617c430956d5",
   "outputs": [],
   "execution_count": 11
  },
  {
   "metadata": {
    "ExecuteTime": {
     "end_time": "2025-02-17T22:49:00.900574Z",
     "start_time": "2025-02-17T22:45:52.330770Z"
    }
   },
   "cell_type": "code",
   "source": "db = Chroma.from_texts(texts=texts, metadatas=metadatas, embedding=SentenceTransformerEmbeddings(\"indolem/indobert-base-uncased\"))",
   "id": "37a7e3d4b61d3faa",
   "outputs": [
    {
     "name": "stderr",
     "output_type": "stream",
     "text": [
      "No sentence-transformers model found with name indolem/indobert-base-uncased. Creating a new one with mean pooling.\n"
     ]
    },
    {
     "data": {
      "text/plain": [
       "config.json:   0%|          | 0.00/1.01k [00:00<?, ?B/s]"
      ],
      "application/vnd.jupyter.widget-view+json": {
       "version_major": 2,
       "version_minor": 0,
       "model_id": "53900b8a399c426191a23180d3b6b4a3"
      }
     },
     "metadata": {},
     "output_type": "display_data"
    },
    {
     "data": {
      "text/plain": [
       "pytorch_model.bin:   0%|          | 0.00/445M [00:00<?, ?B/s]"
      ],
      "application/vnd.jupyter.widget-view+json": {
       "version_major": 2,
       "version_minor": 0,
       "model_id": "597a7d8d3db3481da2985d3ad08ee867"
      }
     },
     "metadata": {},
     "output_type": "display_data"
    },
    {
     "data": {
      "text/plain": [
       "tokenizer_config.json:   0%|          | 0.00/42.0 [00:00<?, ?B/s]"
      ],
      "application/vnd.jupyter.widget-view+json": {
       "version_major": 2,
       "version_minor": 0,
       "model_id": "77ffaebd1aa14b31a135c43b9570f0f2"
      }
     },
     "metadata": {},
     "output_type": "display_data"
    },
    {
     "data": {
      "text/plain": [
       "vocab.txt:   0%|          | 0.00/234k [00:00<?, ?B/s]"
      ],
      "application/vnd.jupyter.widget-view+json": {
       "version_major": 2,
       "version_minor": 0,
       "model_id": "b4e1762024834d29ba0bcfc782690d05"
      }
     },
     "metadata": {},
     "output_type": "display_data"
    },
    {
     "data": {
      "text/plain": [
       "added_tokens.json:   0%|          | 0.00/2.00 [00:00<?, ?B/s]"
      ],
      "application/vnd.jupyter.widget-view+json": {
       "version_major": 2,
       "version_minor": 0,
       "model_id": "cf5eebe020de417fae0dc560874e3b04"
      }
     },
     "metadata": {},
     "output_type": "display_data"
    },
    {
     "data": {
      "text/plain": [
       "special_tokens_map.json:   0%|          | 0.00/112 [00:00<?, ?B/s]"
      ],
      "application/vnd.jupyter.widget-view+json": {
       "version_major": 2,
       "version_minor": 0,
       "model_id": "883e6b39982340c78962bc3714f8dd58"
      }
     },
     "metadata": {},
     "output_type": "display_data"
    }
   ],
   "execution_count": 12
  },
  {
   "metadata": {
    "ExecuteTime": {
     "end_time": "2025-02-18T01:54:29.065062Z",
     "start_time": "2025-02-18T01:54:29.005322Z"
    }
   },
   "cell_type": "code",
   "source": [
    "query = \"Tata cara salat\"\n",
    "docs = db.similarity_search(query, k=10)\n",
    "docs"
   ],
   "id": "218eda4a79e92523",
   "outputs": [
    {
     "data": {
      "text/plain": [
       "[Document(id='585d8848-1ade-48fc-b7bb-b39647223666', metadata={'arabic': 'أكْثرُ مُنافقي أمَّتي قرَّاؤُها', 'hadith_no': '10/125', 'id': 224, 'narrator': \"Abdullah bin 'Amr bin Al Ash\", 'source': 'Takhrij Musnad Ahmad', 'translate_id': \"“Kebanyakan orang munafik dari kalangan umatku adalah para pembaca Al Qur'an”\"}, page_content=\"“Kebanyakan orang munafik dari kalangan umatku adalah para pembaca Al Qur'an”\"),\n",
       " Document(id='8e154eaf-5b6c-4bba-aa28-2edd12d89adf', metadata={'arabic': 'أكْثرُ مُنافقي أمَّتي قرَّاؤُها', 'hadith_no': '750', 'id': 223, 'narrator': \"Abdullah bin 'Amr bin Al Ash\", 'source': 'As Silsilah Al Ahadits Ash Shahihah', 'translate_id': \"“Kebanyakan orang munafik dari kalangan umatku adalah para pembaca Al Qur'an”\"}, page_content=\"“Kebanyakan orang munafik dari kalangan umatku adalah para pembaca Al Qur'an”\"),\n",
       " Document(id='770a5e6b-1338-48fc-bbaf-a25effdac9ee', metadata={'arabic': 'مِنْ خُلَفائِكُمْ خَلِيفَةٌ يَحْثُو المالَ حَثْيًا، لا يَعُدُّهُ عَدَدًا. وفي رِوايَةِ ابْنِ حُجْرٍ: يَحْثِي المالَ', 'hadith_no': '2914', 'id': 126, 'narrator': \"Abu Sa'id Al Khudri\", 'source': 'Shahih Muslim', 'translate_id': '“Akan datang di akhir umatku seorang khalifah yang menciduk harta dengan cidukan tidak menghitungnya dengan bilangan. Dalam riwayat Ibnu Hujr: \"yang memberikan harta\"”'}, page_content='“Akan datang di akhir umatku seorang khalifah yang menciduk harta dengan cidukan tidak menghitungnya dengan bilangan. Dalam riwayat Ibnu Hujr: \"yang memberikan harta\"”'),\n",
       " Document(id='aff6e2fa-0b51-449c-89ff-61d4d05c920b', metadata={'arabic': 'آيَةُ الإيمانِ حُبُّ الأنْصارِ، وآيَةُ النِّفاقِ بُغْضُ الأنْصارِ', 'hadith_no': '17', 'id': 82, 'narrator': 'Anas bin Malik', 'source': 'Shahih Al Bukhari', 'translate_id': '“Ciri orang beriman adalah mencintai orang Anshar. Ciri orang munafik adalah membenci orang Anshar.”'}, page_content='“Ciri orang beriman adalah mencintai orang Anshar. Ciri orang munafik adalah membenci orang Anshar.”'),\n",
       " Document(id='ef4250f4-fac5-48a4-a984-ea5638111b98', metadata={'arabic': 'آيَةُ الإيمانِ حُبُّ الأنْصارِ، وآيَةُ النِّفاقِ بُغْضُ الأنْصارِ', 'hadith_no': '74', 'id': 81, 'narrator': 'Anas bin Malik', 'source': 'Shahih Muslim', 'translate_id': '“Ciri orang beriman adalah mencintai orang Anshar. Ciri orang munafik adalah membenci orang Anshar.”'}, page_content='“Ciri orang beriman adalah mencintai orang Anshar. Ciri orang munafik adalah membenci orang Anshar.”'),\n",
       " Document(id='6c1a87a7-9c7b-456e-9aa5-dca253e8d27f', metadata={'arabic': 'آيَةُ الإيمانِ حُبُّ الأنْصارِ، وآيَةُ النِّفاقِ بُغْضُ الأنْصارِ', 'hadith_no': '3784', 'id': 83, 'narrator': 'Anas bin Malik', 'source': 'Shahih Al Bukhari', 'translate_id': '“Ciri orang beriman adalah mencintai orang Anshar. Ciri orang munafik adalah membenci orang Anshar.”'}, page_content='“Ciri orang beriman adalah mencintai orang Anshar. Ciri orang munafik adalah membenci orang Anshar.”'),\n",
       " Document(id='2e309c7c-aed0-4d7d-883f-b655503a05bc', metadata={'arabic': 'مَن لَبِسَ الحَرِيرَ في الدُّنْيَا فَلَنْ يَلْبَسَهُ في الآخِرَةِ', 'hadith_no': '5832', 'id': 378, 'narrator': 'Anas bin Malik', 'source': 'Shahih Al Bukhari', 'translate_id': '“Barangsiapa yang memakai pakaian dari sutra di dunia, dia tidak akan pernah memakainya di akhirat”'}, page_content='“Barangsiapa yang memakai pakaian dari sutra di dunia, dia tidak akan pernah memakainya di akhirat”'),\n",
       " Document(id='b4c6994d-fec1-48c4-99a0-7be1aebdf0d9', metadata={'arabic': 'لا تَنتِفُوا الشَّيْبَ ، ما مِنْ مُسْلِمٍ يَشيبُ شَيْبَةً في الإسلامِ ، إلَّا كانَتْ لَهُ نورًا يومَ القيامَةِ', 'hadith_no': '7463', 'id': 556, 'narrator': 'Abdullah bin Umar', 'source': 'Shahih Abu Daud', 'translate_id': '“Jangan mencabut uban. Tidaklah seorang muslim memiliki sehelai uban dalam Islam, melainkan uban tersebut akan menjadi cahaya baginya di hari kiamat”'}, page_content='“Jangan mencabut uban. Tidaklah seorang muslim memiliki sehelai uban dalam Islam, melainkan uban tersebut akan menjadi cahaya baginya di hari kiamat”'),\n",
       " Document(id='76cfc3dc-89c2-44de-93f0-ef182c6527db', metadata={'arabic': 'فِي الرُّقَى قالَ: رُخِّصَ في الحُمَةِ وَالنَّمْلَةِ وَالْعَيْنِ', 'hadith_no': '2196', 'id': 110, 'narrator': 'Anas bin Malik', 'source': 'Shahih Muslim', 'translate_id': \"“Nabi berkata tentang ruqyah: diberikan kelonggaran untuk meruqyah untuk menyembuhkan sengatan kalajengking, gigitan semut, dan penyakit 'ain”\"}, page_content=\"“Nabi berkata tentang ruqyah: diberikan kelonggaran untuk meruqyah untuk menyembuhkan sengatan kalajengking, gigitan semut, dan penyakit 'ain”\"),\n",
       " Document(id='d8b7090c-722d-414b-a4ca-c63b864c411d', metadata={'arabic': 'إنَّ من شرارِ الناسِ من تُدركُه الساعةُ وهم أحياءٌ ، ومن يتَّخِذِ القبورَ مساجدَ', 'hadith_no': '26', 'id': 453, 'narrator': \"Abdullah bin Mas'ud\", 'source': 'Tahdzirus Sajid', 'translate_id': '“Seburuk-buruk manusia adalah yang mendapati hari Kiamat dalam keadaan masih hidup dan orang yang membangun tempat ibadah di kuburan”'}, page_content='“Seburuk-buruk manusia adalah yang mendapati hari Kiamat dalam keadaan masih hidup dan orang yang membangun tempat ibadah di kuburan”')]"
      ]
     },
     "execution_count": 16,
     "metadata": {},
     "output_type": "execute_result"
    }
   ],
   "execution_count": 16
  }
 ],
 "metadata": {
  "kernelspec": {
   "display_name": "Python 3",
   "language": "python",
   "name": "python3"
  },
  "language_info": {
   "codemirror_mode": {
    "name": "ipython",
    "version": 2
   },
   "file_extension": ".py",
   "mimetype": "text/x-python",
   "name": "python",
   "nbconvert_exporter": "python",
   "pygments_lexer": "ipython2",
   "version": "2.7.6"
  }
 },
 "nbformat": 4,
 "nbformat_minor": 5
}
