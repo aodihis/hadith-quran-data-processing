{
 "cells": [
  {
   "cell_type": "code",
   "id": "initial_id",
   "metadata": {
    "collapsed": true,
    "ExecuteTime": {
     "end_time": "2025-02-17T13:37:55.053165Z",
     "start_time": "2025-02-17T13:37:55.049710Z"
    }
   },
   "source": [
    "from langchain_openai import OpenAIEmbeddings\n",
    "from langchain_chroma import Chroma\n",
    "from langchain.schema import Document"
   ],
   "outputs": [],
   "execution_count": 17
  },
  {
   "metadata": {
    "ExecuteTime": {
     "end_time": "2025-02-17T13:34:50.494520Z",
     "start_time": "2025-02-17T13:34:50.489801Z"
    }
   },
   "cell_type": "code",
   "source": [
    "from dotenv import load_dotenv\n",
    "load_dotenv()"
   ],
   "id": "a5875c1c1448ec97",
   "outputs": [
    {
     "data": {
      "text/plain": [
       "True"
      ]
     },
     "execution_count": 14,
     "metadata": {},
     "output_type": "execute_result"
    }
   ],
   "execution_count": 14
  },
  {
   "metadata": {
    "ExecuteTime": {
     "end_time": "2025-02-17T13:34:17.851525Z",
     "start_time": "2025-02-17T13:34:17.836962Z"
    }
   },
   "cell_type": "code",
   "source": [
    "import pandas as pd\n",
    "hadiths = pd.read_csv(\"csv/hadith.csv\")"
   ],
   "id": "1399d0a67cefed25",
   "outputs": [],
   "execution_count": 10
  },
  {
   "metadata": {
    "ExecuteTime": {
     "end_time": "2025-02-17T13:34:18.801651Z",
     "start_time": "2025-02-17T13:34:18.792787Z"
    }
   },
   "cell_type": "code",
   "source": "hadiths",
   "id": "f25cc63a579c56de",
   "outputs": [
    {
     "data": {
      "text/plain": [
       "      id                                             arabic  \\\n",
       "0      0  فِي رِوَايَتِهِ \"إِذَا وَلَدَتِ الأَمَةُ بَعْل...   \n",
       "1      1  عَنْ يَحْيَى بْنِ يَعْمَرَ، عَنِ ابْنِ عُمَرَ،...   \n",
       "2      2  عن يحيى بن يَعْمَرَ، وَحُمَيْدِ بْنِ عَبْدِ ال...   \n",
       "3      3  عَنْ يَحْيَى بْنِ يَعْمَرَ قَالَ لَمَّا تَكَلّ...   \n",
       "4      4  كَانَ أَوَّلَ مَنْ قَالَ فِي الْقَدَرِ بِالْبَ...   \n",
       "..   ...                                                ...   \n",
       "778  778  مَن سَمِعَ النِّداءَ فلَم يأتِ فلا صَلاةَ لَه ...   \n",
       "779  779       إنَّ لك من الأجرِ على قدْرِ نَصَبِك و نفقتِك   \n",
       "780  780  يَوَدُّ أَهلُ العَافِيَةِ يَومَ القِيَامَةِ حِ...   \n",
       "781  781  : خطبنا رسول الله صلى الله عليه وسلم، فأقبل ال...   \n",
       "782  782  أنَّ رسولَ اللَّهِ صلى الله عليه وسلم رأى على ...   \n",
       "\n",
       "                                          translate_id                narator  \\\n",
       "0    “Dalam riwayat lain, \"... ketika para al-amatu...           Abu Hurairah   \n",
       "1    “Dari Yahya bin Ya'mar dari Ibnu Umar, dari Um...      Abdullah bin Umar   \n",
       "2    “Dari Yahya bin Ya'mar dan Humaid bin 'Abdur-R...      Abdullah bin Umar   \n",
       "3    “Yahya bin Ya'mar berkata: \"Ketika Ma'bad mula...      Abdullah bin Umar   \n",
       "4    “Orang yang pertama kali membahas takdir di Ba...      Abdullah bin Umar   \n",
       "..                                                 ...                    ...   \n",
       "778  “Barangsiapa yang mendengar adzan, namun tidak...     Abdullah bin Abbas   \n",
       "779  “Sesungguhnya besar pahala sebanding dengan ke...                 Aisyah   \n",
       "780  “Orang-orang yang dahulu sehat di dunia kelak ...     Jabir bin Abdillah   \n",
       "781  “Rasulullah Shallallahu ‘alaihi wa sallam berk...  Abdullah bin Buraidah   \n",
       "782  “Rasulullah Shallallahu'alaihi Wasallam meliha...         Anas bin Malik   \n",
       "\n",
       "                     hadith_scholar                    source hadith_no  \\\n",
       "0                 Muslim bin Hajjaj             Shahih Muslim         6   \n",
       "1                 Muslim bin Hajjaj             Shahih Muslim         4   \n",
       "2                 Muslim bin Hajjaj             Shahih Muslim         3   \n",
       "3                 Muslim bin Hajjaj             Shahih Muslim         2   \n",
       "4                 Muslim bin Hajjaj             Shahih Muslim         1   \n",
       "..                              ...                       ...       ...   \n",
       "778          Ibnu Hajar Al Asqalani            Bulughul Maram       114   \n",
       "779  Muhammad Nashiruddin Al Albani  Shahih Jami' Ash Shaghir      2160   \n",
       "780  Muhammad Nashiruddin Al Albani        Shahih At Tirmidzi      2402   \n",
       "781  Muhammad Nashiruddin Al Albani           Shahih Abu Daud      1109   \n",
       "782  Muhammad Nashiruddin Al Albani        Shahih At Tirmidzi      1094   \n",
       "\n",
       "    level_of_hadith  \n",
       "0            Shahih  \n",
       "1            Shahih  \n",
       "2            Shahih  \n",
       "3            Shahih  \n",
       "4            Shahih  \n",
       "..              ...  \n",
       "778          Shahih  \n",
       "779          Shahih  \n",
       "780          Shahih  \n",
       "781          Shahih  \n",
       "782          Shahih  \n",
       "\n",
       "[783 rows x 8 columns]"
      ],
      "text/html": [
       "<div>\n",
       "<style scoped>\n",
       "    .dataframe tbody tr th:only-of-type {\n",
       "        vertical-align: middle;\n",
       "    }\n",
       "\n",
       "    .dataframe tbody tr th {\n",
       "        vertical-align: top;\n",
       "    }\n",
       "\n",
       "    .dataframe thead th {\n",
       "        text-align: right;\n",
       "    }\n",
       "</style>\n",
       "<table border=\"1\" class=\"dataframe\">\n",
       "  <thead>\n",
       "    <tr style=\"text-align: right;\">\n",
       "      <th></th>\n",
       "      <th>id</th>\n",
       "      <th>arabic</th>\n",
       "      <th>translate_id</th>\n",
       "      <th>narator</th>\n",
       "      <th>hadith_scholar</th>\n",
       "      <th>source</th>\n",
       "      <th>hadith_no</th>\n",
       "      <th>level_of_hadith</th>\n",
       "    </tr>\n",
       "  </thead>\n",
       "  <tbody>\n",
       "    <tr>\n",
       "      <th>0</th>\n",
       "      <td>0</td>\n",
       "      <td>فِي رِوَايَتِهِ \"إِذَا وَلَدَتِ الأَمَةُ بَعْل...</td>\n",
       "      <td>“Dalam riwayat lain, \"... ketika para al-amatu...</td>\n",
       "      <td>Abu Hurairah</td>\n",
       "      <td>Muslim bin Hajjaj</td>\n",
       "      <td>Shahih Muslim</td>\n",
       "      <td>6</td>\n",
       "      <td>Shahih</td>\n",
       "    </tr>\n",
       "    <tr>\n",
       "      <th>1</th>\n",
       "      <td>1</td>\n",
       "      <td>عَنْ يَحْيَى بْنِ يَعْمَرَ، عَنِ ابْنِ عُمَرَ،...</td>\n",
       "      <td>“Dari Yahya bin Ya'mar dari Ibnu Umar, dari Um...</td>\n",
       "      <td>Abdullah bin Umar</td>\n",
       "      <td>Muslim bin Hajjaj</td>\n",
       "      <td>Shahih Muslim</td>\n",
       "      <td>4</td>\n",
       "      <td>Shahih</td>\n",
       "    </tr>\n",
       "    <tr>\n",
       "      <th>2</th>\n",
       "      <td>2</td>\n",
       "      <td>عن يحيى بن يَعْمَرَ، وَحُمَيْدِ بْنِ عَبْدِ ال...</td>\n",
       "      <td>“Dari Yahya bin Ya'mar dan Humaid bin 'Abdur-R...</td>\n",
       "      <td>Abdullah bin Umar</td>\n",
       "      <td>Muslim bin Hajjaj</td>\n",
       "      <td>Shahih Muslim</td>\n",
       "      <td>3</td>\n",
       "      <td>Shahih</td>\n",
       "    </tr>\n",
       "    <tr>\n",
       "      <th>3</th>\n",
       "      <td>3</td>\n",
       "      <td>عَنْ يَحْيَى بْنِ يَعْمَرَ قَالَ لَمَّا تَكَلّ...</td>\n",
       "      <td>“Yahya bin Ya'mar berkata: \"Ketika Ma'bad mula...</td>\n",
       "      <td>Abdullah bin Umar</td>\n",
       "      <td>Muslim bin Hajjaj</td>\n",
       "      <td>Shahih Muslim</td>\n",
       "      <td>2</td>\n",
       "      <td>Shahih</td>\n",
       "    </tr>\n",
       "    <tr>\n",
       "      <th>4</th>\n",
       "      <td>4</td>\n",
       "      <td>كَانَ أَوَّلَ مَنْ قَالَ فِي الْقَدَرِ بِالْبَ...</td>\n",
       "      <td>“Orang yang pertama kali membahas takdir di Ba...</td>\n",
       "      <td>Abdullah bin Umar</td>\n",
       "      <td>Muslim bin Hajjaj</td>\n",
       "      <td>Shahih Muslim</td>\n",
       "      <td>1</td>\n",
       "      <td>Shahih</td>\n",
       "    </tr>\n",
       "    <tr>\n",
       "      <th>...</th>\n",
       "      <td>...</td>\n",
       "      <td>...</td>\n",
       "      <td>...</td>\n",
       "      <td>...</td>\n",
       "      <td>...</td>\n",
       "      <td>...</td>\n",
       "      <td>...</td>\n",
       "      <td>...</td>\n",
       "    </tr>\n",
       "    <tr>\n",
       "      <th>778</th>\n",
       "      <td>778</td>\n",
       "      <td>مَن سَمِعَ النِّداءَ فلَم يأتِ فلا صَلاةَ لَه ...</td>\n",
       "      <td>“Barangsiapa yang mendengar adzan, namun tidak...</td>\n",
       "      <td>Abdullah bin Abbas</td>\n",
       "      <td>Ibnu Hajar Al Asqalani</td>\n",
       "      <td>Bulughul Maram</td>\n",
       "      <td>114</td>\n",
       "      <td>Shahih</td>\n",
       "    </tr>\n",
       "    <tr>\n",
       "      <th>779</th>\n",
       "      <td>779</td>\n",
       "      <td>إنَّ لك من الأجرِ على قدْرِ نَصَبِك و نفقتِك</td>\n",
       "      <td>“Sesungguhnya besar pahala sebanding dengan ke...</td>\n",
       "      <td>Aisyah</td>\n",
       "      <td>Muhammad Nashiruddin Al Albani</td>\n",
       "      <td>Shahih Jami' Ash Shaghir</td>\n",
       "      <td>2160</td>\n",
       "      <td>Shahih</td>\n",
       "    </tr>\n",
       "    <tr>\n",
       "      <th>780</th>\n",
       "      <td>780</td>\n",
       "      <td>يَوَدُّ أَهلُ العَافِيَةِ يَومَ القِيَامَةِ حِ...</td>\n",
       "      <td>“Orang-orang yang dahulu sehat di dunia kelak ...</td>\n",
       "      <td>Jabir bin Abdillah</td>\n",
       "      <td>Muhammad Nashiruddin Al Albani</td>\n",
       "      <td>Shahih At Tirmidzi</td>\n",
       "      <td>2402</td>\n",
       "      <td>Shahih</td>\n",
       "    </tr>\n",
       "    <tr>\n",
       "      <th>781</th>\n",
       "      <td>781</td>\n",
       "      <td>: خطبنا رسول الله صلى الله عليه وسلم، فأقبل ال...</td>\n",
       "      <td>“Rasulullah Shallallahu ‘alaihi wa sallam berk...</td>\n",
       "      <td>Abdullah bin Buraidah</td>\n",
       "      <td>Muhammad Nashiruddin Al Albani</td>\n",
       "      <td>Shahih Abu Daud</td>\n",
       "      <td>1109</td>\n",
       "      <td>Shahih</td>\n",
       "    </tr>\n",
       "    <tr>\n",
       "      <th>782</th>\n",
       "      <td>782</td>\n",
       "      <td>أنَّ رسولَ اللَّهِ صلى الله عليه وسلم رأى على ...</td>\n",
       "      <td>“Rasulullah Shallallahu'alaihi Wasallam meliha...</td>\n",
       "      <td>Anas bin Malik</td>\n",
       "      <td>Muhammad Nashiruddin Al Albani</td>\n",
       "      <td>Shahih At Tirmidzi</td>\n",
       "      <td>1094</td>\n",
       "      <td>Shahih</td>\n",
       "    </tr>\n",
       "  </tbody>\n",
       "</table>\n",
       "<p>783 rows × 8 columns</p>\n",
       "</div>"
      ]
     },
     "execution_count": 11,
     "metadata": {},
     "output_type": "execute_result"
    }
   ],
   "execution_count": 11
  },
  {
   "metadata": {
    "ExecuteTime": {
     "end_time": "2025-02-17T13:42:44.105469Z",
     "start_time": "2025-02-17T13:42:44.093107Z"
    }
   },
   "cell_type": "code",
   "source": [
    "ids = hadiths[\"id\"].astype(str).tolist()\n",
    "texts = hadiths[\"translate_id\"].tolist()\n",
    "metadatas = hadiths.apply(\n",
    "    lambda x: {\n",
    "        \"id\": x[\"id\"],\n",
    "        \"arabic\": x[\"arabic\"],\n",
    "        \"translate_id\": x[\"translate_id\"],\n",
    "        \"narrator\": x[\"narator\"],\n",
    "        \"source\": x[\"source\"],\n",
    "        \"hadith_no\": x[\"hadith_no\"],\n",
    "    },\n",
    "    axis=1,\n",
    ").tolist()"
   ],
   "id": "423a1ed1916d94df",
   "outputs": [],
   "execution_count": 25
  },
  {
   "metadata": {
    "ExecuteTime": {
     "end_time": "2025-02-17T14:34:07.631303Z",
     "start_time": "2025-02-17T14:33:29.396319Z"
    }
   },
   "cell_type": "code",
   "source": [
    "from sentence_transformers import SentenceTransformer\n",
    "model = SentenceTransformer(\"sentence-transformers/paraphrase-multilingual-MiniLM-L12-v2\")\n",
    "\n"
   ],
   "id": "6b0c3e75667d108e",
   "outputs": [],
   "execution_count": 28
  },
  {
   "metadata": {
    "ExecuteTime": {
     "end_time": "2025-02-17T14:36:49.177687Z",
     "start_time": "2025-02-17T14:36:49.159710Z"
    }
   },
   "cell_type": "code",
   "source": [
    "from langchain.embeddings.base import Embeddings\n",
    "from typing import List\n",
    "class SentenceTransformerEmbeddings(Embeddings):\n",
    "    def __init__(self, model_name: str):\n",
    "        self.model = SentenceTransformer(model_name)\n",
    "\n",
    "    def embed_documents(self, documents: List[str]) -> List[List[float]]:\n",
    "        return self.model.encode(documents)\n",
    "\n",
    "    def embed_query(self, query: str) -> List[float]:\n",
    "        return self.model.encode([query])[0]"
   ],
   "id": "d208617c430956d5",
   "outputs": [],
   "execution_count": 30
  },
  {
   "metadata": {
    "ExecuteTime": {
     "end_time": "2025-02-17T14:37:41.667351Z",
     "start_time": "2025-02-17T14:37:26.620521Z"
    }
   },
   "cell_type": "code",
   "source": "Chroma.from_texts(texts=texts, metadatas=metadatas, embedding=SentenceTransformerEmbeddings(\"sentence-transformers/paraphrase-multilingual-MiniLM-L12-v2\"))",
   "id": "37a7e3d4b61d3faa",
   "outputs": [
    {
     "ename": "InvalidDimensionException",
     "evalue": "Embedding dimension 384 does not match collection dimensionality 1536",
     "output_type": "error",
     "traceback": [
      "\u001B[1;31m---------------------------------------------------------------------------\u001B[0m",
      "\u001B[1;31mInvalidDimensionException\u001B[0m                 Traceback (most recent call last)",
      "Cell \u001B[1;32mIn[31], line 1\u001B[0m\n\u001B[1;32m----> 1\u001B[0m \u001B[43mChroma\u001B[49m\u001B[38;5;241;43m.\u001B[39;49m\u001B[43mfrom_texts\u001B[49m\u001B[43m(\u001B[49m\u001B[43mtexts\u001B[49m\u001B[38;5;241;43m=\u001B[39;49m\u001B[43mtexts\u001B[49m\u001B[43m,\u001B[49m\u001B[43m \u001B[49m\u001B[43mmetadatas\u001B[49m\u001B[38;5;241;43m=\u001B[39;49m\u001B[43mmetadatas\u001B[49m\u001B[43m,\u001B[49m\u001B[43m \u001B[49m\u001B[43membedding\u001B[49m\u001B[38;5;241;43m=\u001B[39;49m\u001B[43mSentenceTransformerEmbeddings\u001B[49m\u001B[43m(\u001B[49m\u001B[38;5;124;43m\"\u001B[39;49m\u001B[38;5;124;43msentence-transformers/paraphrase-multilingual-MiniLM-L12-v2\u001B[39;49m\u001B[38;5;124;43m\"\u001B[39;49m\u001B[43m)\u001B[49m\u001B[43m)\u001B[49m\n",
      "File \u001B[1;32mC:\\workspace\\python\\islamic-hadist-quran-data\\.venv\\Lib\\site-packages\\langchain_chroma\\vectorstores.py:1192\u001B[0m, in \u001B[0;36mChroma.from_texts\u001B[1;34m(cls, texts, embedding, metadatas, ids, collection_name, persist_directory, client_settings, client, collection_metadata, **kwargs)\u001B[0m\n\u001B[0;32m   1184\u001B[0m     \u001B[38;5;28;01mfrom\u001B[39;00m\u001B[38;5;250m \u001B[39m\u001B[38;5;21;01mchromadb\u001B[39;00m\u001B[38;5;21;01m.\u001B[39;00m\u001B[38;5;21;01mutils\u001B[39;00m\u001B[38;5;21;01m.\u001B[39;00m\u001B[38;5;21;01mbatch_utils\u001B[39;00m\u001B[38;5;250m \u001B[39m\u001B[38;5;28;01mimport\u001B[39;00m create_batches\n\u001B[0;32m   1186\u001B[0m     \u001B[38;5;28;01mfor\u001B[39;00m batch \u001B[38;5;129;01min\u001B[39;00m create_batches(\n\u001B[0;32m   1187\u001B[0m         api\u001B[38;5;241m=\u001B[39mchroma_collection\u001B[38;5;241m.\u001B[39m_client,\n\u001B[0;32m   1188\u001B[0m         ids\u001B[38;5;241m=\u001B[39mids,\n\u001B[0;32m   1189\u001B[0m         metadatas\u001B[38;5;241m=\u001B[39mmetadatas,  \u001B[38;5;66;03m# type: ignore\u001B[39;00m\n\u001B[0;32m   1190\u001B[0m         documents\u001B[38;5;241m=\u001B[39mtexts,\n\u001B[0;32m   1191\u001B[0m     ):\n\u001B[1;32m-> 1192\u001B[0m         \u001B[43mchroma_collection\u001B[49m\u001B[38;5;241;43m.\u001B[39;49m\u001B[43madd_texts\u001B[49m\u001B[43m(\u001B[49m\n\u001B[0;32m   1193\u001B[0m \u001B[43m            \u001B[49m\u001B[43mtexts\u001B[49m\u001B[38;5;241;43m=\u001B[39;49m\u001B[43mbatch\u001B[49m\u001B[43m[\u001B[49m\u001B[38;5;241;43m3\u001B[39;49m\u001B[43m]\u001B[49m\u001B[43m \u001B[49m\u001B[38;5;28;43;01mif\u001B[39;49;00m\u001B[43m \u001B[49m\u001B[43mbatch\u001B[49m\u001B[43m[\u001B[49m\u001B[38;5;241;43m3\u001B[39;49m\u001B[43m]\u001B[49m\u001B[43m \u001B[49m\u001B[38;5;28;43;01melse\u001B[39;49;00m\u001B[43m \u001B[49m\u001B[43m[\u001B[49m\u001B[43m]\u001B[49m\u001B[43m,\u001B[49m\n\u001B[0;32m   1194\u001B[0m \u001B[43m            \u001B[49m\u001B[43mmetadatas\u001B[49m\u001B[38;5;241;43m=\u001B[39;49m\u001B[43mbatch\u001B[49m\u001B[43m[\u001B[49m\u001B[38;5;241;43m2\u001B[39;49m\u001B[43m]\u001B[49m\u001B[43m \u001B[49m\u001B[38;5;28;43;01mif\u001B[39;49;00m\u001B[43m \u001B[49m\u001B[43mbatch\u001B[49m\u001B[43m[\u001B[49m\u001B[38;5;241;43m2\u001B[39;49m\u001B[43m]\u001B[49m\u001B[43m \u001B[49m\u001B[38;5;28;43;01melse\u001B[39;49;00m\u001B[43m \u001B[49m\u001B[38;5;28;43;01mNone\u001B[39;49;00m\u001B[43m,\u001B[49m\u001B[43m  \u001B[49m\u001B[38;5;66;43;03m# type: ignore\u001B[39;49;00m\n\u001B[0;32m   1195\u001B[0m \u001B[43m            \u001B[49m\u001B[43mids\u001B[49m\u001B[38;5;241;43m=\u001B[39;49m\u001B[43mbatch\u001B[49m\u001B[43m[\u001B[49m\u001B[38;5;241;43m0\u001B[39;49m\u001B[43m]\u001B[49m\u001B[43m,\u001B[49m\n\u001B[0;32m   1196\u001B[0m \u001B[43m        \u001B[49m\u001B[43m)\u001B[49m\n\u001B[0;32m   1197\u001B[0m \u001B[38;5;28;01melse\u001B[39;00m:\n\u001B[0;32m   1198\u001B[0m     chroma_collection\u001B[38;5;241m.\u001B[39madd_texts(texts\u001B[38;5;241m=\u001B[39mtexts, metadatas\u001B[38;5;241m=\u001B[39mmetadatas, ids\u001B[38;5;241m=\u001B[39mids)\n",
      "File \u001B[1;32mC:\\workspace\\python\\islamic-hadist-quran-data\\.venv\\Lib\\site-packages\\langchain_chroma\\vectorstores.py:556\u001B[0m, in \u001B[0;36mChroma.add_texts\u001B[1;34m(self, texts, metadatas, ids, **kwargs)\u001B[0m\n\u001B[0;32m    554\u001B[0m ids_with_metadata \u001B[38;5;241m=\u001B[39m [ids[idx] \u001B[38;5;28;01mfor\u001B[39;00m idx \u001B[38;5;129;01min\u001B[39;00m non_empty_ids]\n\u001B[0;32m    555\u001B[0m \u001B[38;5;28;01mtry\u001B[39;00m:\n\u001B[1;32m--> 556\u001B[0m     \u001B[38;5;28;43mself\u001B[39;49m\u001B[38;5;241;43m.\u001B[39;49m\u001B[43m_collection\u001B[49m\u001B[38;5;241;43m.\u001B[39;49m\u001B[43mupsert\u001B[49m\u001B[43m(\u001B[49m\n\u001B[0;32m    557\u001B[0m \u001B[43m        \u001B[49m\u001B[43mmetadatas\u001B[49m\u001B[38;5;241;43m=\u001B[39;49m\u001B[43mmetadatas\u001B[49m\u001B[43m,\u001B[49m\u001B[43m  \u001B[49m\u001B[38;5;66;43;03m# type: ignore\u001B[39;49;00m\n\u001B[0;32m    558\u001B[0m \u001B[43m        \u001B[49m\u001B[43membeddings\u001B[49m\u001B[38;5;241;43m=\u001B[39;49m\u001B[43membeddings_with_metadatas\u001B[49m\u001B[43m,\u001B[49m\u001B[43m  \u001B[49m\u001B[38;5;66;43;03m# type: ignore\u001B[39;49;00m\n\u001B[0;32m    559\u001B[0m \u001B[43m        \u001B[49m\u001B[43mdocuments\u001B[49m\u001B[38;5;241;43m=\u001B[39;49m\u001B[43mtexts_with_metadatas\u001B[49m\u001B[43m,\u001B[49m\n\u001B[0;32m    560\u001B[0m \u001B[43m        \u001B[49m\u001B[43mids\u001B[49m\u001B[38;5;241;43m=\u001B[39;49m\u001B[43mids_with_metadata\u001B[49m\u001B[43m,\u001B[49m\n\u001B[0;32m    561\u001B[0m \u001B[43m    \u001B[49m\u001B[43m)\u001B[49m\n\u001B[0;32m    562\u001B[0m \u001B[38;5;28;01mexcept\u001B[39;00m \u001B[38;5;167;01mValueError\u001B[39;00m \u001B[38;5;28;01mas\u001B[39;00m e:\n\u001B[0;32m    563\u001B[0m     \u001B[38;5;28;01mif\u001B[39;00m \u001B[38;5;124m\"\u001B[39m\u001B[38;5;124mExpected metadata value to be\u001B[39m\u001B[38;5;124m\"\u001B[39m \u001B[38;5;129;01min\u001B[39;00m \u001B[38;5;28mstr\u001B[39m(e):\n",
      "File \u001B[1;32mC:\\workspace\\python\\islamic-hadist-quran-data\\.venv\\Lib\\site-packages\\chromadb\\api\\models\\Collection.py:344\u001B[0m, in \u001B[0;36mCollection.upsert\u001B[1;34m(self, ids, embeddings, metadatas, documents, images, uris)\u001B[0m\n\u001B[0;32m    324\u001B[0m \u001B[38;5;250m\u001B[39m\u001B[38;5;124;03m\"\"\"Update the embeddings, metadatas or documents for provided ids, or create them if they don't exist.\u001B[39;00m\n\u001B[0;32m    325\u001B[0m \n\u001B[0;32m    326\u001B[0m \u001B[38;5;124;03mArgs:\u001B[39;00m\n\u001B[1;32m   (...)\u001B[0m\n\u001B[0;32m    333\u001B[0m \u001B[38;5;124;03m    None\u001B[39;00m\n\u001B[0;32m    334\u001B[0m \u001B[38;5;124;03m\"\"\"\u001B[39;00m\n\u001B[0;32m    335\u001B[0m upsert_request \u001B[38;5;241m=\u001B[39m \u001B[38;5;28mself\u001B[39m\u001B[38;5;241m.\u001B[39m_validate_and_prepare_upsert_request(\n\u001B[0;32m    336\u001B[0m     ids\u001B[38;5;241m=\u001B[39mids,\n\u001B[0;32m    337\u001B[0m     embeddings\u001B[38;5;241m=\u001B[39membeddings,\n\u001B[1;32m   (...)\u001B[0m\n\u001B[0;32m    341\u001B[0m     uris\u001B[38;5;241m=\u001B[39muris,\n\u001B[0;32m    342\u001B[0m )\n\u001B[1;32m--> 344\u001B[0m \u001B[38;5;28;43mself\u001B[39;49m\u001B[38;5;241;43m.\u001B[39;49m\u001B[43m_client\u001B[49m\u001B[38;5;241;43m.\u001B[39;49m\u001B[43m_upsert\u001B[49m\u001B[43m(\u001B[49m\n\u001B[0;32m    345\u001B[0m \u001B[43m    \u001B[49m\u001B[43mcollection_id\u001B[49m\u001B[38;5;241;43m=\u001B[39;49m\u001B[38;5;28;43mself\u001B[39;49m\u001B[38;5;241;43m.\u001B[39;49m\u001B[43mid\u001B[49m\u001B[43m,\u001B[49m\n\u001B[0;32m    346\u001B[0m \u001B[43m    \u001B[49m\u001B[43mids\u001B[49m\u001B[38;5;241;43m=\u001B[39;49m\u001B[43mupsert_request\u001B[49m\u001B[43m[\u001B[49m\u001B[38;5;124;43m\"\u001B[39;49m\u001B[38;5;124;43mids\u001B[39;49m\u001B[38;5;124;43m\"\u001B[39;49m\u001B[43m]\u001B[49m\u001B[43m,\u001B[49m\n\u001B[0;32m    347\u001B[0m \u001B[43m    \u001B[49m\u001B[43membeddings\u001B[49m\u001B[38;5;241;43m=\u001B[39;49m\u001B[43mupsert_request\u001B[49m\u001B[43m[\u001B[49m\u001B[38;5;124;43m\"\u001B[39;49m\u001B[38;5;124;43membeddings\u001B[39;49m\u001B[38;5;124;43m\"\u001B[39;49m\u001B[43m]\u001B[49m\u001B[43m,\u001B[49m\n\u001B[0;32m    348\u001B[0m \u001B[43m    \u001B[49m\u001B[43mmetadatas\u001B[49m\u001B[38;5;241;43m=\u001B[39;49m\u001B[43mupsert_request\u001B[49m\u001B[43m[\u001B[49m\u001B[38;5;124;43m\"\u001B[39;49m\u001B[38;5;124;43mmetadatas\u001B[39;49m\u001B[38;5;124;43m\"\u001B[39;49m\u001B[43m]\u001B[49m\u001B[43m,\u001B[49m\n\u001B[0;32m    349\u001B[0m \u001B[43m    \u001B[49m\u001B[43mdocuments\u001B[49m\u001B[38;5;241;43m=\u001B[39;49m\u001B[43mupsert_request\u001B[49m\u001B[43m[\u001B[49m\u001B[38;5;124;43m\"\u001B[39;49m\u001B[38;5;124;43mdocuments\u001B[39;49m\u001B[38;5;124;43m\"\u001B[39;49m\u001B[43m]\u001B[49m\u001B[43m,\u001B[49m\n\u001B[0;32m    350\u001B[0m \u001B[43m    \u001B[49m\u001B[43muris\u001B[49m\u001B[38;5;241;43m=\u001B[39;49m\u001B[43mupsert_request\u001B[49m\u001B[43m[\u001B[49m\u001B[38;5;124;43m\"\u001B[39;49m\u001B[38;5;124;43muris\u001B[39;49m\u001B[38;5;124;43m\"\u001B[39;49m\u001B[43m]\u001B[49m\u001B[43m,\u001B[49m\n\u001B[0;32m    351\u001B[0m \u001B[43m    \u001B[49m\u001B[43mtenant\u001B[49m\u001B[38;5;241;43m=\u001B[39;49m\u001B[38;5;28;43mself\u001B[39;49m\u001B[38;5;241;43m.\u001B[39;49m\u001B[43mtenant\u001B[49m\u001B[43m,\u001B[49m\n\u001B[0;32m    352\u001B[0m \u001B[43m    \u001B[49m\u001B[43mdatabase\u001B[49m\u001B[38;5;241;43m=\u001B[39;49m\u001B[38;5;28;43mself\u001B[39;49m\u001B[38;5;241;43m.\u001B[39;49m\u001B[43mdatabase\u001B[49m\u001B[43m,\u001B[49m\n\u001B[0;32m    353\u001B[0m \u001B[43m\u001B[49m\u001B[43m)\u001B[49m\n",
      "File \u001B[1;32mC:\\workspace\\python\\islamic-hadist-quran-data\\.venv\\Lib\\site-packages\\chromadb\\telemetry\\opentelemetry\\__init__.py:150\u001B[0m, in \u001B[0;36mtrace_method.<locals>.decorator.<locals>.wrapper\u001B[1;34m(*args, **kwargs)\u001B[0m\n\u001B[0;32m    148\u001B[0m \u001B[38;5;28;01mglobal\u001B[39;00m tracer, granularity\n\u001B[0;32m    149\u001B[0m \u001B[38;5;28;01mif\u001B[39;00m trace_granularity \u001B[38;5;241m<\u001B[39m granularity:\n\u001B[1;32m--> 150\u001B[0m     \u001B[38;5;28;01mreturn\u001B[39;00m \u001B[43mf\u001B[49m\u001B[43m(\u001B[49m\u001B[38;5;241;43m*\u001B[39;49m\u001B[43margs\u001B[49m\u001B[43m,\u001B[49m\u001B[43m \u001B[49m\u001B[38;5;241;43m*\u001B[39;49m\u001B[38;5;241;43m*\u001B[39;49m\u001B[43mkwargs\u001B[49m\u001B[43m)\u001B[49m\n\u001B[0;32m    151\u001B[0m \u001B[38;5;28;01mif\u001B[39;00m \u001B[38;5;129;01mnot\u001B[39;00m tracer:\n\u001B[0;32m    152\u001B[0m     \u001B[38;5;28;01mreturn\u001B[39;00m f(\u001B[38;5;241m*\u001B[39margs, \u001B[38;5;241m*\u001B[39m\u001B[38;5;241m*\u001B[39mkwargs)\n",
      "File \u001B[1;32mC:\\workspace\\python\\islamic-hadist-quran-data\\.venv\\Lib\\site-packages\\chromadb\\api\\segment.py:103\u001B[0m, in \u001B[0;36mrate_limit.<locals>.wrapper\u001B[1;34m(*args, **kwargs)\u001B[0m\n\u001B[0;32m    100\u001B[0m \u001B[38;5;129m@wraps\u001B[39m(func)\n\u001B[0;32m    101\u001B[0m \u001B[38;5;28;01mdef\u001B[39;00m\u001B[38;5;250m \u001B[39m\u001B[38;5;21mwrapper\u001B[39m(\u001B[38;5;241m*\u001B[39margs: Any, \u001B[38;5;241m*\u001B[39m\u001B[38;5;241m*\u001B[39mkwargs: Any) \u001B[38;5;241m-\u001B[39m\u001B[38;5;241m>\u001B[39m Any:\n\u001B[0;32m    102\u001B[0m     \u001B[38;5;28mself\u001B[39m \u001B[38;5;241m=\u001B[39m args[\u001B[38;5;241m0\u001B[39m]\n\u001B[1;32m--> 103\u001B[0m     \u001B[38;5;28;01mreturn\u001B[39;00m \u001B[38;5;28;43mself\u001B[39;49m\u001B[38;5;241;43m.\u001B[39;49m\u001B[43m_rate_limit_enforcer\u001B[49m\u001B[38;5;241;43m.\u001B[39;49m\u001B[43mrate_limit\u001B[49m\u001B[43m(\u001B[49m\u001B[43mfunc\u001B[49m\u001B[43m)\u001B[49m\u001B[43m(\u001B[49m\u001B[38;5;241;43m*\u001B[39;49m\u001B[43margs\u001B[49m\u001B[43m,\u001B[49m\u001B[43m \u001B[49m\u001B[38;5;241;43m*\u001B[39;49m\u001B[38;5;241;43m*\u001B[39;49m\u001B[43mkwargs\u001B[49m\u001B[43m)\u001B[49m\n",
      "File \u001B[1;32mC:\\workspace\\python\\islamic-hadist-quran-data\\.venv\\Lib\\site-packages\\chromadb\\rate_limit\\simple_rate_limit\\__init__.py:24\u001B[0m, in \u001B[0;36mSimpleRateLimitEnforcer.rate_limit.<locals>.wrapper\u001B[1;34m(*args, **kwargs)\u001B[0m\n\u001B[0;32m     22\u001B[0m \u001B[38;5;129m@wraps\u001B[39m(func)\n\u001B[0;32m     23\u001B[0m \u001B[38;5;28;01mdef\u001B[39;00m\u001B[38;5;250m \u001B[39m\u001B[38;5;21mwrapper\u001B[39m(\u001B[38;5;241m*\u001B[39margs: Any, \u001B[38;5;241m*\u001B[39m\u001B[38;5;241m*\u001B[39mkwargs: Any) \u001B[38;5;241m-\u001B[39m\u001B[38;5;241m>\u001B[39m Any:\n\u001B[1;32m---> 24\u001B[0m     \u001B[38;5;28;01mreturn\u001B[39;00m \u001B[43mfunc\u001B[49m\u001B[43m(\u001B[49m\u001B[38;5;241;43m*\u001B[39;49m\u001B[43margs\u001B[49m\u001B[43m,\u001B[49m\u001B[43m \u001B[49m\u001B[38;5;241;43m*\u001B[39;49m\u001B[38;5;241;43m*\u001B[39;49m\u001B[43mkwargs\u001B[49m\u001B[43m)\u001B[49m\n",
      "File \u001B[1;32mC:\\workspace\\python\\islamic-hadist-quran-data\\.venv\\Lib\\site-packages\\chromadb\\api\\segment.py:552\u001B[0m, in \u001B[0;36mSegmentAPI._upsert\u001B[1;34m(self, collection_id, ids, embeddings, metadatas, documents, uris, tenant, database)\u001B[0m\n\u001B[0;32m    538\u001B[0m validate_batch(\n\u001B[0;32m    539\u001B[0m     (ids, embeddings, metadatas, documents, uris),\n\u001B[0;32m    540\u001B[0m     {\u001B[38;5;124m\"\u001B[39m\u001B[38;5;124mmax_batch_size\u001B[39m\u001B[38;5;124m\"\u001B[39m: \u001B[38;5;28mself\u001B[39m\u001B[38;5;241m.\u001B[39mget_max_batch_size()},\n\u001B[0;32m    541\u001B[0m )\n\u001B[0;32m    542\u001B[0m records_to_submit \u001B[38;5;241m=\u001B[39m \u001B[38;5;28mlist\u001B[39m(\n\u001B[0;32m    543\u001B[0m     _records(\n\u001B[0;32m    544\u001B[0m         t\u001B[38;5;241m.\u001B[39mOperation\u001B[38;5;241m.\u001B[39mUPSERT,\n\u001B[1;32m   (...)\u001B[0m\n\u001B[0;32m    550\u001B[0m     )\n\u001B[0;32m    551\u001B[0m )\n\u001B[1;32m--> 552\u001B[0m \u001B[38;5;28;43mself\u001B[39;49m\u001B[38;5;241;43m.\u001B[39;49m\u001B[43m_validate_embedding_record_set\u001B[49m\u001B[43m(\u001B[49m\u001B[43mcoll\u001B[49m\u001B[43m,\u001B[49m\u001B[43m \u001B[49m\u001B[43mrecords_to_submit\u001B[49m\u001B[43m)\u001B[49m\n\u001B[0;32m    554\u001B[0m \u001B[38;5;28mself\u001B[39m\u001B[38;5;241m.\u001B[39m_quota_enforcer\u001B[38;5;241m.\u001B[39menforce(\n\u001B[0;32m    555\u001B[0m     action\u001B[38;5;241m=\u001B[39mAction\u001B[38;5;241m.\u001B[39mUPSERT,\n\u001B[0;32m    556\u001B[0m     tenant\u001B[38;5;241m=\u001B[39mtenant,\n\u001B[1;32m   (...)\u001B[0m\n\u001B[0;32m    561\u001B[0m     uris\u001B[38;5;241m=\u001B[39muris,\n\u001B[0;32m    562\u001B[0m )\n\u001B[0;32m    564\u001B[0m \u001B[38;5;28mself\u001B[39m\u001B[38;5;241m.\u001B[39m_producer\u001B[38;5;241m.\u001B[39msubmit_embeddings(collection_id, records_to_submit)\n",
      "File \u001B[1;32mC:\\workspace\\python\\islamic-hadist-quran-data\\.venv\\Lib\\site-packages\\chromadb\\telemetry\\opentelemetry\\__init__.py:150\u001B[0m, in \u001B[0;36mtrace_method.<locals>.decorator.<locals>.wrapper\u001B[1;34m(*args, **kwargs)\u001B[0m\n\u001B[0;32m    148\u001B[0m \u001B[38;5;28;01mglobal\u001B[39;00m tracer, granularity\n\u001B[0;32m    149\u001B[0m \u001B[38;5;28;01mif\u001B[39;00m trace_granularity \u001B[38;5;241m<\u001B[39m granularity:\n\u001B[1;32m--> 150\u001B[0m     \u001B[38;5;28;01mreturn\u001B[39;00m \u001B[43mf\u001B[49m\u001B[43m(\u001B[49m\u001B[38;5;241;43m*\u001B[39;49m\u001B[43margs\u001B[49m\u001B[43m,\u001B[49m\u001B[43m \u001B[49m\u001B[38;5;241;43m*\u001B[39;49m\u001B[38;5;241;43m*\u001B[39;49m\u001B[43mkwargs\u001B[49m\u001B[43m)\u001B[49m\n\u001B[0;32m    151\u001B[0m \u001B[38;5;28;01mif\u001B[39;00m \u001B[38;5;129;01mnot\u001B[39;00m tracer:\n\u001B[0;32m    152\u001B[0m     \u001B[38;5;28;01mreturn\u001B[39;00m f(\u001B[38;5;241m*\u001B[39margs, \u001B[38;5;241m*\u001B[39m\u001B[38;5;241m*\u001B[39mkwargs)\n",
      "File \u001B[1;32mC:\\workspace\\python\\islamic-hadist-quran-data\\.venv\\Lib\\site-packages\\chromadb\\api\\segment.py:879\u001B[0m, in \u001B[0;36mSegmentAPI._validate_embedding_record_set\u001B[1;34m(self, collection, records)\u001B[0m\n\u001B[0;32m    877\u001B[0m \u001B[38;5;28;01mfor\u001B[39;00m record \u001B[38;5;129;01min\u001B[39;00m records:\n\u001B[0;32m    878\u001B[0m     \u001B[38;5;28;01mif\u001B[39;00m record[\u001B[38;5;124m\"\u001B[39m\u001B[38;5;124membedding\u001B[39m\u001B[38;5;124m\"\u001B[39m] \u001B[38;5;129;01mis\u001B[39;00m \u001B[38;5;129;01mnot\u001B[39;00m \u001B[38;5;28;01mNone\u001B[39;00m:\n\u001B[1;32m--> 879\u001B[0m         \u001B[38;5;28;43mself\u001B[39;49m\u001B[38;5;241;43m.\u001B[39;49m\u001B[43m_validate_dimension\u001B[49m\u001B[43m(\u001B[49m\n\u001B[0;32m    880\u001B[0m \u001B[43m            \u001B[49m\u001B[43mcollection\u001B[49m\u001B[43m,\u001B[49m\u001B[43m \u001B[49m\u001B[38;5;28;43mlen\u001B[39;49m\u001B[43m(\u001B[49m\u001B[43mrecord\u001B[49m\u001B[43m[\u001B[49m\u001B[38;5;124;43m\"\u001B[39;49m\u001B[38;5;124;43membedding\u001B[39;49m\u001B[38;5;124;43m\"\u001B[39;49m\u001B[43m]\u001B[49m\u001B[43m)\u001B[49m\u001B[43m,\u001B[49m\u001B[43m \u001B[49m\u001B[43mupdate\u001B[49m\u001B[38;5;241;43m=\u001B[39;49m\u001B[38;5;28;43;01mTrue\u001B[39;49;00m\n\u001B[0;32m    881\u001B[0m \u001B[43m        \u001B[49m\u001B[43m)\u001B[49m\n",
      "File \u001B[1;32mC:\\workspace\\python\\islamic-hadist-quran-data\\.venv\\Lib\\site-packages\\chromadb\\api\\segment.py:896\u001B[0m, in \u001B[0;36mSegmentAPI._validate_dimension\u001B[1;34m(self, collection, dim, update)\u001B[0m\n\u001B[0;32m    894\u001B[0m         collection[\u001B[38;5;124m\"\u001B[39m\u001B[38;5;124mdimension\u001B[39m\u001B[38;5;124m\"\u001B[39m] \u001B[38;5;241m=\u001B[39m dim\n\u001B[0;32m    895\u001B[0m \u001B[38;5;28;01melif\u001B[39;00m collection[\u001B[38;5;124m\"\u001B[39m\u001B[38;5;124mdimension\u001B[39m\u001B[38;5;124m\"\u001B[39m] \u001B[38;5;241m!=\u001B[39m dim:\n\u001B[1;32m--> 896\u001B[0m     \u001B[38;5;28;01mraise\u001B[39;00m InvalidDimensionException(\n\u001B[0;32m    897\u001B[0m         \u001B[38;5;124mf\u001B[39m\u001B[38;5;124m\"\u001B[39m\u001B[38;5;124mEmbedding dimension \u001B[39m\u001B[38;5;132;01m{\u001B[39;00mdim\u001B[38;5;132;01m}\u001B[39;00m\u001B[38;5;124m does not match collection dimensionality \u001B[39m\u001B[38;5;132;01m{\u001B[39;00mcollection[\u001B[38;5;124m'\u001B[39m\u001B[38;5;124mdimension\u001B[39m\u001B[38;5;124m'\u001B[39m]\u001B[38;5;132;01m}\u001B[39;00m\u001B[38;5;124m\"\u001B[39m\n\u001B[0;32m    898\u001B[0m     )\n\u001B[0;32m    899\u001B[0m \u001B[38;5;28;01melse\u001B[39;00m:\n\u001B[0;32m    900\u001B[0m     \u001B[38;5;28;01mreturn\u001B[39;00m\n",
      "\u001B[1;31mInvalidDimensionException\u001B[0m: Embedding dimension 384 does not match collection dimensionality 1536"
     ]
    }
   ],
   "execution_count": 31
  },
  {
   "metadata": {
    "ExecuteTime": {
     "end_time": "2025-02-17T13:42:57.930608Z",
     "start_time": "2025-02-17T13:42:46.193923Z"
    }
   },
   "cell_type": "code",
   "source": "db_hadith = Chroma.from_texts(texts=texts, metadatas=metadatas, embedding=OpenAIEmbeddings())",
   "id": "9fb7c23656b4c4ea",
   "outputs": [],
   "execution_count": 26
  },
  {
   "metadata": {
    "ExecuteTime": {
     "end_time": "2025-02-17T14:25:33.195209Z",
     "start_time": "2025-02-17T14:25:32.336428Z"
    }
   },
   "cell_type": "code",
   "source": [
    "query = \"Tata cara sholat\"\n",
    "docs = db_hadith.similarity_search(query, k=10)\n",
    "docs"
   ],
   "id": "2c70b519580f7d6a",
   "outputs": [
    {
     "data": {
      "text/plain": [
       "[Document(id='a90c595f-7921-406a-9882-f08dad2371d4', metadata={'arabic': 'إِذا قَامَ أحدكُم من اللَّيْل فليفتتح صلَاته بِرَكْعَتَيْنِ خفيفتين', 'hadith_no': '768', 'id': 118, 'narrator': 'Abu Hurairah', 'source': 'Shahih Muslim', 'translate_id': '“Jika kalian bangun shalat malam, mulailah dengan shalat dua rakaat yang ringan”'}, page_content='“Jika kalian bangun shalat malam, mulailah dengan shalat dua rakaat yang ringan”'),\n",
       " Document(id='e07843d9-736d-490f-8e6e-a82c7a0748b6', metadata={'arabic': 'إِنِّي لَأَدْخُلُ فِي الصَّلاَةِ وَأَنَا أُرِيدُ إِطَالَتَهَا، فَأَسْمَعُ بُكَاءَ الصَّبِيِّ، فَأَتَجَوَّزُ فِي صَلاَتِي مِمَّا أَعْلَمُ مِنْ شِدَّةِ وَجْدِ أُمِّهِ مِنْ بُكَائِهِ', 'hadith_no': '709', 'id': 660, 'narrator': 'Anas bin Malik', 'source': 'Shahih Al Bukhari', 'translate_id': '“Aku pernah mengimami shalat dan aku berniat untuk memperpanjang shalat tersebut. Namun aku mendengar tangisan anak kecil. Maka aku ringkas shalat tersebut karena aku memahami betapa berat perasaan ibunya karena tangisan anaknya”'}, page_content='“Aku pernah mengimami shalat dan aku berniat untuk memperpanjang shalat tersebut. Namun aku mendengar tangisan anak kecil. Maka aku ringkas shalat tersebut karena aku memahami betapa berat perasaan ibunya karena tangisan anaknya”'),\n",
       " Document(id='35c2a647-3460-4d44-94ec-90e42f56355f', metadata={'arabic': 'إنِّي لأَدْخُلُ الصَّلاةَ أُرِيدُ إطالَتَها فأسْمَعُ بُكاءَ الصَّبِيِّ، فَأُخَفِّفُ مِن شِدَّةِ وجْدِ أُمِّهِ بهِ', 'hadith_no': '470', 'id': 659, 'narrator': 'Anas bin Malik', 'source': 'Shahih Muslim', 'translate_id': '“Aku pernah mengimami shalat dan aku berniat untuk memperpanjang shalat tersebut. Namun aku mendengar tangisan anak kecil. Maka aku ringkas shalat tersebut karena aku memahami betapa berat perasaan ibunya”'}, page_content='“Aku pernah mengimami shalat dan aku berniat untuk memperpanjang shalat tersebut. Namun aku mendengar tangisan anak kecil. Maka aku ringkas shalat tersebut karena aku memahami betapa berat perasaan ibunya”'),\n",
       " Document(id='dfe676b5-5bac-4646-a552-5f1875842f7e', metadata={'arabic': 'قُلْت لِأَبِي يَا أَبَتِ إنَّكَ قَدْ صَلَّيْتَ خَلْفَ رَسُولِ اللَّهِ صَلَّى اللَّهُ عَلَيْهِ وَسَلَّمَ وَأَبِي بَكْرٍ وَعُمَرَ وَعُثْمَانَ وَعَلِيٍّ بِالْكُوفَةِ نَحْوًا مِنْ خَمْسِ سِنِينَ أَكَانُوا يَقْنُتُونَ فِي الْفَجْرِ ؟ قَالَ : أَيْ بُنَيَّ مُحْدَثٌ', 'hadith_no': '1033', 'id': 114, 'narrator': \"Abu Malik Al Asyja'i\", 'source': 'Shahih Ibnu Majah', 'translate_id': '“Abu Malik berkata: ‘Wahai ayah, engkau pernah shalat menjadi makmum Nabi Shallallahu’alaihi Wassallam, Abu Bakar, Umar, Utsman dan Ali di kufah selama kurang lebih 5 tahun. Apakah mereka membaca qunut di shalat shubuh?’. Ayahku berkata: ‘Wahai anakku, itu perkara baru dalam agama’.”'}, page_content='“Abu Malik berkata: ‘Wahai ayah, engkau pernah shalat menjadi makmum Nabi Shallallahu’alaihi Wassallam, Abu Bakar, Umar, Utsman dan Ali di kufah selama kurang lebih 5 tahun. Apakah mereka membaca qunut di shalat shubuh?’. Ayahku berkata: ‘Wahai anakku, itu perkara baru dalam agama’.”'),\n",
       " Document(id='821bb239-dd42-43a8-8d5f-cb6d3193b063', metadata={'arabic': 'رَأَى رَسُولَ اللَّهِ صَلَّى اللَّهُ عَلَيْهِ وَسَلَّمَ فِي أَصْحَابِهِ تَأَخُّرًا فَقَالَ لَهُمْ : ( تَقَدَّمُوا وَأْتَمُّوا بِي ، وَلْيَأْتَمَّ بِكُمْ مَنْ بَعْدَكُمْ ، لَا يَزَالُ قَوْمٌ يَتَأَخَّرُونَ حَتَّى يؤخرهم الله )', 'hadith_no': '438', 'id': 748, 'narrator': \"Abu Sa'id Al Khudri\", 'source': 'Shahih Muslim', 'translate_id': '“Rasulullah Shalallahu’alaihi Wasallam melihat sebagian sahabatnya berlambat-lambat untuk shalat. Lalu beliau bersabda: ‘Bersegeralah kalian untuk shalat dan sempurnakanlah shalat bersamaku (jangan masbuk). Sehingga orang-orang yang datang setelah kalian juga bisa menyempurnakan shalatnya. Orang yang senantiasa berlambat-lambat untuk shalat sungguh Allah akan akhirkan (semua kebaikan) untuknya”'}, page_content='“Rasulullah Shalallahu’alaihi Wasallam melihat sebagian sahabatnya berlambat-lambat untuk shalat. Lalu beliau bersabda: ‘Bersegeralah kalian untuk shalat dan sempurnakanlah shalat bersamaku (jangan masbuk). Sehingga orang-orang yang datang setelah kalian juga bisa menyempurnakan shalatnya. Orang yang senantiasa berlambat-lambat untuk shalat sungguh Allah akan akhirkan (semua kebaikan) untuknya”'),\n",
       " Document(id='9e1d8b15-d194-4976-bea0-acd478c5d3ff', metadata={'arabic': 'كَانَ رَسُول الله صَلَّى اللَّهُ عَلَيْهِ وَسَلَّمَ إِذا قَامَ من اللَّيْل ليُصَلِّي افْتتح صلَاته بِرَكْعَتَيْنِ خفيفتين', 'hadith_no': '767', 'id': 119, 'narrator': 'Aisyah', 'source': 'Shahih Muslim', 'translate_id': '“Rasulullah shallallahu‘alaihi wasallam ketika shalat malam, beliau memulainya dengan shalat dua rakaat yang ringan”'}, page_content='“Rasulullah shallallahu‘alaihi wasallam ketika shalat malam, beliau memulainya dengan shalat dua rakaat yang ringan”'),\n",
       " Document(id='61005cf1-98ad-4ab7-90bf-5349a5e0d1c8', metadata={'arabic': 'إنَّ أوَّلَ ما يحاسبُ بِه العبدُ يومَ القيامةِ من عملِه صلاتُه فإن صلحت فقد أفلحَ وأنجحَ وإن فسدت فقد خابَ وخسرَ فإن انتقصَ من فريضة شيئًا قالَ الرَّبُّ تبارك وتعالى انظروا هل لعبدي من تطوُّعٍ فيُكمَّلَ بِها ما أنتقصَ منَ الفريضةِ ثمَّ يَكونُ سائرُ عملِه علَى ذلِك', 'hadith_no': '413', 'id': 606, 'narrator': 'Abu Hurairah', 'source': 'Shahih At Tirmidzi', 'translate_id': '“Sesungguhnya amalan yang pertama kali dihisab dari seorang hamba di hari kiamat adalah shalatnya. Jika shalatnya baik maka ia akan beruntung dan selamat. Namun jika shalat rusak maka ia akan celaka dan merugi. Jika ada sesuatu yang kurang dari shalat-shalat wajibnya, maka Rabb tabaraka wa ta\\'ala ketika itu akan berfirman: \"lihatlah apakah hamba-Ku ini memiliki shalat sunnah?\". Ketika itu disempurnakanlah kekurangan shalat wajibnya dengan shalat sunnah. Dan amalan-amalan yang lain pun demikian”'}, page_content='“Sesungguhnya amalan yang pertama kali dihisab dari seorang hamba di hari kiamat adalah shalatnya. Jika shalatnya baik maka ia akan beruntung dan selamat. Namun jika shalat rusak maka ia akan celaka dan merugi. Jika ada sesuatu yang kurang dari shalat-shalat wajibnya, maka Rabb tabaraka wa ta\\'ala ketika itu akan berfirman: \"lihatlah apakah hamba-Ku ini memiliki shalat sunnah?\". Ketika itu disempurnakanlah kekurangan shalat wajibnya dengan shalat sunnah. Dan amalan-amalan yang lain pun demikian”'),\n",
       " Document(id='5a084a6f-661e-4882-8316-1e04c5756232', metadata={'arabic': 'إِذَا سَمِعْتُمُ الإقَامَةَ، فَامْشُوا إلى الصَّلَاةِ وعلَيْكُم بالسَّكِينَةِ والوَقَارِ، ولَا تُسْرِعُوا، فَما أدْرَكْتُمْ فَصَلُّوا، وما فَاتَكُمْ فأتِمُّوا', 'hadith_no': '636', 'id': 758, 'narrator': 'Abu Hurairah', 'source': 'Shahih Al Bukhari', 'translate_id': '“Jika kalian mendengar iqamah sudah dikumandangkan, maka berjalanlah menuju shalat dan hendaknya kalian berjalan dengan tenang dan berwibawa. Serta janganlah tergesa-gesa. Apa yang kalian dapatkan dari shalat maka ikutilah, dan apa yang terluput maka sempurnakanlah”'}, page_content='“Jika kalian mendengar iqamah sudah dikumandangkan, maka berjalanlah menuju shalat dan hendaknya kalian berjalan dengan tenang dan berwibawa. Serta janganlah tergesa-gesa. Apa yang kalian dapatkan dari shalat maka ikutilah, dan apa yang terluput maka sempurnakanlah”'),\n",
       " Document(id='ba7acb24-03bf-4cb1-b1c7-5c8e714a68a0', metadata={'arabic': 'كُنَّا مع بُرَيْدَةَ في يَومٍ ذِي غَيْمٍ، فَقَالَ: بَكِّرُوا بالصَّلَاةِ، فإنَّ النبيَّ صَلَّى اللهُ عليه وسلَّمَ قَالَ: مَن تَرَكَ صَلَاةَ العَصْرِ حَبِطَ عَمَلُهُ', 'hadith_no': '594', 'id': 354, 'narrator': 'Buraidah bin Al Hashib Al Aslami', 'source': 'Shahih Al Bukhari', 'translate_id': \"“Dahulu kami bersama Buraidah pada suatu hari yang mendung. Beliau berkata: Bersegeralah untuk melakukan shalat. Karena Nabi Shallallahu'alaihi Wasallam bersabda: siapa yang meninggalkan shalat ashar, akan terhapus semua amalannya”\"}, page_content=\"“Dahulu kami bersama Buraidah pada suatu hari yang mendung. Beliau berkata: Bersegeralah untuk melakukan shalat. Karena Nabi Shallallahu'alaihi Wasallam bersabda: siapa yang meninggalkan shalat ashar, akan terhapus semua amalannya”\"),\n",
       " Document(id='e4f78d32-227c-4407-a7f5-4829ba8c3bf5', metadata={'arabic': 'إنَّ أَثْقَلَ صَلَاةٍ علَى المُنَافِقِينَ صَلَاةُ العِشَاءِ، وَصَلَاةُ الفَجْرِ، ولو يَعْلَمُونَ ما فِيهِما لأَتَوْهُما ولو حَبْوًا، وَلقَدْ هَمَمْتُ أَنْ آمُرَ بالصَّلَاةِ، فَتُقَامَ، ثُمَّ آمُرَ رَجُلًا فيُصَلِّيَ بالنَّاسِ، ثُمَّ أَنْطَلِقَ مَعِي برِجَالٍ معهُمْ حُزَمٌ مِن حَطَبٍ إلى قَوْمٍ لا يَشْهَدُونَ الصَّلَاةَ، فَأُحَرِّقَ عليهم بُيُوتَهُمْ بالنَّارِ', 'hadith_no': '651', 'id': 603, 'narrator': 'Abu Hurairah', 'source': 'Shahih Muslim', 'translate_id': \"“Shalat yang paling berat bagi orang munafik adalah shalat isya dan shalat subuh. Andai mereka mengetahui keutamaan yang ada pada keduanya sungguh mereka akan mendatanginya walaupun dengan merangkak. Sungguh aku benar-benar berniat untuk memerintahkan orang-orang shalat di masjid, kemudian memerintahkan seseorang untuk menjadi imam, lalu aku bersama beberapa orang pergi membawa kayu bakar menuju rumah-rumah orang yang tidak menghadiri shalat jama'ah lalu aku bakar rumahnya dengan api.”\"}, page_content=\"“Shalat yang paling berat bagi orang munafik adalah shalat isya dan shalat subuh. Andai mereka mengetahui keutamaan yang ada pada keduanya sungguh mereka akan mendatanginya walaupun dengan merangkak. Sungguh aku benar-benar berniat untuk memerintahkan orang-orang shalat di masjid, kemudian memerintahkan seseorang untuk menjadi imam, lalu aku bersama beberapa orang pergi membawa kayu bakar menuju rumah-rumah orang yang tidak menghadiri shalat jama'ah lalu aku bakar rumahnya dengan api.”\")]"
      ]
     },
     "execution_count": 27,
     "metadata": {},
     "output_type": "execute_result"
    }
   ],
   "execution_count": 27
  },
  {
   "metadata": {},
   "cell_type": "code",
   "outputs": [],
   "execution_count": null,
   "source": "",
   "id": "218eda4a79e92523"
  }
 ],
 "metadata": {
  "kernelspec": {
   "display_name": "Python 3",
   "language": "python",
   "name": "python3"
  },
  "language_info": {
   "codemirror_mode": {
    "name": "ipython",
    "version": 2
   },
   "file_extension": ".py",
   "mimetype": "text/x-python",
   "name": "python",
   "nbconvert_exporter": "python",
   "pygments_lexer": "ipython2",
   "version": "2.7.6"
  }
 },
 "nbformat": 4,
 "nbformat_minor": 5
}
